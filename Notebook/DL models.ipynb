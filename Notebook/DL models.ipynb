{
  "cells": [
    {
      "cell_type": "code",
      "execution_count": 6,
      "metadata": {
        "id": "s7o1mx_ZM1Uw"
      },
      "outputs": [],
      "source": [
        "folder = \"D:\\\\VSCODE\\\\EmotionsRecognition\\\\\""
      ]
    },
    {
      "cell_type": "markdown",
      "metadata": {
        "id": "PhKKDlD1AXFh"
      },
      "source": [
        "# Thư viện"
      ]
    },
    {
      "cell_type": "code",
      "execution_count": 46,
      "metadata": {
        "id": "eC2HVLcq1bXi"
      },
      "outputs": [],
      "source": [
        "import pandas as pd\n",
        "import numpy as np\n",
        "import matplotlib.pyplot as plt\n",
        "import seaborn as sns\n",
        "\n",
        "import pickle\n",
        "import re\n",
        "import copy\n",
        "import gensim\n",
        "import emoji\n",
        "import joblib\n",
        "from pyvi import ViTokenizer, ViPosTagger\n",
        "from sklearn.model_selection import train_test_split\n",
        "from sklearn.metrics import accuracy_score, classification_report\n",
        "from sklearn.feature_extraction.text import TfidfVectorizer\n",
        "from sklearn.pipeline import Pipeline\n",
        "from sklearn.model_selection import KFold"
      ]
    },
    {
      "cell_type": "code",
      "execution_count": 24,
      "metadata": {
        "id": "KLojxf_k1h6w"
      },
      "outputs": [],
      "source": [
        "train = pd.read_excel(r'../Data/train.xlsx', index_col=0)\n",
        "test = pd.read_excel(r'../Data/test.xlsx', index_col=0)"
      ]
    },
    {
      "cell_type": "code",
      "execution_count": 25,
      "metadata": {
        "colab": {
          "base_uri": "https://localhost:8080/",
          "height": 423
        },
        "id": "XeYlj7VJ1rm3",
        "outputId": "2a1222a9-dea6-4a03-ab33-fd44da90bf66"
      },
      "outputs": [
        {
          "data": {
            "text/html": [
              "<div>\n",
              "<style scoped>\n",
              "    .dataframe tbody tr th:only-of-type {\n",
              "        vertical-align: middle;\n",
              "    }\n",
              "\n",
              "    .dataframe tbody tr th {\n",
              "        vertical-align: top;\n",
              "    }\n",
              "\n",
              "    .dataframe thead th {\n",
              "        text-align: right;\n",
              "    }\n",
              "</style>\n",
              "<table border=\"1\" class=\"dataframe\">\n",
              "  <thead>\n",
              "    <tr style=\"text-align: right;\">\n",
              "      <th></th>\n",
              "      <th>Emotion</th>\n",
              "      <th>Sentence</th>\n",
              "    </tr>\n",
              "  </thead>\n",
              "  <tbody>\n",
              "    <tr>\n",
              "      <th>188</th>\n",
              "      <td>Other</td>\n",
              "      <td>cho mình xin bài nhạc tên là gì với ạ</td>\n",
              "    </tr>\n",
              "    <tr>\n",
              "      <th>166</th>\n",
              "      <td>Disgust</td>\n",
              "      <td>cho đáng đời con quỷ . về nhà lôi con nhà mày ...</td>\n",
              "    </tr>\n",
              "    <tr>\n",
              "      <th>1345</th>\n",
              "      <td>Disgust</td>\n",
              "      <td>lo học đi . yêu đương lol gì hay lại thích học...</td>\n",
              "    </tr>\n",
              "    <tr>\n",
              "      <th>316</th>\n",
              "      <td>Enjoyment</td>\n",
              "      <td>uớc gì sau này về già vẫn có thể như cụ này :))</td>\n",
              "    </tr>\n",
              "    <tr>\n",
              "      <th>1225</th>\n",
              "      <td>Enjoyment</td>\n",
              "      <td>mỗi lần có video của con là cứ coi đi coi lại ...</td>\n",
              "    </tr>\n",
              "    <tr>\n",
              "      <th>...</th>\n",
              "      <td>...</td>\n",
              "      <td>...</td>\n",
              "    </tr>\n",
              "    <tr>\n",
              "      <th>1332</th>\n",
              "      <td>Disgust</td>\n",
              "      <td>đường của nhà cụ hay sao mà cụ cấm người ta đỗ...</td>\n",
              "    </tr>\n",
              "    <tr>\n",
              "      <th>825</th>\n",
              "      <td>Other</td>\n",
              "      <td>nhìn mặt héo queo luôn</td>\n",
              "    </tr>\n",
              "    <tr>\n",
              "      <th>165</th>\n",
              "      <td>Other</td>\n",
              "      <td>tao đi xe máy mỗi lần muốn để xe đi đâu là phi...</td>\n",
              "    </tr>\n",
              "    <tr>\n",
              "      <th>363</th>\n",
              "      <td>Enjoyment</td>\n",
              "      <td>thích thân hình boss rồi nhan 😌</td>\n",
              "    </tr>\n",
              "    <tr>\n",
              "      <th>1242</th>\n",
              "      <td>Sadness</td>\n",
              "      <td>ước mơ nhỏ nhoi của tao là được làm chị mà khô...</td>\n",
              "    </tr>\n",
              "  </tbody>\n",
              "</table>\n",
              "<p>5548 rows × 2 columns</p>\n",
              "</div>"
            ],
            "text/plain": [
              "        Emotion                                           Sentence\n",
              "188       Other              cho mình xin bài nhạc tên là gì với ạ\n",
              "166     Disgust  cho đáng đời con quỷ . về nhà lôi con nhà mày ...\n",
              "1345    Disgust  lo học đi . yêu đương lol gì hay lại thích học...\n",
              "316   Enjoyment    uớc gì sau này về già vẫn có thể như cụ này :))\n",
              "1225  Enjoyment  mỗi lần có video của con là cứ coi đi coi lại ...\n",
              "...         ...                                                ...\n",
              "1332    Disgust  đường của nhà cụ hay sao mà cụ cấm người ta đỗ...\n",
              "825       Other                             nhìn mặt héo queo luôn\n",
              "165       Other  tao đi xe máy mỗi lần muốn để xe đi đâu là phi...\n",
              "363   Enjoyment                    thích thân hình boss rồi nhan 😌\n",
              "1242    Sadness  ước mơ nhỏ nhoi của tao là được làm chị mà khô...\n",
              "\n",
              "[5548 rows x 2 columns]"
            ]
          },
          "execution_count": 25,
          "metadata": {},
          "output_type": "execute_result"
        }
      ],
      "source": [
        "train"
      ]
    },
    {
      "cell_type": "code",
      "execution_count": 26,
      "metadata": {
        "colab": {
          "base_uri": "https://localhost:8080/"
        },
        "collapsed": true,
        "id": "LppCRS0LF37t",
        "outputId": "d0a4ff3f-e990-441b-8a1f-d56a31cef5c4"
      },
      "outputs": [],
      "source": [
        "stopwords = []\n",
        "with open('../Data/vietnamese-stopwords.txt', 'r', encoding='utf-8') as f:\n",
        "    for line in f:\n",
        "        stopwords.append(line.strip())\n",
        "# stopwords"
      ]
    },
    {
      "cell_type": "code",
      "execution_count": 27,
      "metadata": {
        "colab": {
          "base_uri": "https://localhost:8080/"
        },
        "collapsed": true,
        "id": "RZFGselFTCn-",
        "outputId": "15541265-56e0-43e0-9fdd-9e116b2e5527"
      },
      "outputs": [],
      "source": [
        "teencodes = {}\n",
        "with open('../Data/teencode4.txt','r',encoding='utf-8') as file:\n",
        "    file = file.read()\n",
        "    lines = file.split('\\n')\n",
        "    for line in lines:\n",
        "        elements = line.split('\\t')\n",
        "        if len(elements) == 2:\n",
        "            teencodes[elements[0]] = elements[1]\n",
        "# teencodes"
      ]
    },
    {
      "cell_type": "code",
      "execution_count": 28,
      "metadata": {
        "id": "sO_zPeXnUomb"
      },
      "outputs": [],
      "source": [
        "def preprocess_teencodes(sentence):\n",
        "    for key, value in teencodes.items():\n",
        "        sentence = re.sub(r'\\b{}\\b'.format(key), value, sentence)\n",
        "    return sentence"
      ]
    },
    {
      "cell_type": "code",
      "execution_count": 29,
      "metadata": {
        "id": "TN-6XraA9VtS"
      },
      "outputs": [
        {
          "name": "stderr",
          "output_type": "stream",
          "text": [
            "<>:3: SyntaxWarning: invalid escape sequence '\\)'\n",
            "<>:3: SyntaxWarning: invalid escape sequence '\\('\n",
            "<>:4: SyntaxWarning: invalid escape sequence '\\.'\n",
            "<>:4: SyntaxWarning: invalid escape sequence '\\)'\n",
            "<>:4: SyntaxWarning: invalid escape sequence '\\('\n",
            "<>:3: SyntaxWarning: invalid escape sequence '\\)'\n",
            "<>:3: SyntaxWarning: invalid escape sequence '\\('\n",
            "<>:4: SyntaxWarning: invalid escape sequence '\\.'\n",
            "<>:4: SyntaxWarning: invalid escape sequence '\\)'\n",
            "<>:4: SyntaxWarning: invalid escape sequence '\\('\n",
            "C:\\Users\\vanhu\\AppData\\Local\\Temp\\ipykernel_18924\\1970431461.py:3: SyntaxWarning: invalid escape sequence '\\)'\n",
            "  '(:|;|=)+(\\)|\\]|>)+':'🙂','(:|;|=)+(\\(|\\[|<)+':'😞','(:|;|=)+(D|d)':'😁',\n",
            "C:\\Users\\vanhu\\AppData\\Local\\Temp\\ipykernel_18924\\1970431461.py:3: SyntaxWarning: invalid escape sequence '\\('\n",
            "  '(:|;|=)+(\\)|\\]|>)+':'🙂','(:|;|=)+(\\(|\\[|<)+':'😞','(:|;|=)+(D|d)':'😁',\n",
            "C:\\Users\\vanhu\\AppData\\Local\\Temp\\ipykernel_18924\\1970431461.py:4: SyntaxWarning: invalid escape sequence '\\.'\n",
            "  '(-_-)|(-\\.-)':'😐',':v':'_pacman_smile_','(:|;|=)+(\\'|`|\\\")+(\\)|\\]|>)+':'🥲','(:|;|=)+(\\'|`|\\\")+(\\(|\\[|<)+':'😢',\n",
            "C:\\Users\\vanhu\\AppData\\Local\\Temp\\ipykernel_18924\\1970431461.py:4: SyntaxWarning: invalid escape sequence '\\)'\n",
            "  '(-_-)|(-\\.-)':'😐',':v':'_pacman_smile_','(:|;|=)+(\\'|`|\\\")+(\\)|\\]|>)+':'🥲','(:|;|=)+(\\'|`|\\\")+(\\(|\\[|<)+':'😢',\n",
            "C:\\Users\\vanhu\\AppData\\Local\\Temp\\ipykernel_18924\\1970431461.py:4: SyntaxWarning: invalid escape sequence '\\('\n",
            "  '(-_-)|(-\\.-)':'😐',':v':'_pacman_smile_','(:|;|=)+(\\'|`|\\\")+(\\)|\\]|>)+':'🥲','(:|;|=)+(\\'|`|\\\")+(\\(|\\[|<)+':'😢',\n"
          ]
        }
      ],
      "source": [
        "def preprocess_emoji(sentence):\n",
        "    emotion_dict = {\n",
        "        '(:|;|=)+(\\)|\\]|>)+':'🙂','(:|;|=)+(\\(|\\[|<)+':'😞','(:|;|=)+(D|d)':'😁',\n",
        "        '(-_-)|(-\\.-)':'😐',':v':'_pacman_smile_','(:|;|=)+(\\'|`|\\\")+(\\)|\\]|>)+':'🥲','(:|;|=)+(\\'|`|\\\")+(\\(|\\[|<)+':'😢',\n",
        "        '@@':'😵‍💫','đc':'được','đk':'được','bik':'biết','ngừi':'người','hix':'hic','lm':'làm'\n",
        "    }\n",
        "    for key, value in emotion_dict.items():\n",
        "        sentence = re.sub(key,value,sentence)\n",
        "    sentence = emoji.demojize(sentence)\n",
        "    sentence = re.sub(r\":(.*?):\",r\" _\\1_ \",sentence)\n",
        "    sentence = re.sub(r'([!@#$%^&*()_+={}:;\"\\'<>,?/\\|~-])\\1+',r'\\1',sentence)\n",
        "    return sentence"
      ]
    },
    {
      "cell_type": "code",
      "execution_count": 30,
      "metadata": {
        "id": "dTfLTkhD9Ve_"
      },
      "outputs": [],
      "source": [
        "def tokenize(sentence):\n",
        "    start_token = ' _s_ '\n",
        "    end_token = ' _e_ '\n",
        "    sentence = sentence.lower()\n",
        "\n",
        "    # Preprocess Emoji\n",
        "    sentence = preprocess_emoji(sentence)\n",
        "\n",
        "    # Preprocess teencodes\n",
        "    sentence = preprocess_teencodes(sentence)\n",
        "\n",
        "    sentence = start_token + sentence + end_token\n",
        "    return ViTokenizer.tokenize(sentence).split()"
      ]
    },
    {
      "cell_type": "code",
      "execution_count": 31,
      "metadata": {
        "id": "maraoOuJgPyb"
      },
      "outputs": [],
      "source": [
        "def remove_stopwords(words):\n",
        "    new_words = [word for word in words if re.sub(\"_\", \" \", word) not in stopwords]\n",
        "    return new_words"
      ]
    },
    {
      "cell_type": "code",
      "execution_count": 32,
      "metadata": {
        "colab": {
          "base_uri": "https://localhost:8080/",
          "height": 423
        },
        "id": "_zpXIhzsBngk",
        "outputId": "e3d18a68-b57f-4354-8bbc-c74021a1be8d"
      },
      "outputs": [
        {
          "data": {
            "text/html": [
              "<div>\n",
              "<style scoped>\n",
              "    .dataframe tbody tr th:only-of-type {\n",
              "        vertical-align: middle;\n",
              "    }\n",
              "\n",
              "    .dataframe tbody tr th {\n",
              "        vertical-align: top;\n",
              "    }\n",
              "\n",
              "    .dataframe thead th {\n",
              "        text-align: right;\n",
              "    }\n",
              "</style>\n",
              "<table border=\"1\" class=\"dataframe\">\n",
              "  <thead>\n",
              "    <tr style=\"text-align: right;\">\n",
              "      <th></th>\n",
              "      <th>Emotion</th>\n",
              "      <th>Sentence</th>\n",
              "      <th>Text</th>\n",
              "    </tr>\n",
              "  </thead>\n",
              "  <tbody>\n",
              "    <tr>\n",
              "      <th>188</th>\n",
              "      <td>Other</td>\n",
              "      <td>cho mình xin bài nhạc tên là gì với ạ</td>\n",
              "      <td>[_s_, nhạc, _e_]</td>\n",
              "    </tr>\n",
              "    <tr>\n",
              "      <th>166</th>\n",
              "      <td>Disgust</td>\n",
              "      <td>cho đáng đời con quỷ . về nhà lôi con nhà mày ...</td>\n",
              "      <td>[_s_, đáng_đời, quỷ, ., lôi, mày, đánh, _enrag...</td>\n",
              "    </tr>\n",
              "    <tr>\n",
              "      <th>1345</th>\n",
              "      <td>Disgust</td>\n",
              "      <td>lo học đi . yêu đương lol gì hay lại thích học...</td>\n",
              "      <td>[_s_, lo, học, đi, ., yêu_đương, lồn, học_sinh...</td>\n",
              "    </tr>\n",
              "    <tr>\n",
              "      <th>316</th>\n",
              "      <td>Enjoyment</td>\n",
              "      <td>uớc gì sau này về già vẫn có thể như cụ này :))</td>\n",
              "      <td>[_s_, uớc, già, cụ, _slightly_smiling_face_, _e_]</td>\n",
              "    </tr>\n",
              "    <tr>\n",
              "      <th>1225</th>\n",
              "      <td>Enjoyment</td>\n",
              "      <td>mỗi lần có video của con là cứ coi đi coi lại ...</td>\n",
              "      <td>[_s_, video, coi, đi, coi, hoài, ., cưng, ., _e_]</td>\n",
              "    </tr>\n",
              "    <tr>\n",
              "      <th>...</th>\n",
              "      <td>...</td>\n",
              "      <td>...</td>\n",
              "      <td>...</td>\n",
              "    </tr>\n",
              "    <tr>\n",
              "      <th>1332</th>\n",
              "      <td>Disgust</td>\n",
              "      <td>đường của nhà cụ hay sao mà cụ cấm người ta đỗ...</td>\n",
              "      <td>[_s_, đường, nhà_cụ, cụ, cấm, người_ta, đỗ, .,...</td>\n",
              "    </tr>\n",
              "    <tr>\n",
              "      <th>825</th>\n",
              "      <td>Other</td>\n",
              "      <td>nhìn mặt héo queo luôn</td>\n",
              "      <td>[_s_, mặt, héo, queo, _e_]</td>\n",
              "    </tr>\n",
              "    <tr>\n",
              "      <th>165</th>\n",
              "      <td>Other</td>\n",
              "      <td>tao đi xe máy mỗi lần muốn để xe đi đâu là phi...</td>\n",
              "      <td>[_s_, tao, đi, xe_máy, xe, đi, phi_mẹ, quán, n...</td>\n",
              "    </tr>\n",
              "    <tr>\n",
              "      <th>363</th>\n",
              "      <td>Enjoyment</td>\n",
              "      <td>thích thân hình boss rồi nhan 😌</td>\n",
              "      <td>[_s_, thân_hình, boss, nhan, _relieved_face_, ...</td>\n",
              "    </tr>\n",
              "    <tr>\n",
              "      <th>1242</th>\n",
              "      <td>Sadness</td>\n",
              "      <td>ước mơ nhỏ nhoi của tao là được làm chị mà khô...</td>\n",
              "      <td>[_s_, ước_mơ, nhỏ_nhoi, tao, không_thể_nào, hu...</td>\n",
              "    </tr>\n",
              "  </tbody>\n",
              "</table>\n",
              "<p>5548 rows × 3 columns</p>\n",
              "</div>"
            ],
            "text/plain": [
              "        Emotion                                           Sentence  \\\n",
              "188       Other              cho mình xin bài nhạc tên là gì với ạ   \n",
              "166     Disgust  cho đáng đời con quỷ . về nhà lôi con nhà mày ...   \n",
              "1345    Disgust  lo học đi . yêu đương lol gì hay lại thích học...   \n",
              "316   Enjoyment    uớc gì sau này về già vẫn có thể như cụ này :))   \n",
              "1225  Enjoyment  mỗi lần có video của con là cứ coi đi coi lại ...   \n",
              "...         ...                                                ...   \n",
              "1332    Disgust  đường của nhà cụ hay sao mà cụ cấm người ta đỗ...   \n",
              "825       Other                             nhìn mặt héo queo luôn   \n",
              "165       Other  tao đi xe máy mỗi lần muốn để xe đi đâu là phi...   \n",
              "363   Enjoyment                    thích thân hình boss rồi nhan 😌   \n",
              "1242    Sadness  ước mơ nhỏ nhoi của tao là được làm chị mà khô...   \n",
              "\n",
              "                                                   Text  \n",
              "188                                    [_s_, nhạc, _e_]  \n",
              "166   [_s_, đáng_đời, quỷ, ., lôi, mày, đánh, _enrag...  \n",
              "1345  [_s_, lo, học, đi, ., yêu_đương, lồn, học_sinh...  \n",
              "316   [_s_, uớc, già, cụ, _slightly_smiling_face_, _e_]  \n",
              "1225  [_s_, video, coi, đi, coi, hoài, ., cưng, ., _e_]  \n",
              "...                                                 ...  \n",
              "1332  [_s_, đường, nhà_cụ, cụ, cấm, người_ta, đỗ, .,...  \n",
              "825                          [_s_, mặt, héo, queo, _e_]  \n",
              "165   [_s_, tao, đi, xe_máy, xe, đi, phi_mẹ, quán, n...  \n",
              "363   [_s_, thân_hình, boss, nhan, _relieved_face_, ...  \n",
              "1242  [_s_, ước_mơ, nhỏ_nhoi, tao, không_thể_nào, hu...  \n",
              "\n",
              "[5548 rows x 3 columns]"
            ]
          },
          "execution_count": 32,
          "metadata": {},
          "output_type": "execute_result"
        }
      ],
      "source": [
        "train['Text'] = train['Sentence'].apply(tokenize)\n",
        "train['Text'] = train['Text'].apply(remove_stopwords)\n",
        "train"
      ]
    },
    {
      "cell_type": "code",
      "execution_count": 33,
      "metadata": {
        "colab": {
          "base_uri": "https://localhost:8080/",
          "height": 423
        },
        "id": "W20zwzshDU1Z",
        "outputId": "56029eb2-5ef7-40b4-fb7a-d70a7f6f3800"
      },
      "outputs": [
        {
          "data": {
            "text/html": [
              "<div>\n",
              "<style scoped>\n",
              "    .dataframe tbody tr th:only-of-type {\n",
              "        vertical-align: middle;\n",
              "    }\n",
              "\n",
              "    .dataframe tbody tr th {\n",
              "        vertical-align: top;\n",
              "    }\n",
              "\n",
              "    .dataframe thead th {\n",
              "        text-align: right;\n",
              "    }\n",
              "</style>\n",
              "<table border=\"1\" class=\"dataframe\">\n",
              "  <thead>\n",
              "    <tr style=\"text-align: right;\">\n",
              "      <th></th>\n",
              "      <th>Emotion</th>\n",
              "      <th>Sentence</th>\n",
              "      <th>Text</th>\n",
              "    </tr>\n",
              "  </thead>\n",
              "  <tbody>\n",
              "    <tr>\n",
              "      <th>713</th>\n",
              "      <td>Sadness</td>\n",
              "      <td>người ta có bạn bè nhìn vui thật</td>\n",
              "      <td>[_s_, người_ta, bạn_bè, vui, _e_]</td>\n",
              "    </tr>\n",
              "    <tr>\n",
              "      <th>1827</th>\n",
              "      <td>Surprise</td>\n",
              "      <td>cho nghỉ viêc mói đúng sao goi là kỷ luật</td>\n",
              "      <td>[_s_, nghỉ, viêc, mói, goi, kỷ_luật, _e_]</td>\n",
              "    </tr>\n",
              "    <tr>\n",
              "      <th>1166</th>\n",
              "      <td>Disgust</td>\n",
              "      <td>kinh vãi 😡</td>\n",
              "      <td>[_s_, kinh, vãi, _enraged_face_, _e_]</td>\n",
              "    </tr>\n",
              "    <tr>\n",
              "      <th>228</th>\n",
              "      <td>Fear</td>\n",
              "      <td>nhà thì không xa lắm nhưng chưa bao giờ đi vì ...</td>\n",
              "      <td>[_s_, lắm, đi, sợ, đè_bẹp, _slightly_smiling_f...</td>\n",
              "    </tr>\n",
              "    <tr>\n",
              "      <th>1942</th>\n",
              "      <td>Anger</td>\n",
              "      <td>bố không thích nộp đấy mày thích ý kiến không</td>\n",
              "      <td>[_s_, bố, nộp, đấy, mày, ý_kiến, _e_]</td>\n",
              "    </tr>\n",
              "    <tr>\n",
              "      <th>...</th>\n",
              "      <td>...</td>\n",
              "      <td>...</td>\n",
              "      <td>...</td>\n",
              "    </tr>\n",
              "    <tr>\n",
              "      <th>432</th>\n",
              "      <td>Sadness</td>\n",
              "      <td>lúc thì cuốc đất è cổ ra không có giun mà câu ...</td>\n",
              "      <td>[_s_, cuốc, đất, è_cổ, giun, câu, cá, _unamuse...</td>\n",
              "    </tr>\n",
              "    <tr>\n",
              "      <th>178</th>\n",
              "      <td>Enjoyment</td>\n",
              "      <td>các bác dẫn crush qua cây sữa nay mà hứng nước...</td>\n",
              "      <td>[_s_, crush, sữa, hứng, nước_đái, ve_nha, haha...</td>\n",
              "    </tr>\n",
              "    <tr>\n",
              "      <th>1863</th>\n",
              "      <td>Surprise</td>\n",
              "      <td>vợ chồng rồi mà trong sáng như này chỉ có tron...</td>\n",
              "      <td>[_s_, vợ_chồng, trong_sáng, phim, _face_with_t...</td>\n",
              "    </tr>\n",
              "    <tr>\n",
              "      <th>476</th>\n",
              "      <td>Other</td>\n",
              "      <td>bep này vào binh dương dùng xuất</td>\n",
              "      <td>[_s_, bep, binh, dương, xuất, _e_]</td>\n",
              "    </tr>\n",
              "    <tr>\n",
              "      <th>1607</th>\n",
              "      <td>Surprise</td>\n",
              "      <td>đôi mắt đằm thắm vãi</td>\n",
              "      <td>[_s_, đôi, mắt, đằm_thắm, vãi, _e_]</td>\n",
              "    </tr>\n",
              "  </tbody>\n",
              "</table>\n",
              "<p>693 rows × 3 columns</p>\n",
              "</div>"
            ],
            "text/plain": [
              "        Emotion                                           Sentence  \\\n",
              "713     Sadness                   người ta có bạn bè nhìn vui thật   \n",
              "1827   Surprise          cho nghỉ viêc mói đúng sao goi là kỷ luật   \n",
              "1166    Disgust                                         kinh vãi 😡   \n",
              "228        Fear  nhà thì không xa lắm nhưng chưa bao giờ đi vì ...   \n",
              "1942      Anger      bố không thích nộp đấy mày thích ý kiến không   \n",
              "...         ...                                                ...   \n",
              "432     Sadness  lúc thì cuốc đất è cổ ra không có giun mà câu ...   \n",
              "178   Enjoyment  các bác dẫn crush qua cây sữa nay mà hứng nước...   \n",
              "1863   Surprise  vợ chồng rồi mà trong sáng như này chỉ có tron...   \n",
              "476       Other                   bep này vào binh dương dùng xuất   \n",
              "1607   Surprise                               đôi mắt đằm thắm vãi   \n",
              "\n",
              "                                                   Text  \n",
              "713                   [_s_, người_ta, bạn_bè, vui, _e_]  \n",
              "1827          [_s_, nghỉ, viêc, mói, goi, kỷ_luật, _e_]  \n",
              "1166              [_s_, kinh, vãi, _enraged_face_, _e_]  \n",
              "228   [_s_, lắm, đi, sợ, đè_bẹp, _slightly_smiling_f...  \n",
              "1942              [_s_, bố, nộp, đấy, mày, ý_kiến, _e_]  \n",
              "...                                                 ...  \n",
              "432   [_s_, cuốc, đất, è_cổ, giun, câu, cá, _unamuse...  \n",
              "178   [_s_, crush, sữa, hứng, nước_đái, ve_nha, haha...  \n",
              "1863  [_s_, vợ_chồng, trong_sáng, phim, _face_with_t...  \n",
              "476                  [_s_, bep, binh, dương, xuất, _e_]  \n",
              "1607                [_s_, đôi, mắt, đằm_thắm, vãi, _e_]  \n",
              "\n",
              "[693 rows x 3 columns]"
            ]
          },
          "execution_count": 33,
          "metadata": {},
          "output_type": "execute_result"
        }
      ],
      "source": [
        "test['Text'] = test['Sentence'].apply(tokenize)\n",
        "test['Text'] = test['Text'].apply(remove_stopwords)\n",
        "test"
      ]
    },
    {
      "cell_type": "markdown",
      "metadata": {
        "id": "bM-X09Xntrpj"
      },
      "source": [
        "Mã hóa cột Emotion của tập train và tập test sang kiểu số"
      ]
    },
    {
      "cell_type": "code",
      "execution_count": 34,
      "metadata": {},
      "outputs": [],
      "source": [
        "emotions = ['Surprise', 'Sadness', 'Anger', 'Fear', 'Enjoyment', 'Disgust', 'Other']\n",
        "emotion_to_num = dict({v:k for k,v in enumerate(emotions)})\n",
        "num_to_emotion = dict({k:v for k,v in enumerate(emotions)})"
      ]
    },
    {
      "cell_type": "code",
      "execution_count": 35,
      "metadata": {
        "id": "XoAUGJE1DawI"
      },
      "outputs": [],
      "source": [
        "train['Emotion'] = train['Emotion'].apply(lambda x: emotion_to_num[x])\n",
        "test['Emotion'] = test['Emotion'].apply(lambda x: emotion_to_num[x])"
      ]
    },
    {
      "cell_type": "code",
      "execution_count": 36,
      "metadata": {
        "colab": {
          "base_uri": "https://localhost:8080/"
        },
        "id": "QBQNKgcktxIP",
        "outputId": "7c78c801-abe2-43d6-df30-6f6c699257ab"
      },
      "outputs": [
        {
          "data": {
            "text/plain": [
              "{'Surprise': 0,\n",
              " 'Sadness': 1,\n",
              " 'Anger': 2,\n",
              " 'Fear': 3,\n",
              " 'Enjoyment': 4,\n",
              " 'Disgust': 5,\n",
              " 'Other': 6}"
            ]
          },
          "execution_count": 36,
          "metadata": {},
          "output_type": "execute_result"
        }
      ],
      "source": [
        "emotion_to_num"
      ]
    },
    {
      "cell_type": "markdown",
      "metadata": {
        "id": "f7mbdQX7ah2w"
      },
      "source": [
        "## Data augmentation: các từ ngẫu nhiên trong câu bị thay thế bằng một thẻ đặc biệt (unknown_tag)"
      ]
    },
    {
      "cell_type": "code",
      "execution_count": 37,
      "metadata": {
        "id": "hG8yA0fXHmyk"
      },
      "outputs": [],
      "source": [
        "def createUnknownData(df,unknown_rate,unknown_tag ='_unk_'):\n",
        "    mask_df = pd.DataFrame(columns=['Emotion','Text'])\n",
        "    for row in df.iterrows():\n",
        "        mask_array = np.random.choice(\n",
        "            [1,0],size=len(row[1]['Text']),p=[unknown_rate,1-unknown_rate]\n",
        "        )\n",
        "        mask_array[0]=0\n",
        "        mask_array[-1]=0\n",
        "        if np.sum(mask_array) > 0:\n",
        "            sentence = copy.deepcopy(row[1]['Text'])\n",
        "            for idx in range(len(row[1]['Text'])):\n",
        "                if mask_array[idx] == 1: sentence[idx] = unknown_tag\n",
        "            mask_df.loc[len(mask_df.index)] = [copy.deepcopy(row[1]['Emotion']),sentence]\n",
        "    return mask_df"
      ]
    },
    {
      "cell_type": "code",
      "execution_count": 38,
      "metadata": {
        "colab": {
          "base_uri": "https://localhost:8080/",
          "height": 423
        },
        "id": "-yUwA-eQIq28",
        "outputId": "1b190c49-1bb2-49d1-97d8-96205209c354"
      },
      "outputs": [
        {
          "data": {
            "text/html": [
              "<div>\n",
              "<style scoped>\n",
              "    .dataframe tbody tr th:only-of-type {\n",
              "        vertical-align: middle;\n",
              "    }\n",
              "\n",
              "    .dataframe tbody tr th {\n",
              "        vertical-align: top;\n",
              "    }\n",
              "\n",
              "    .dataframe thead th {\n",
              "        text-align: right;\n",
              "    }\n",
              "</style>\n",
              "<table border=\"1\" class=\"dataframe\">\n",
              "  <thead>\n",
              "    <tr style=\"text-align: right;\">\n",
              "      <th></th>\n",
              "      <th>Emotion</th>\n",
              "      <th>Text</th>\n",
              "    </tr>\n",
              "  </thead>\n",
              "  <tbody>\n",
              "    <tr>\n",
              "      <th>0</th>\n",
              "      <td>2</td>\n",
              "      <td>[_s_, thằng, kia, mày, bắt, vợ, bồ, _unk_, dọn...</td>\n",
              "    </tr>\n",
              "    <tr>\n",
              "      <th>1</th>\n",
              "      <td>4</td>\n",
              "      <td>[_s_, yêu, _unk_, đi, ., _e_]</td>\n",
              "    </tr>\n",
              "    <tr>\n",
              "      <th>2</th>\n",
              "      <td>3</td>\n",
              "      <td>[_s_, đầu, chụp, 10, huhu, sợ, _loudly_crying_...</td>\n",
              "    </tr>\n",
              "    <tr>\n",
              "      <th>3</th>\n",
              "      <td>6</td>\n",
              "      <td>[_s_, bồi_thường, thiệt_hại, _unk_, thân, tàu,...</td>\n",
              "    </tr>\n",
              "    <tr>\n",
              "      <th>4</th>\n",
              "      <td>1</td>\n",
              "      <td>[_s_, haizzz, ..., kết_quả, tốt_đẹp, _unk_, .,...</td>\n",
              "    </tr>\n",
              "    <tr>\n",
              "      <th>...</th>\n",
              "      <td>...</td>\n",
              "      <td>...</td>\n",
              "    </tr>\n",
              "    <tr>\n",
              "      <th>350</th>\n",
              "      <td>6</td>\n",
              "      <td>[_s_, con_gái, bữa, cơm, ,, du, rú, phòng, bố,...</td>\n",
              "    </tr>\n",
              "    <tr>\n",
              "      <th>351</th>\n",
              "      <td>4</td>\n",
              "      <td>[_s_, per, câu_chuyện, _unk_, trọn, tình, _fac...</td>\n",
              "    </tr>\n",
              "    <tr>\n",
              "      <th>352</th>\n",
              "      <td>5</td>\n",
              "      <td>[_s_, _unk_, hả, gái, _e_]</td>\n",
              "    </tr>\n",
              "    <tr>\n",
              "      <th>353</th>\n",
              "      <td>2</td>\n",
              "      <td>[_s_, già, đấy, mấy, mõm, vỡ, _unk_, chó, _e_]</td>\n",
              "    </tr>\n",
              "    <tr>\n",
              "      <th>354</th>\n",
              "      <td>5</td>\n",
              "      <td>[_s_, đường, _unk_, cụ, cấm, người_ta, đỗ, ., ...</td>\n",
              "    </tr>\n",
              "  </tbody>\n",
              "</table>\n",
              "<p>355 rows × 2 columns</p>\n",
              "</div>"
            ],
            "text/plain": [
              "     Emotion                                               Text\n",
              "0          2  [_s_, thằng, kia, mày, bắt, vợ, bồ, _unk_, dọn...\n",
              "1          4                      [_s_, yêu, _unk_, đi, ., _e_]\n",
              "2          3  [_s_, đầu, chụp, 10, huhu, sợ, _loudly_crying_...\n",
              "3          6  [_s_, bồi_thường, thiệt_hại, _unk_, thân, tàu,...\n",
              "4          1  [_s_, haizzz, ..., kết_quả, tốt_đẹp, _unk_, .,...\n",
              "..       ...                                                ...\n",
              "350        6  [_s_, con_gái, bữa, cơm, ,, du, rú, phòng, bố,...\n",
              "351        4  [_s_, per, câu_chuyện, _unk_, trọn, tình, _fac...\n",
              "352        5                         [_s_, _unk_, hả, gái, _e_]\n",
              "353        2     [_s_, già, đấy, mấy, mõm, vỡ, _unk_, chó, _e_]\n",
              "354        5  [_s_, đường, _unk_, cụ, cấm, người_ta, đỗ, ., ...\n",
              "\n",
              "[355 rows x 2 columns]"
            ]
          },
          "execution_count": 38,
          "metadata": {},
          "output_type": "execute_result"
        }
      ],
      "source": [
        "unk_frame = createUnknownData(train,unknown_rate=0.01,unknown_tag ='_unk_')\n",
        "unk_frame"
      ]
    },
    {
      "cell_type": "code",
      "execution_count": 39,
      "metadata": {
        "colab": {
          "base_uri": "https://localhost:8080/",
          "height": 423
        },
        "id": "aoMjX7uxIvkg",
        "outputId": "22fcbdc9-eed3-4626-afa3-e2e245ab15d8"
      },
      "outputs": [
        {
          "data": {
            "text/html": [
              "<div>\n",
              "<style scoped>\n",
              "    .dataframe tbody tr th:only-of-type {\n",
              "        vertical-align: middle;\n",
              "    }\n",
              "\n",
              "    .dataframe tbody tr th {\n",
              "        vertical-align: top;\n",
              "    }\n",
              "\n",
              "    .dataframe thead th {\n",
              "        text-align: right;\n",
              "    }\n",
              "</style>\n",
              "<table border=\"1\" class=\"dataframe\">\n",
              "  <thead>\n",
              "    <tr style=\"text-align: right;\">\n",
              "      <th></th>\n",
              "      <th>Emotion</th>\n",
              "      <th>Text</th>\n",
              "    </tr>\n",
              "  </thead>\n",
              "  <tbody>\n",
              "    <tr>\n",
              "      <th>188</th>\n",
              "      <td>6</td>\n",
              "      <td>[_s_, nhạc, _e_]</td>\n",
              "    </tr>\n",
              "    <tr>\n",
              "      <th>166</th>\n",
              "      <td>5</td>\n",
              "      <td>[_s_, đáng_đời, quỷ, ., lôi, mày, đánh, _enrag...</td>\n",
              "    </tr>\n",
              "    <tr>\n",
              "      <th>1345</th>\n",
              "      <td>5</td>\n",
              "      <td>[_s_, lo, học, đi, ., yêu_đương, lồn, học_sinh...</td>\n",
              "    </tr>\n",
              "    <tr>\n",
              "      <th>316</th>\n",
              "      <td>4</td>\n",
              "      <td>[_s_, uớc, già, cụ, _slightly_smiling_face_, _e_]</td>\n",
              "    </tr>\n",
              "    <tr>\n",
              "      <th>1225</th>\n",
              "      <td>4</td>\n",
              "      <td>[_s_, video, coi, đi, coi, hoài, ., cưng, ., _e_]</td>\n",
              "    </tr>\n",
              "    <tr>\n",
              "      <th>...</th>\n",
              "      <td>...</td>\n",
              "      <td>...</td>\n",
              "    </tr>\n",
              "    <tr>\n",
              "      <th>350</th>\n",
              "      <td>6</td>\n",
              "      <td>[_s_, con_gái, bữa, cơm, ,, du, rú, phòng, bố,...</td>\n",
              "    </tr>\n",
              "    <tr>\n",
              "      <th>351</th>\n",
              "      <td>4</td>\n",
              "      <td>[_s_, per, câu_chuyện, _unk_, trọn, tình, _fac...</td>\n",
              "    </tr>\n",
              "    <tr>\n",
              "      <th>352</th>\n",
              "      <td>5</td>\n",
              "      <td>[_s_, _unk_, hả, gái, _e_]</td>\n",
              "    </tr>\n",
              "    <tr>\n",
              "      <th>353</th>\n",
              "      <td>2</td>\n",
              "      <td>[_s_, già, đấy, mấy, mõm, vỡ, _unk_, chó, _e_]</td>\n",
              "    </tr>\n",
              "    <tr>\n",
              "      <th>354</th>\n",
              "      <td>5</td>\n",
              "      <td>[_s_, đường, _unk_, cụ, cấm, người_ta, đỗ, ., ...</td>\n",
              "    </tr>\n",
              "  </tbody>\n",
              "</table>\n",
              "<p>5903 rows × 2 columns</p>\n",
              "</div>"
            ],
            "text/plain": [
              "      Emotion                                               Text\n",
              "188         6                                   [_s_, nhạc, _e_]\n",
              "166         5  [_s_, đáng_đời, quỷ, ., lôi, mày, đánh, _enrag...\n",
              "1345        5  [_s_, lo, học, đi, ., yêu_đương, lồn, học_sinh...\n",
              "316         4  [_s_, uớc, già, cụ, _slightly_smiling_face_, _e_]\n",
              "1225        4  [_s_, video, coi, đi, coi, hoài, ., cưng, ., _e_]\n",
              "...       ...                                                ...\n",
              "350         6  [_s_, con_gái, bữa, cơm, ,, du, rú, phòng, bố,...\n",
              "351         4  [_s_, per, câu_chuyện, _unk_, trọn, tình, _fac...\n",
              "352         5                         [_s_, _unk_, hả, gái, _e_]\n",
              "353         2     [_s_, già, đấy, mấy, mõm, vỡ, _unk_, chó, _e_]\n",
              "354         5  [_s_, đường, _unk_, cụ, cấm, người_ta, đỗ, ., ...\n",
              "\n",
              "[5903 rows x 2 columns]"
            ]
          },
          "execution_count": 39,
          "metadata": {},
          "output_type": "execute_result"
        }
      ],
      "source": [
        "new_train_frame = pd.concat([train[['Emotion', 'Text']], unk_frame])\n",
        "new_train_frame"
      ]
    },
    {
      "cell_type": "markdown",
      "metadata": {
        "id": "pSGSyEqmF1IG"
      },
      "source": [
        "corpus: danh sách các câu, mỗi câu là một danh sách các từ (đã được xử lý trước như loại bỏ dấu câu, chuyển chữ thường, tách từ)"
      ]
    },
    {
      "cell_type": "code",
      "execution_count": 40,
      "metadata": {
        "colab": {
          "base_uri": "https://localhost:8080/"
        },
        "id": "B0dQPXVoI63U",
        "outputId": "f7b3be27-968a-421e-c1c1-6e7ea19da1e0"
      },
      "outputs": [
        {
          "data": {
            "text/plain": [
              "5903"
            ]
          },
          "execution_count": 40,
          "metadata": {},
          "output_type": "execute_result"
        }
      ],
      "source": [
        "corpus = []\n",
        "for sentence in new_train_frame['Text']:\n",
        "  corpus.append(sentence)\n",
        "len(corpus)"
      ]
    },
    {
      "cell_type": "code",
      "execution_count": 41,
      "metadata": {
        "id": "KVp2oKx0J4SU"
      },
      "outputs": [],
      "source": [
        "start_token = '_s_'\n",
        "end_token = '_e_'\n",
        "unknown_token = '_unk_'"
      ]
    },
    {
      "cell_type": "markdown",
      "metadata": {
        "id": "HtM--9qPbJcp"
      },
      "source": [
        "## Balance data - Xử lý dữ liệu mất cân bằng"
      ]
    },
    {
      "cell_type": "markdown",
      "metadata": {
        "id": "yq8EcCtTrN9s"
      },
      "source": [
        "Phương pháp random undersampling: Giảm tỷ lệ mẫu dữ liệu thuộc một cảm xúc cụ thể trong tập huấn luyện (train) và sau đó chuyển một phần dữ liệu bị loại bỏ sang tập kiểm tra (test)\n",
        "\n",
        "Thực hiện undersampling với các mẫu có nhãn là Enjoyment vì nhãn này xuất hiện nhiều nhất trong tập train"
      ]
    },
    {
      "cell_type": "code",
      "execution_count": 42,
      "metadata": {
        "id": "qWs_SL-2JVbo"
      },
      "outputs": [],
      "source": [
        "drop_lst = []\n",
        "for i in new_train_frame.index[new_train_frame['Emotion']==emotion_to_num['Enjoyment']]:\n",
        "  if np.random.uniform(0,1)<0.4: # random dưới 40% mẫu trong tập train có nhãn là 'Enjoyment'\n",
        "    drop_lst.append(i)\n",
        "\n",
        "drop_df = new_train_frame[new_train_frame.index.isin(drop_lst)]\n",
        "train_df = new_train_frame.drop(new_train_frame.index[drop_lst])\n",
        "test_df = pd.concat([test,drop_df])"
      ]
    },
    {
      "cell_type": "code",
      "execution_count": 43,
      "metadata": {
        "id": "wn5zqNx8Kckz"
      },
      "outputs": [],
      "source": [
        "duplicate = new_train_frame[\n",
        "    (new_train_frame['Emotion']==emotion_to_num['Anger']) |\n",
        "    (new_train_frame['Emotion']==emotion_to_num['Fear']) |\n",
        "    (new_train_frame['Emotion']==emotion_to_num['Surprise'])\n",
        "]\n",
        "train_df = pd.concat([train_df,duplicate,duplicate])"
      ]
    },
    {
      "cell_type": "code",
      "execution_count": 44,
      "metadata": {
        "colab": {
          "base_uri": "https://localhost:8080/",
          "height": 423
        },
        "id": "iyzo8ssqK5QD",
        "outputId": "47ae7469-e0ba-4363-af0b-5abf353749db"
      },
      "outputs": [
        {
          "data": {
            "text/html": [
              "<div>\n",
              "<style scoped>\n",
              "    .dataframe tbody tr th:only-of-type {\n",
              "        vertical-align: middle;\n",
              "    }\n",
              "\n",
              "    .dataframe tbody tr th {\n",
              "        vertical-align: top;\n",
              "    }\n",
              "\n",
              "    .dataframe thead th {\n",
              "        text-align: right;\n",
              "    }\n",
              "</style>\n",
              "<table border=\"1\" class=\"dataframe\">\n",
              "  <thead>\n",
              "    <tr style=\"text-align: right;\">\n",
              "      <th></th>\n",
              "      <th>Emotion</th>\n",
              "      <th>Text</th>\n",
              "    </tr>\n",
              "  </thead>\n",
              "  <tbody>\n",
              "    <tr>\n",
              "      <th>166</th>\n",
              "      <td>5</td>\n",
              "      <td>[_s_, đáng_đời, quỷ, ., lôi, mày, đánh, _enrag...</td>\n",
              "    </tr>\n",
              "    <tr>\n",
              "      <th>316</th>\n",
              "      <td>4</td>\n",
              "      <td>[_s_, uớc, già, cụ, _slightly_smiling_face_, _e_]</td>\n",
              "    </tr>\n",
              "    <tr>\n",
              "      <th>1225</th>\n",
              "      <td>4</td>\n",
              "      <td>[_s_, video, coi, đi, coi, hoài, ., cưng, ., _e_]</td>\n",
              "    </tr>\n",
              "    <tr>\n",
              "      <th>44</th>\n",
              "      <td>6</td>\n",
              "      <td>[_s_, lí_do, muôn_vàn, lí_do, _e_]</td>\n",
              "    </tr>\n",
              "    <tr>\n",
              "      <th>1069</th>\n",
              "      <td>6</td>\n",
              "      <td>[_s_, trời, nắng_nóng, bán_nước, thu_nhập, :, ...</td>\n",
              "    </tr>\n",
              "    <tr>\n",
              "      <th>...</th>\n",
              "      <td>...</td>\n",
              "      <td>...</td>\n",
              "    </tr>\n",
              "    <tr>\n",
              "      <th>316</th>\n",
              "      <td>2</td>\n",
              "      <td>[_s_, sợ, nhện, thằng, admin, trò, _unk_, _dis...</td>\n",
              "    </tr>\n",
              "    <tr>\n",
              "      <th>321</th>\n",
              "      <td>2</td>\n",
              "      <td>[_s_, lương, nhà_lầu, xe_hơi, ?, _unk_, ..., ....</td>\n",
              "    </tr>\n",
              "    <tr>\n",
              "      <th>337</th>\n",
              "      <td>3</td>\n",
              "      <td>[_s_, đứt, chuối, mồm, ., đéo, _unk_, kết_quả,...</td>\n",
              "    </tr>\n",
              "    <tr>\n",
              "      <th>342</th>\n",
              "      <td>0</td>\n",
              "      <td>[_s_, tường, ,, khung, lan_can, ,, cây_cối, y_...</td>\n",
              "    </tr>\n",
              "    <tr>\n",
              "      <th>353</th>\n",
              "      <td>2</td>\n",
              "      <td>[_s_, già, đấy, mấy, mõm, vỡ, _unk_, chó, _e_]</td>\n",
              "    </tr>\n",
              "  </tbody>\n",
              "</table>\n",
              "<p>6074 rows × 2 columns</p>\n",
              "</div>"
            ],
            "text/plain": [
              "      Emotion                                               Text\n",
              "166         5  [_s_, đáng_đời, quỷ, ., lôi, mày, đánh, _enrag...\n",
              "316         4  [_s_, uớc, già, cụ, _slightly_smiling_face_, _e_]\n",
              "1225        4  [_s_, video, coi, đi, coi, hoài, ., cưng, ., _e_]\n",
              "44          6                 [_s_, lí_do, muôn_vàn, lí_do, _e_]\n",
              "1069        6  [_s_, trời, nắng_nóng, bán_nước, thu_nhập, :, ...\n",
              "...       ...                                                ...\n",
              "316         2  [_s_, sợ, nhện, thằng, admin, trò, _unk_, _dis...\n",
              "321         2  [_s_, lương, nhà_lầu, xe_hơi, ?, _unk_, ..., ....\n",
              "337         3  [_s_, đứt, chuối, mồm, ., đéo, _unk_, kết_quả,...\n",
              "342         0  [_s_, tường, ,, khung, lan_can, ,, cây_cối, y_...\n",
              "353         2     [_s_, già, đấy, mấy, mõm, vỡ, _unk_, chó, _e_]\n",
              "\n",
              "[6074 rows x 2 columns]"
            ]
          },
          "execution_count": 44,
          "metadata": {},
          "output_type": "execute_result"
        }
      ],
      "source": [
        "train_df"
      ]
    },
    {
      "cell_type": "code",
      "execution_count": 45,
      "metadata": {
        "colab": {
          "base_uri": "https://localhost:8080/"
        },
        "id": "gSVvnceFIje5",
        "outputId": "cb374348-0a1c-4922-c5d7-9d6f25f7eac4"
      },
      "outputs": [
        {
          "data": {
            "text/plain": [
              "(2830, 3)"
            ]
          },
          "execution_count": 45,
          "metadata": {},
          "output_type": "execute_result"
        }
      ],
      "source": [
        "test_df.shape"
      ]
    },
    {
      "cell_type": "markdown",
      "metadata": {
        "id": "cCvBfKoKIBVw"
      },
      "source": [
        "# Word2Vec"
      ]
    },
    {
      "cell_type": "markdown",
      "metadata": {
        "id": "OUoh8LQDMSB1"
      },
      "source": [
        "training Word2Vec"
      ]
    },
    {
      "cell_type": "code",
      "execution_count": 47,
      "metadata": {
        "id": "oVisMgU8I_nj"
      },
      "outputs": [],
      "source": [
        "model = joblib.load('../Trâm model/word2vec_model.pkl')"
      ]
    },
    {
      "cell_type": "code",
      "execution_count": 48,
      "metadata": {
        "id": "vvgCMk2qJ2j1"
      },
      "outputs": [],
      "source": [
        "key_to_index = model.wv.key_to_index\n",
        "index_to_key = model.wv.index_to_key"
      ]
    },
    {
      "cell_type": "code",
      "execution_count": 49,
      "metadata": {
        "id": "TOONvaFqMe6Q"
      },
      "outputs": [],
      "source": [
        "def get_sentence_vector(sentence):\n",
        "    word_vectors = [model.wv[word] for word in sentence if word in model.wv]\n",
        "    if word_vectors:\n",
        "        return sum(word_vectors) / len(word_vectors)\n",
        "    else:\n",
        "        return [0] * model.vector_size  # Trả về vector 0 nếu không có từ nào trong mô hình\n",
        "\n",
        "# Áp dụng hàm cho toàn bộ cột 'processed_text' để có được vector cho mỗi câu\n",
        "train_df['vector'] = train_df['Text'].apply(get_sentence_vector)\n",
        "test_df['vector'] = test_df['Text'].apply(get_sentence_vector)"
      ]
    },
    {
      "cell_type": "code",
      "execution_count": 50,
      "metadata": {
        "id": "dgcLVyXmSF8C"
      },
      "outputs": [],
      "source": [
        "X = np.vstack(train_df['vector'].values)\n",
        "y = train_df['Emotion']\n",
        "\n",
        "X_test_data = np.vstack(test_df['vector'].values)"
      ]
    },
    {
      "cell_type": "markdown",
      "metadata": {
        "id": "-w82Q48JFxc8"
      },
      "source": [
        "# TF-IDF"
      ]
    },
    {
      "cell_type": "code",
      "execution_count": 51,
      "metadata": {
        "id": "90KibK-NXp6z"
      },
      "outputs": [],
      "source": [
        "# Khởi tạo TF-IDF vectorizer\n",
        "vectorizer = joblib.load('../Trâm model/tfidf_vectorizer.pkl')\n",
        "\n",
        "# Fit và transform dữ liệu huấn luyện\n",
        "X_train_tfidf = vectorizer.fit_transform([' '.join(text) for text in train_df['Text']])\n",
        "X_test_tfidf = vectorizer.transform([' '.join(text) for text in test_df['Text']])"
      ]
    },
    {
      "cell_type": "markdown",
      "metadata": {},
      "source": [
        "LSTM"
      ]
    },
    {
      "cell_type": "code",
      "execution_count": 54,
      "metadata": {},
      "outputs": [
        {
          "name": "stderr",
          "output_type": "stream",
          "text": [
            "c:\\Users\\vanhu\\AppData\\Local\\Programs\\Python\\Python312\\Lib\\site-packages\\keras\\src\\layers\\core\\embedding.py:90: UserWarning: Argument `input_length` is deprecated. Just remove it.\n",
            "  warnings.warn(\n",
            "c:\\Users\\vanhu\\AppData\\Local\\Programs\\Python\\Python312\\Lib\\site-packages\\keras\\src\\layers\\core\\embedding.py:93: UserWarning: Do not pass an `input_shape`/`input_dim` argument to a layer. When using Sequential models, prefer using an `Input(shape)` object as the first layer in the model instead.\n",
            "  super().__init__(**kwargs)\n"
          ]
        },
        {
          "data": {
            "text/html": [
              "<pre style=\"white-space:pre;overflow-x:auto;line-height:normal;font-family:Menlo,'DejaVu Sans Mono',consolas,'Courier New',monospace\"><span style=\"font-weight: bold\">Model: \"sequential_2\"</span>\n",
              "</pre>\n"
            ],
            "text/plain": [
              "\u001b[1mModel: \"sequential_2\"\u001b[0m\n"
            ]
          },
          "metadata": {},
          "output_type": "display_data"
        },
        {
          "data": {
            "text/html": [
              "<pre style=\"white-space:pre;overflow-x:auto;line-height:normal;font-family:Menlo,'DejaVu Sans Mono',consolas,'Courier New',monospace\">┏━━━━━━━━━━━━━━━━━━━━━━━━━━━━━━━━━┳━━━━━━━━━━━━━━━━━━━━━━━━┳━━━━━━━━━━━━━━━┓\n",
              "┃<span style=\"font-weight: bold\"> Layer (type)                    </span>┃<span style=\"font-weight: bold\"> Output Shape           </span>┃<span style=\"font-weight: bold\">       Param # </span>┃\n",
              "┡━━━━━━━━━━━━━━━━━━━━━━━━━━━━━━━━━╇━━━━━━━━━━━━━━━━━━━━━━━━╇━━━━━━━━━━━━━━━┩\n",
              "│ embedding_2 (<span style=\"color: #0087ff; text-decoration-color: #0087ff\">Embedding</span>)         │ (<span style=\"color: #00d7ff; text-decoration-color: #00d7ff\">None</span>, <span style=\"color: #00af00; text-decoration-color: #00af00\">50</span>, <span style=\"color: #00af00; text-decoration-color: #00af00\">100</span>)        │       <span style=\"color: #00af00; text-decoration-color: #00af00\">574,700</span> │\n",
              "├─────────────────────────────────┼────────────────────────┼───────────────┤\n",
              "│ bidirectional_4 (<span style=\"color: #0087ff; text-decoration-color: #0087ff\">Bidirectional</span>) │ (<span style=\"color: #00d7ff; text-decoration-color: #00d7ff\">None</span>, <span style=\"color: #00af00; text-decoration-color: #00af00\">50</span>, <span style=\"color: #00af00; text-decoration-color: #00af00\">256</span>)        │       <span style=\"color: #00af00; text-decoration-color: #00af00\">234,496</span> │\n",
              "├─────────────────────────────────┼────────────────────────┼───────────────┤\n",
              "│ bidirectional_5 (<span style=\"color: #0087ff; text-decoration-color: #0087ff\">Bidirectional</span>) │ (<span style=\"color: #00d7ff; text-decoration-color: #00d7ff\">None</span>, <span style=\"color: #00af00; text-decoration-color: #00af00\">128</span>)            │       <span style=\"color: #00af00; text-decoration-color: #00af00\">164,352</span> │\n",
              "├─────────────────────────────────┼────────────────────────┼───────────────┤\n",
              "│ dense_4 (<span style=\"color: #0087ff; text-decoration-color: #0087ff\">Dense</span>)                 │ (<span style=\"color: #00d7ff; text-decoration-color: #00d7ff\">None</span>, <span style=\"color: #00af00; text-decoration-color: #00af00\">64</span>)             │         <span style=\"color: #00af00; text-decoration-color: #00af00\">8,256</span> │\n",
              "├─────────────────────────────────┼────────────────────────┼───────────────┤\n",
              "│ dropout_2 (<span style=\"color: #0087ff; text-decoration-color: #0087ff\">Dropout</span>)             │ (<span style=\"color: #00d7ff; text-decoration-color: #00d7ff\">None</span>, <span style=\"color: #00af00; text-decoration-color: #00af00\">64</span>)             │             <span style=\"color: #00af00; text-decoration-color: #00af00\">0</span> │\n",
              "├─────────────────────────────────┼────────────────────────┼───────────────┤\n",
              "│ dense_5 (<span style=\"color: #0087ff; text-decoration-color: #0087ff\">Dense</span>)                 │ (<span style=\"color: #00d7ff; text-decoration-color: #00d7ff\">None</span>, <span style=\"color: #00af00; text-decoration-color: #00af00\">7</span>)              │           <span style=\"color: #00af00; text-decoration-color: #00af00\">455</span> │\n",
              "└─────────────────────────────────┴────────────────────────┴───────────────┘\n",
              "</pre>\n"
            ],
            "text/plain": [
              "┏━━━━━━━━━━━━━━━━━━━━━━━━━━━━━━━━━┳━━━━━━━━━━━━━━━━━━━━━━━━┳━━━━━━━━━━━━━━━┓\n",
              "┃\u001b[1m \u001b[0m\u001b[1mLayer (type)                   \u001b[0m\u001b[1m \u001b[0m┃\u001b[1m \u001b[0m\u001b[1mOutput Shape          \u001b[0m\u001b[1m \u001b[0m┃\u001b[1m \u001b[0m\u001b[1m      Param #\u001b[0m\u001b[1m \u001b[0m┃\n",
              "┡━━━━━━━━━━━━━━━━━━━━━━━━━━━━━━━━━╇━━━━━━━━━━━━━━━━━━━━━━━━╇━━━━━━━━━━━━━━━┩\n",
              "│ embedding_2 (\u001b[38;5;33mEmbedding\u001b[0m)         │ (\u001b[38;5;45mNone\u001b[0m, \u001b[38;5;34m50\u001b[0m, \u001b[38;5;34m100\u001b[0m)        │       \u001b[38;5;34m574,700\u001b[0m │\n",
              "├─────────────────────────────────┼────────────────────────┼───────────────┤\n",
              "│ bidirectional_4 (\u001b[38;5;33mBidirectional\u001b[0m) │ (\u001b[38;5;45mNone\u001b[0m, \u001b[38;5;34m50\u001b[0m, \u001b[38;5;34m256\u001b[0m)        │       \u001b[38;5;34m234,496\u001b[0m │\n",
              "├─────────────────────────────────┼────────────────────────┼───────────────┤\n",
              "│ bidirectional_5 (\u001b[38;5;33mBidirectional\u001b[0m) │ (\u001b[38;5;45mNone\u001b[0m, \u001b[38;5;34m128\u001b[0m)            │       \u001b[38;5;34m164,352\u001b[0m │\n",
              "├─────────────────────────────────┼────────────────────────┼───────────────┤\n",
              "│ dense_4 (\u001b[38;5;33mDense\u001b[0m)                 │ (\u001b[38;5;45mNone\u001b[0m, \u001b[38;5;34m64\u001b[0m)             │         \u001b[38;5;34m8,256\u001b[0m │\n",
              "├─────────────────────────────────┼────────────────────────┼───────────────┤\n",
              "│ dropout_2 (\u001b[38;5;33mDropout\u001b[0m)             │ (\u001b[38;5;45mNone\u001b[0m, \u001b[38;5;34m64\u001b[0m)             │             \u001b[38;5;34m0\u001b[0m │\n",
              "├─────────────────────────────────┼────────────────────────┼───────────────┤\n",
              "│ dense_5 (\u001b[38;5;33mDense\u001b[0m)                 │ (\u001b[38;5;45mNone\u001b[0m, \u001b[38;5;34m7\u001b[0m)              │           \u001b[38;5;34m455\u001b[0m │\n",
              "└─────────────────────────────────┴────────────────────────┴───────────────┘\n"
            ]
          },
          "metadata": {},
          "output_type": "display_data"
        },
        {
          "data": {
            "text/html": [
              "<pre style=\"white-space:pre;overflow-x:auto;line-height:normal;font-family:Menlo,'DejaVu Sans Mono',consolas,'Courier New',monospace\"><span style=\"font-weight: bold\"> Total params: </span><span style=\"color: #00af00; text-decoration-color: #00af00\">982,259</span> (3.75 MB)\n",
              "</pre>\n"
            ],
            "text/plain": [
              "\u001b[1m Total params: \u001b[0m\u001b[38;5;34m982,259\u001b[0m (3.75 MB)\n"
            ]
          },
          "metadata": {},
          "output_type": "display_data"
        },
        {
          "data": {
            "text/html": [
              "<pre style=\"white-space:pre;overflow-x:auto;line-height:normal;font-family:Menlo,'DejaVu Sans Mono',consolas,'Courier New',monospace\"><span style=\"font-weight: bold\"> Trainable params: </span><span style=\"color: #00af00; text-decoration-color: #00af00\">982,259</span> (3.75 MB)\n",
              "</pre>\n"
            ],
            "text/plain": [
              "\u001b[1m Trainable params: \u001b[0m\u001b[38;5;34m982,259\u001b[0m (3.75 MB)\n"
            ]
          },
          "metadata": {},
          "output_type": "display_data"
        },
        {
          "data": {
            "text/html": [
              "<pre style=\"white-space:pre;overflow-x:auto;line-height:normal;font-family:Menlo,'DejaVu Sans Mono',consolas,'Courier New',monospace\"><span style=\"font-weight: bold\"> Non-trainable params: </span><span style=\"color: #00af00; text-decoration-color: #00af00\">0</span> (0.00 B)\n",
              "</pre>\n"
            ],
            "text/plain": [
              "\u001b[1m Non-trainable params: \u001b[0m\u001b[38;5;34m0\u001b[0m (0.00 B)\n"
            ]
          },
          "metadata": {},
          "output_type": "display_data"
        },
        {
          "name": "stdout",
          "output_type": "stream",
          "text": [
            "Epoch 1/10\n",
            "\u001b[1m190/190\u001b[0m \u001b[32m━━━━━━━━━━━━━━━━━━━━\u001b[0m\u001b[37m\u001b[0m \u001b[1m23s\u001b[0m 90ms/step - accuracy: 0.3213 - loss: 1.7487 - val_accuracy: 0.4166 - val_loss: 1.5326\n",
            "Epoch 2/10\n",
            "\u001b[1m190/190\u001b[0m \u001b[32m━━━━━━━━━━━━━━━━━━━━\u001b[0m\u001b[37m\u001b[0m \u001b[1m14s\u001b[0m 74ms/step - accuracy: 0.4859 - loss: 1.4324 - val_accuracy: 0.4958 - val_loss: 1.3327\n",
            "Epoch 3/10\n",
            "\u001b[1m190/190\u001b[0m \u001b[32m━━━━━━━━━━━━━━━━━━━━\u001b[0m\u001b[37m\u001b[0m \u001b[1m13s\u001b[0m 66ms/step - accuracy: 0.5408 - loss: 1.2812 - val_accuracy: 0.5385 - val_loss: 1.2610\n",
            "Epoch 4/10\n",
            "\u001b[1m190/190\u001b[0m \u001b[32m━━━━━━━━━━━━━━━━━━━━\u001b[0m\u001b[37m\u001b[0m \u001b[1m14s\u001b[0m 71ms/step - accuracy: 0.5910 - loss: 1.1492 - val_accuracy: 0.5512 - val_loss: 1.2154\n",
            "Epoch 5/10\n",
            "\u001b[1m190/190\u001b[0m \u001b[32m━━━━━━━━━━━━━━━━━━━━\u001b[0m\u001b[37m\u001b[0m \u001b[1m13s\u001b[0m 67ms/step - accuracy: 0.6332 - loss: 1.0490 - val_accuracy: 0.5943 - val_loss: 1.1322\n",
            "Epoch 6/10\n",
            "\u001b[1m190/190\u001b[0m \u001b[32m━━━━━━━━━━━━━━━━━━━━\u001b[0m\u001b[37m\u001b[0m \u001b[1m12s\u001b[0m 64ms/step - accuracy: 0.6789 - loss: 0.9178 - val_accuracy: 0.6131 - val_loss: 1.0695\n",
            "Epoch 7/10\n",
            "\u001b[1m190/190\u001b[0m \u001b[32m━━━━━━━━━━━━━━━━━━━━\u001b[0m\u001b[37m\u001b[0m \u001b[1m12s\u001b[0m 65ms/step - accuracy: 0.7273 - loss: 0.7886 - val_accuracy: 0.6406 - val_loss: 1.0368\n",
            "Epoch 8/10\n",
            "\u001b[1m190/190\u001b[0m \u001b[32m━━━━━━━━━━━━━━━━━━━━\u001b[0m\u001b[37m\u001b[0m \u001b[1m12s\u001b[0m 65ms/step - accuracy: 0.7542 - loss: 0.7086 - val_accuracy: 0.6926 - val_loss: 0.9296\n",
            "Epoch 9/10\n",
            "\u001b[1m190/190\u001b[0m \u001b[32m━━━━━━━━━━━━━━━━━━━━\u001b[0m\u001b[37m\u001b[0m \u001b[1m12s\u001b[0m 65ms/step - accuracy: 0.7888 - loss: 0.6358 - val_accuracy: 0.7000 - val_loss: 0.9158\n",
            "Epoch 10/10\n",
            "\u001b[1m190/190\u001b[0m \u001b[32m━━━━━━━━━━━━━━━━━━━━\u001b[0m\u001b[37m\u001b[0m \u001b[1m12s\u001b[0m 65ms/step - accuracy: 0.8184 - loss: 0.5477 - val_accuracy: 0.7071 - val_loss: 0.9277\n",
            "\u001b[1m89/89\u001b[0m \u001b[32m━━━━━━━━━━━━━━━━━━━━\u001b[0m\u001b[37m\u001b[0m \u001b[1m2s\u001b[0m 19ms/step - accuracy: 0.6030 - loss: 1.2731\n",
            "Test Accuracy: 0.7071\n",
            "\u001b[1m89/89\u001b[0m \u001b[32m━━━━━━━━━━━━━━━━━━━━\u001b[0m\u001b[37m\u001b[0m \u001b[1m3s\u001b[0m 25ms/step\n"
          ]
        },
        {
          "name": "stderr",
          "output_type": "stream",
          "text": [
            "WARNING:absl:You are saving your model as an HDF5 file via `model.save()` or `keras.saving.save_model(model)`. This file format is considered legacy. We recommend using instead the native Keras format, e.g. `model.save('my_model.keras')` or `keras.saving.save_model(model, 'my_model.keras')`. \n"
          ]
        },
        {
          "name": "stdout",
          "output_type": "stream",
          "text": [
            "Classification Report:\n",
            "              precision    recall  f1-score   support\n",
            "\n",
            "    Surprise       0.49      0.75      0.59        99\n",
            "     Sadness       0.84      0.70      0.76       443\n",
            "       Anger       0.52      0.87      0.65       170\n",
            "        Fear       0.77      0.90      0.83       189\n",
            "   Enjoyment       0.73      0.84      0.78       904\n",
            "     Disgust       0.75      0.58      0.66       528\n",
            "       Other       0.65      0.48      0.55       497\n",
            "\n",
            "    accuracy                           0.71      2830\n",
            "   macro avg       0.68      0.73      0.69      2830\n",
            "weighted avg       0.72      0.71      0.70      2830\n",
            "\n"
          ]
        }
      ],
      "source": [
        "# Import thêm các thư viện cần thiết cho Deep Learning\n",
        "import tensorflow as tf\n",
        "from tensorflow.keras.models import Sequential\n",
        "from tensorflow.keras.layers import LSTM, Dense, Dropout, Embedding, Bidirectional\n",
        "from tensorflow.keras.utils import to_categorical\n",
        "from sklearn.preprocessing import LabelEncoder\n",
        "from sklearn.metrics import classification_report\n",
        "\n",
        "# 1. Chuẩn bị dữ liệu\n",
        "\n",
        "# Lấy danh sách các từ trong corpus (tập huấn luyện)\n",
        "corpus = train_df['Text'].tolist()\n",
        "\n",
        "# Tạo Word2Vec từ gensim (nếu chưa có)\n",
        "# Nếu đã có model Word2Vec, bạn có thể load từ file\n",
        "#model = gensim.models.Word2Vec(corpus, vector_size=100, window=5, min_count=1, workers=4, epochs=100)\n",
        "\n",
        "# Chuyển các từ thành embedding matrix\n",
        "vocab_size = len(model.wv.index_to_key) + 1  # Thêm 1 cho padding token\n",
        "embedding_dim = model.vector_size  # Kích thước vector embedding\n",
        "embedding_matrix = np.zeros((vocab_size, embedding_dim))\n",
        "\n",
        "word_index = {word: index for index, word in enumerate(model.wv.index_to_key, start=1)}\n",
        "for word, index in word_index.items():\n",
        "    embedding_matrix[index] = model.wv[word]\n",
        "\n",
        "# Hàm chuyển câu thành danh sách số (dựa vào Word2Vec index)\n",
        "def sentence_to_sequence(sentence, word_index, max_len):\n",
        "    sequence = [word_index.get(word, 0) for word in sentence]  # 0 nếu từ không có trong Word2Vec\n",
        "    return sequence[:max_len] + [0] * max(0, max_len - len(sequence))  # Padding\n",
        "\n",
        "# Định nghĩa độ dài tối đa của câu\n",
        "max_len = 50  # Có thể thay đổi tùy dữ liệu\n",
        "\n",
        "# Chuyển train/test thành các sequence\n",
        "X_train_seq = np.array([sentence_to_sequence(sentence, word_index, max_len) for sentence in train_df['Text']])\n",
        "X_test_seq = np.array([sentence_to_sequence(sentence, word_index, max_len) for sentence in test_df['Text']])\n",
        "\n",
        "# Chuẩn bị nhãn\n",
        "y_train = to_categorical(train_df['Emotion'].values, num_classes=len(emotion_to_num))\n",
        "y_test = to_categorical(test_df['Emotion'].values, num_classes=len(emotion_to_num))\n",
        "\n",
        "# 2. Xây dựng mô hình LSTM\n",
        "model_lstm = Sequential([\n",
        "    Embedding(input_dim=vocab_size, output_dim=embedding_dim, weights=[embedding_matrix], input_length=max_len, trainable=True, input_shape=(max_len,)),\n",
        "    Bidirectional(LSTM(128, return_sequences=True, dropout=0.3, recurrent_dropout=0.3)),\n",
        "    Bidirectional(LSTM(64, dropout=0.3, recurrent_dropout=0.3)),\n",
        "    Dense(64, activation='relu'),\n",
        "    Dropout(0.3),\n",
        "    Dense(len(emotion_to_num), activation='softmax')\n",
        "])\n",
        "\n",
        "model_lstm.compile(optimizer='adam', loss='categorical_crossentropy', metrics=['accuracy'])\n",
        "model_lstm.summary()\n",
        "\n",
        "# 3. Huấn luyện mô hình\n",
        "batch_size = 32\n",
        "epochs = 10\n",
        "\n",
        "history = model_lstm.fit(\n",
        "    X_train_seq, y_train,\n",
        "    validation_data=(X_test_seq, y_test),\n",
        "    batch_size=batch_size,\n",
        "    epochs=epochs,\n",
        "    verbose=1\n",
        ")\n",
        "\n",
        "# 4. Đánh giá mô hình\n",
        "loss, accuracy = model_lstm.evaluate(X_test_seq, y_test)\n",
        "print(f\"Test Accuracy: {accuracy:.4f}\")\n",
        "\n",
        "y_pred = model_lstm.predict(X_test_seq)\n",
        "y_pred_labels = np.argmax(y_pred, axis=1)\n",
        "y_true_labels = np.argmax(y_test, axis=1)\n",
        "\n",
        "print(\"Classification Report:\")\n",
        "print(classification_report(y_true_labels, y_pred_labels, target_names=num_to_emotion.values()))\n",
        "\n",
        "# 5. Lưu mô hình\n",
        "model_lstm.save(folder + '/lstm_emotion_model.h5')"
      ]
    },
    {
      "cell_type": "code",
      "execution_count": 58,
      "metadata": {},
      "outputs": [],
      "source": [
        "from kerastuner import HyperModel\n",
        "from kerastuner.tuners import RandomSearch\n",
        "\n",
        "def build_model(hp):\n",
        "    model = Sequential()\n",
        "    \n",
        "    # Embedding Layer\n",
        "    embedding_dim = 100  # Match this to Word2Vec dimension\n",
        "    model.add(Embedding(\n",
        "        input_dim=vocab_size,\n",
        "        output_dim=embedding_dim,\n",
        "        weights=[embedding_matrix],\n",
        "        input_length=max_len,\n",
        "        trainable=True\n",
        "    ))\n",
        "\n",
        "    # LSTM Layers\n",
        "    model.add(Bidirectional(LSTM(\n",
        "        units=hp.Choice('lstm_units_1', [64, 128, 256]),\n",
        "        return_sequences=True,\n",
        "        dropout=hp.Choice('dropout_1', [0.2, 0.3, 0.4]),\n",
        "        recurrent_dropout=hp.Choice('recurrent_dropout_1', [0.2, 0.3, 0.4])\n",
        "    )))\n",
        "    model.add(Bidirectional(LSTM(\n",
        "        units=hp.Choice('lstm_units_2', [32, 64, 128]),\n",
        "        dropout=hp.Choice('dropout_2', [0.2, 0.3, 0.4]),\n",
        "        recurrent_dropout=hp.Choice('recurrent_dropout_2', [0.2, 0.3, 0.4])\n",
        "    )))\n",
        "\n",
        "    # Dense Layer\n",
        "    model.add(Dense(units=hp.Choice('dense_units', [32, 64, 128]), activation='relu'))\n",
        "    model.add(Dropout(hp.Choice('dropout_dense', [0.2, 0.3, 0.4])))\n",
        "\n",
        "    # Output Layer\n",
        "    model.add(Dense(len(emotion_to_num), activation='softmax'))\n",
        "\n",
        "    # Compile Model\n",
        "    model.compile(\n",
        "        optimizer=tf.keras.optimizers.Adam(learning_rate=hp.Choice('learning_rate', [0.001, 0.0005, 0.0001])),\n",
        "        loss='categorical_crossentropy',\n",
        "        metrics=['accuracy']\n",
        "    )\n",
        "    return model"
      ]
    },
    {
      "cell_type": "code",
      "execution_count": 59,
      "metadata": {},
      "outputs": [
        {
          "name": "stdout",
          "output_type": "stream",
          "text": [
            "Trial 10 Complete [00h 02m 28s]\n",
            "val_accuracy: 0.7183745503425598\n",
            "\n",
            "Best val_accuracy So Far: 0.7183745503425598\n",
            "Total elapsed time: 00h 43m 33s\n"
          ]
        }
      ],
      "source": [
        "tuner = RandomSearch(\n",
        "    build_model,\n",
        "    objective='val_accuracy',\n",
        "    max_trials=10,  # Number of hyperparameter combinations to try\n",
        "    executions_per_trial=1,  # Number of executions for each trial\n",
        "    directory='tuning_results',\n",
        "    project_name='lstm_emotion_tuning'\n",
        ")\n",
        "\n",
        "tuner.search(\n",
        "    X_train_seq, y_train,\n",
        "    validation_data=(X_test_seq, y_test),\n",
        "    epochs=10,\n",
        "    batch_size=32\n",
        ")"
      ]
    },
    {
      "cell_type": "code",
      "execution_count": 61,
      "metadata": {},
      "outputs": [
        {
          "name": "stdout",
          "output_type": "stream",
          "text": [
            "Best lstm_units_1: 128\n",
            "Best lstm_units_2: 32\n",
            "Best dropout_1: 0.2\n",
            "Best dropout_2: 0.4\n",
            "Best learning_rate: 0.001\n"
          ]
        }
      ],
      "source": [
        "best_hps = tuner.get_best_hyperparameters(num_trials=1)[0]\n",
        "print(f\"Best lstm_units_1: {best_hps.get('lstm_units_1')}\")\n",
        "print(f\"Best lstm_units_2: {best_hps.get('lstm_units_2')}\")\n",
        "print(f\"Best dropout_1: {best_hps.get('dropout_1')}\")\n",
        "print(f\"Best dropout_2: {best_hps.get('dropout_2')}\")\n",
        "print(f\"Best learning_rate: {best_hps.get('learning_rate')}\")"
      ]
    },
    {
      "cell_type": "code",
      "execution_count": 62,
      "metadata": {},
      "outputs": [
        {
          "name": "stdout",
          "output_type": "stream",
          "text": [
            "Epoch 1/10\n",
            "\u001b[1m190/190\u001b[0m \u001b[32m━━━━━━━━━━━━━━━━━━━━\u001b[0m\u001b[37m\u001b[0m \u001b[1m20s\u001b[0m 71ms/step - accuracy: 0.3048 - loss: 1.7665 - val_accuracy: 0.4223 - val_loss: 1.5071\n",
            "Epoch 2/10\n",
            "\u001b[1m190/190\u001b[0m \u001b[32m━━━━━━━━━━━━━━━━━━━━\u001b[0m\u001b[37m\u001b[0m \u001b[1m13s\u001b[0m 67ms/step - accuracy: 0.4926 - loss: 1.4056 - val_accuracy: 0.4668 - val_loss: 1.3924\n",
            "Epoch 3/10\n",
            "\u001b[1m190/190\u001b[0m \u001b[32m━━━━━━━━━━━━━━━━━━━━\u001b[0m\u001b[37m\u001b[0m \u001b[1m12s\u001b[0m 65ms/step - accuracy: 0.5517 - loss: 1.2626 - val_accuracy: 0.5254 - val_loss: 1.2646\n",
            "Epoch 4/10\n",
            "\u001b[1m190/190\u001b[0m \u001b[32m━━━━━━━━━━━━━━━━━━━━\u001b[0m\u001b[37m\u001b[0m \u001b[1m12s\u001b[0m 65ms/step - accuracy: 0.6333 - loss: 1.0695 - val_accuracy: 0.5749 - val_loss: 1.1950\n",
            "Epoch 5/10\n",
            "\u001b[1m190/190\u001b[0m \u001b[32m━━━━━━━━━━━━━━━━━━━━\u001b[0m\u001b[37m\u001b[0m \u001b[1m13s\u001b[0m 67ms/step - accuracy: 0.6787 - loss: 0.9261 - val_accuracy: 0.6223 - val_loss: 1.0686\n",
            "Epoch 6/10\n",
            "\u001b[1m190/190\u001b[0m \u001b[32m━━━━━━━━━━━━━━━━━━━━\u001b[0m\u001b[37m\u001b[0m \u001b[1m13s\u001b[0m 67ms/step - accuracy: 0.7146 - loss: 0.8277 - val_accuracy: 0.6466 - val_loss: 1.0101\n",
            "Epoch 7/10\n",
            "\u001b[1m190/190\u001b[0m \u001b[32m━━━━━━━━━━━━━━━━━━━━\u001b[0m\u001b[37m\u001b[0m \u001b[1m13s\u001b[0m 68ms/step - accuracy: 0.7545 - loss: 0.7089 - val_accuracy: 0.6629 - val_loss: 1.0180\n",
            "Epoch 8/10\n",
            "\u001b[1m190/190\u001b[0m \u001b[32m━━━━━━━━━━━━━━━━━━━━\u001b[0m\u001b[37m\u001b[0m \u001b[1m13s\u001b[0m 70ms/step - accuracy: 0.7852 - loss: 0.6332 - val_accuracy: 0.6996 - val_loss: 0.9359\n",
            "Epoch 9/10\n",
            "\u001b[1m190/190\u001b[0m \u001b[32m━━━━━━━━━━━━━━━━━━━━\u001b[0m\u001b[37m\u001b[0m \u001b[1m21s\u001b[0m 73ms/step - accuracy: 0.8058 - loss: 0.5575 - val_accuracy: 0.7088 - val_loss: 0.9531\n",
            "Epoch 10/10\n",
            "\u001b[1m190/190\u001b[0m \u001b[32m━━━━━━━━━━━━━━━━━━━━\u001b[0m\u001b[37m\u001b[0m \u001b[1m15s\u001b[0m 77ms/step - accuracy: 0.8404 - loss: 0.4751 - val_accuracy: 0.7166 - val_loss: 0.9277\n",
            "\u001b[1m89/89\u001b[0m \u001b[32m━━━━━━━━━━━━━━━━━━━━\u001b[0m\u001b[37m\u001b[0m \u001b[1m3s\u001b[0m 29ms/step\n"
          ]
        }
      ],
      "source": [
        "best_model = tuner.hypermodel.build(best_hps)\n",
        "history = best_model.fit(\n",
        "    X_train_seq, y_train,\n",
        "    validation_data=(X_test_seq, y_test),\n",
        "    epochs=10,\n",
        "    batch_size=32\n",
        ")\n",
        "# Classification Report\n",
        "y_pred = best_model.predict(X_test_seq)"
      ]
    },
    {
      "cell_type": "code",
      "execution_count": 74,
      "metadata": {},
      "outputs": [
        {
          "data": {
            "image/png": "[encoded data removed]",
            "text/plain": [
              "<Figure size 1200x600 with 1 Axes>"
            ]
          },
          "metadata": {},
          "output_type": "display_data"
        },
        {
          "data": {
            "image/png": "[encoded data removed]",
            "text/plain": [
              "<Figure size 1200x600 with 1 Axes>"
            ]
          },
          "metadata": {},
          "output_type": "display_data"
        }
      ],
      "source": [
        "import matplotlib.pyplot as plt\n",
        "\n",
        "# Plot Training and Validation Accuracy\n",
        "plt.figure(figsize=(12, 6))\n",
        "plt.plot(history.history['accuracy'], label='Training Accuracy', marker='o')\n",
        "plt.plot(history.history['val_accuracy'], label='Validation Accuracy', marker='o')\n",
        "plt.title('Training and Validation Accuracy')\n",
        "plt.xlabel('Epochs')\n",
        "plt.ylabel('Accuracy')\n",
        "plt.legend()\n",
        "plt.grid(True)\n",
        "plt.show()\n",
        "\n",
        "# Plot Training and Validation Loss\n",
        "plt.figure(figsize=(12, 6))\n",
        "plt.plot(history.history['loss'], label='Training Loss', marker='o')\n",
        "plt.plot(history.history['val_loss'], label='Validation Loss', marker='o')\n",
        "plt.title('Training and Validation Loss')\n",
        "plt.xlabel('Epochs')\n",
        "plt.ylabel('Loss')\n",
        "plt.legend()\n",
        "plt.grid(True)\n",
        "plt.show()\n"
      ]
    },
    {
      "cell_type": "code",
      "execution_count": 63,
      "metadata": {},
      "outputs": [
        {
          "data": {
            "text/plain": [
              "'              precision    recall  f1-score   support\\n\\n    Surprise       0.60      0.69      0.64        99\\n     Sadness       0.76      0.71      0.74       443\\n       Anger       0.56      0.86      0.68       170\\n        Fear       0.75      0.91      0.82       189\\n   Enjoyment       0.80      0.78      0.79       904\\n     Disgust       0.80      0.60      0.69       528\\n       Other       0.56      0.60      0.58       497\\n\\n    accuracy                           0.72      2830\\n   macro avg       0.69      0.74      0.71      2830\\nweighted avg       0.73      0.72      0.72      2830\\n'"
            ]
          },
          "execution_count": 63,
          "metadata": {},
          "output_type": "execute_result"
        }
      ],
      "source": [
        "classification_report(\n",
        "    np.argmax(y_test, axis=1),\n",
        "    np.argmax(y_pred, axis=1),\n",
        "    target_names=num_to_emotion.values()\n",
        ")"
      ]
    },
    {
      "cell_type": "code",
      "execution_count": 64,
      "metadata": {},
      "outputs": [
        {
          "name": "stderr",
          "output_type": "stream",
          "text": [
            "WARNING:absl:You are saving your model as an HDF5 file via `model.save()` or `keras.saving.save_model(model)`. This file format is considered legacy. We recommend using instead the native Keras format, e.g. `model.save('my_model.keras')` or `keras.saving.save_model(model, 'my_model.keras')`. \n"
          ]
        }
      ],
      "source": [
        "best_model.save(r'..\\Trâm model\\best_bilstm_w2v_model.h5')"
      ]
    },
    {
      "cell_type": "code",
      "execution_count": null,
      "metadata": {},
      "outputs": [
        {
          "name": "stderr",
          "output_type": "stream",
          "text": [
            "WARNING:absl:Compiled the loaded model, but the compiled metrics have yet to be built. `model.compile_metrics` will be empty until you train or evaluate the model.\n"
          ]
        },
        {
          "name": "stdout",
          "output_type": "stream",
          "text": [
            "\u001b[1m1/1\u001b[0m \u001b[32m━━━━━━━━━━━━━━━━━━━━\u001b[0m\u001b[37m\u001b[0m \u001b[1m1s\u001b[0m 571ms/step\n"
          ]
        },
        {
          "data": {
            "text/plain": [
              "'Enjoyment'"
            ]
          },
          "execution_count": 73,
          "metadata": {},
          "output_type": "execute_result"
        }
      ],
      "source": [
        "# Load model and make predict\n",
        "bilstm_w2v = tf.keras.models.load_model(r'..\\Trâm model\\best_bilstm_w2v_model.h5')\n",
        "text = 'mình rất vui vẻ'\n",
        "text = tokenize(text)\n",
        "text = remove_stopwords(text)\n",
        "text = np.array([sentence_to_sequence(text, word_index, max_len)])\n",
        "prediction = np.argmax(bilstm_w2v.predict(text), axis=1)\n",
        "prediction = num_to_emotion[prediction[0]]\n",
        "prediction"
      ]
    },
    {
      "cell_type": "code",
      "execution_count": 75,
      "metadata": {},
      "outputs": [
        {
          "data": {
            "text/html": [
              "<pre style=\"white-space:pre;overflow-x:auto;line-height:normal;font-family:Menlo,'DejaVu Sans Mono',consolas,'Courier New',monospace\"><span style=\"font-weight: bold\">Model: \"sequential_1\"</span>\n",
              "</pre>\n"
            ],
            "text/plain": [
              "\u001b[1mModel: \"sequential_1\"\u001b[0m\n"
            ]
          },
          "metadata": {},
          "output_type": "display_data"
        },
        {
          "data": {
            "text/html": [
              "<pre style=\"white-space:pre;overflow-x:auto;line-height:normal;font-family:Menlo,'DejaVu Sans Mono',consolas,'Courier New',monospace\">┏━━━━━━━━━━━━━━━━━━━━━━━━━━━━━━━━━┳━━━━━━━━━━━━━━━━━━━━━━━━┳━━━━━━━━━━━━━━━┓\n",
              "┃<span style=\"font-weight: bold\"> Layer (type)                    </span>┃<span style=\"font-weight: bold\"> Output Shape           </span>┃<span style=\"font-weight: bold\">       Param # </span>┃\n",
              "┡━━━━━━━━━━━━━━━━━━━━━━━━━━━━━━━━━╇━━━━━━━━━━━━━━━━━━━━━━━━╇━━━━━━━━━━━━━━━┩\n",
              "│ embedding_1 (<span style=\"color: #0087ff; text-decoration-color: #0087ff\">Embedding</span>)         │ (<span style=\"color: #00d7ff; text-decoration-color: #00d7ff\">None</span>, <span style=\"color: #00af00; text-decoration-color: #00af00\">50</span>, <span style=\"color: #00af00; text-decoration-color: #00af00\">100</span>)        │       <span style=\"color: #00af00; text-decoration-color: #00af00\">574,700</span> │\n",
              "├─────────────────────────────────┼────────────────────────┼───────────────┤\n",
              "│ bidirectional_2 (<span style=\"color: #0087ff; text-decoration-color: #0087ff\">Bidirectional</span>) │ (<span style=\"color: #00d7ff; text-decoration-color: #00d7ff\">None</span>, <span style=\"color: #00af00; text-decoration-color: #00af00\">50</span>, <span style=\"color: #00af00; text-decoration-color: #00af00\">256</span>)        │       <span style=\"color: #00af00; text-decoration-color: #00af00\">234,496</span> │\n",
              "├─────────────────────────────────┼────────────────────────┼───────────────┤\n",
              "│ bidirectional_3 (<span style=\"color: #0087ff; text-decoration-color: #0087ff\">Bidirectional</span>) │ (<span style=\"color: #00d7ff; text-decoration-color: #00d7ff\">None</span>, <span style=\"color: #00af00; text-decoration-color: #00af00\">64</span>)             │        <span style=\"color: #00af00; text-decoration-color: #00af00\">73,984</span> │\n",
              "├─────────────────────────────────┼────────────────────────┼───────────────┤\n",
              "│ dense_2 (<span style=\"color: #0087ff; text-decoration-color: #0087ff\">Dense</span>)                 │ (<span style=\"color: #00d7ff; text-decoration-color: #00d7ff\">None</span>, <span style=\"color: #00af00; text-decoration-color: #00af00\">128</span>)            │         <span style=\"color: #00af00; text-decoration-color: #00af00\">8,320</span> │\n",
              "├─────────────────────────────────┼────────────────────────┼───────────────┤\n",
              "│ dropout_1 (<span style=\"color: #0087ff; text-decoration-color: #0087ff\">Dropout</span>)             │ (<span style=\"color: #00d7ff; text-decoration-color: #00d7ff\">None</span>, <span style=\"color: #00af00; text-decoration-color: #00af00\">128</span>)            │             <span style=\"color: #00af00; text-decoration-color: #00af00\">0</span> │\n",
              "├─────────────────────────────────┼────────────────────────┼───────────────┤\n",
              "│ dense_3 (<span style=\"color: #0087ff; text-decoration-color: #0087ff\">Dense</span>)                 │ (<span style=\"color: #00d7ff; text-decoration-color: #00d7ff\">None</span>, <span style=\"color: #00af00; text-decoration-color: #00af00\">7</span>)              │           <span style=\"color: #00af00; text-decoration-color: #00af00\">903</span> │\n",
              "└─────────────────────────────────┴────────────────────────┴───────────────┘\n",
              "</pre>\n"
            ],
            "text/plain": [
              "┏━━━━━━━━━━━━━━━━━━━━━━━━━━━━━━━━━┳━━━━━━━━━━━━━━━━━━━━━━━━┳━━━━━━━━━━━━━━━┓\n",
              "┃\u001b[1m \u001b[0m\u001b[1mLayer (type)                   \u001b[0m\u001b[1m \u001b[0m┃\u001b[1m \u001b[0m\u001b[1mOutput Shape          \u001b[0m\u001b[1m \u001b[0m┃\u001b[1m \u001b[0m\u001b[1m      Param #\u001b[0m\u001b[1m \u001b[0m┃\n",
              "┡━━━━━━━━━━━━━━━━━━━━━━━━━━━━━━━━━╇━━━━━━━━━━━━━━━━━━━━━━━━╇━━━━━━━━━━━━━━━┩\n",
              "│ embedding_1 (\u001b[38;5;33mEmbedding\u001b[0m)         │ (\u001b[38;5;45mNone\u001b[0m, \u001b[38;5;34m50\u001b[0m, \u001b[38;5;34m100\u001b[0m)        │       \u001b[38;5;34m574,700\u001b[0m │\n",
              "├─────────────────────────────────┼────────────────────────┼───────────────┤\n",
              "│ bidirectional_2 (\u001b[38;5;33mBidirectional\u001b[0m) │ (\u001b[38;5;45mNone\u001b[0m, \u001b[38;5;34m50\u001b[0m, \u001b[38;5;34m256\u001b[0m)        │       \u001b[38;5;34m234,496\u001b[0m │\n",
              "├─────────────────────────────────┼────────────────────────┼───────────────┤\n",
              "│ bidirectional_3 (\u001b[38;5;33mBidirectional\u001b[0m) │ (\u001b[38;5;45mNone\u001b[0m, \u001b[38;5;34m64\u001b[0m)             │        \u001b[38;5;34m73,984\u001b[0m │\n",
              "├─────────────────────────────────┼────────────────────────┼───────────────┤\n",
              "│ dense_2 (\u001b[38;5;33mDense\u001b[0m)                 │ (\u001b[38;5;45mNone\u001b[0m, \u001b[38;5;34m128\u001b[0m)            │         \u001b[38;5;34m8,320\u001b[0m │\n",
              "├─────────────────────────────────┼────────────────────────┼───────────────┤\n",
              "│ dropout_1 (\u001b[38;5;33mDropout\u001b[0m)             │ (\u001b[38;5;45mNone\u001b[0m, \u001b[38;5;34m128\u001b[0m)            │             \u001b[38;5;34m0\u001b[0m │\n",
              "├─────────────────────────────────┼────────────────────────┼───────────────┤\n",
              "│ dense_3 (\u001b[38;5;33mDense\u001b[0m)                 │ (\u001b[38;5;45mNone\u001b[0m, \u001b[38;5;34m7\u001b[0m)              │           \u001b[38;5;34m903\u001b[0m │\n",
              "└─────────────────────────────────┴────────────────────────┴───────────────┘\n"
            ]
          },
          "metadata": {},
          "output_type": "display_data"
        },
        {
          "data": {
            "text/html": [
              "<pre style=\"white-space:pre;overflow-x:auto;line-height:normal;font-family:Menlo,'DejaVu Sans Mono',consolas,'Courier New',monospace\"><span style=\"font-weight: bold\"> Total params: </span><span style=\"color: #00af00; text-decoration-color: #00af00\">892,405</span> (3.40 MB)\n",
              "</pre>\n"
            ],
            "text/plain": [
              "\u001b[1m Total params: \u001b[0m\u001b[38;5;34m892,405\u001b[0m (3.40 MB)\n"
            ]
          },
          "metadata": {},
          "output_type": "display_data"
        },
        {
          "data": {
            "text/html": [
              "<pre style=\"white-space:pre;overflow-x:auto;line-height:normal;font-family:Menlo,'DejaVu Sans Mono',consolas,'Courier New',monospace\"><span style=\"font-weight: bold\"> Trainable params: </span><span style=\"color: #00af00; text-decoration-color: #00af00\">892,403</span> (3.40 MB)\n",
              "</pre>\n"
            ],
            "text/plain": [
              "\u001b[1m Trainable params: \u001b[0m\u001b[38;5;34m892,403\u001b[0m (3.40 MB)\n"
            ]
          },
          "metadata": {},
          "output_type": "display_data"
        },
        {
          "data": {
            "text/html": [
              "<pre style=\"white-space:pre;overflow-x:auto;line-height:normal;font-family:Menlo,'DejaVu Sans Mono',consolas,'Courier New',monospace\"><span style=\"font-weight: bold\"> Non-trainable params: </span><span style=\"color: #00af00; text-decoration-color: #00af00\">0</span> (0.00 B)\n",
              "</pre>\n"
            ],
            "text/plain": [
              "\u001b[1m Non-trainable params: \u001b[0m\u001b[38;5;34m0\u001b[0m (0.00 B)\n"
            ]
          },
          "metadata": {},
          "output_type": "display_data"
        },
        {
          "data": {
            "text/html": [
              "<pre style=\"white-space:pre;overflow-x:auto;line-height:normal;font-family:Menlo,'DejaVu Sans Mono',consolas,'Courier New',monospace\"><span style=\"font-weight: bold\"> Optimizer params: </span><span style=\"color: #00af00; text-decoration-color: #00af00\">2</span> (12.00 B)\n",
              "</pre>\n"
            ],
            "text/plain": [
              "\u001b[1m Optimizer params: \u001b[0m\u001b[38;5;34m2\u001b[0m (12.00 B)\n"
            ]
          },
          "metadata": {},
          "output_type": "display_data"
        }
      ],
      "source": [
        "# summary of the model\n",
        "bilstm_w2v.summary()"
      ]
    },
    {
      "cell_type": "markdown",
      "metadata": {},
      "source": [
        "Chỉnh lại W2V\n"
      ]
    },
    {
      "cell_type": "code",
      "execution_count": 55,
      "metadata": {},
      "outputs": [],
      "source": [
        "def convert_sentence_to_sequence(sentence, word_index, max_len):\n",
        "    sequence = [word_index.get(word, 0) for word in sentence]  # 0 nếu từ không có trong Word2Vec\n",
        "    return sequence[:max_len] + [0] * max(0, max_len - len(sequence))  # Padding"
      ]
    },
    {
      "cell_type": "code",
      "execution_count": 147,
      "metadata": {},
      "outputs": [
        {
          "name": "stderr",
          "output_type": "stream",
          "text": [
            "c:\\Users\\Administrator\\AppData\\Local\\Programs\\Python\\Python312\\Lib\\site-packages\\keras\\src\\layers\\core\\embedding.py:90: UserWarning: Argument `input_length` is deprecated. Just remove it.\n",
            "  warnings.warn(\n"
          ]
        },
        {
          "data": {
            "text/html": [
              "<pre style=\"white-space:pre;overflow-x:auto;line-height:normal;font-family:Menlo,'DejaVu Sans Mono',consolas,'Courier New',monospace\"><span style=\"font-weight: bold\">Model: \"sequential_5\"</span>\n",
              "</pre>\n"
            ],
            "text/plain": [
              "\u001b[1mModel: \"sequential_5\"\u001b[0m\n"
            ]
          },
          "metadata": {},
          "output_type": "display_data"
        },
        {
          "data": {
            "text/html": [
              "<pre style=\"white-space:pre;overflow-x:auto;line-height:normal;font-family:Menlo,'DejaVu Sans Mono',consolas,'Courier New',monospace\">┏━━━━━━━━━━━━━━━━━━━━━━━━━━━━━━━━━┳━━━━━━━━━━━━━━━━━━━━━━━━┳━━━━━━━━━━━━━━━┓\n",
              "┃<span style=\"font-weight: bold\"> Layer (type)                    </span>┃<span style=\"font-weight: bold\"> Output Shape           </span>┃<span style=\"font-weight: bold\">       Param # </span>┃\n",
              "┡━━━━━━━━━━━━━━━━━━━━━━━━━━━━━━━━━╇━━━━━━━━━━━━━━━━━━━━━━━━╇━━━━━━━━━━━━━━━┩\n",
              "│ embedding_3 (<span style=\"color: #0087ff; text-decoration-color: #0087ff\">Embedding</span>)         │ (<span style=\"color: #00d7ff; text-decoration-color: #00d7ff\">None</span>, <span style=\"color: #00af00; text-decoration-color: #00af00\">50</span>, <span style=\"color: #00af00; text-decoration-color: #00af00\">100</span>)        │       <span style=\"color: #00af00; text-decoration-color: #00af00\">581,900</span> │\n",
              "├─────────────────────────────────┼────────────────────────┼───────────────┤\n",
              "│ bidirectional_6 (<span style=\"color: #0087ff; text-decoration-color: #0087ff\">Bidirectional</span>) │ (<span style=\"color: #00d7ff; text-decoration-color: #00d7ff\">None</span>, <span style=\"color: #00af00; text-decoration-color: #00af00\">50</span>, <span style=\"color: #00af00; text-decoration-color: #00af00\">256</span>)        │       <span style=\"color: #00af00; text-decoration-color: #00af00\">234,496</span> │\n",
              "├─────────────────────────────────┼────────────────────────┼───────────────┤\n",
              "│ batch_normalization_4           │ (<span style=\"color: #00d7ff; text-decoration-color: #00d7ff\">None</span>, <span style=\"color: #00af00; text-decoration-color: #00af00\">50</span>, <span style=\"color: #00af00; text-decoration-color: #00af00\">256</span>)        │         <span style=\"color: #00af00; text-decoration-color: #00af00\">1,024</span> │\n",
              "│ (<span style=\"color: #0087ff; text-decoration-color: #0087ff\">BatchNormalization</span>)            │                        │               │\n",
              "├─────────────────────────────────┼────────────────────────┼───────────────┤\n",
              "│ dropout_11 (<span style=\"color: #0087ff; text-decoration-color: #0087ff\">Dropout</span>)            │ (<span style=\"color: #00d7ff; text-decoration-color: #00d7ff\">None</span>, <span style=\"color: #00af00; text-decoration-color: #00af00\">50</span>, <span style=\"color: #00af00; text-decoration-color: #00af00\">256</span>)        │             <span style=\"color: #00af00; text-decoration-color: #00af00\">0</span> │\n",
              "├─────────────────────────────────┼────────────────────────┼───────────────┤\n",
              "│ bidirectional_7 (<span style=\"color: #0087ff; text-decoration-color: #0087ff\">Bidirectional</span>) │ (<span style=\"color: #00d7ff; text-decoration-color: #00d7ff\">None</span>, <span style=\"color: #00af00; text-decoration-color: #00af00\">128</span>)            │       <span style=\"color: #00af00; text-decoration-color: #00af00\">164,352</span> │\n",
              "├─────────────────────────────────┼────────────────────────┼───────────────┤\n",
              "│ batch_normalization_5           │ (<span style=\"color: #00d7ff; text-decoration-color: #00d7ff\">None</span>, <span style=\"color: #00af00; text-decoration-color: #00af00\">128</span>)            │           <span style=\"color: #00af00; text-decoration-color: #00af00\">512</span> │\n",
              "│ (<span style=\"color: #0087ff; text-decoration-color: #0087ff\">BatchNormalization</span>)            │                        │               │\n",
              "├─────────────────────────────────┼────────────────────────┼───────────────┤\n",
              "│ dropout_12 (<span style=\"color: #0087ff; text-decoration-color: #0087ff\">Dropout</span>)            │ (<span style=\"color: #00d7ff; text-decoration-color: #00d7ff\">None</span>, <span style=\"color: #00af00; text-decoration-color: #00af00\">128</span>)            │             <span style=\"color: #00af00; text-decoration-color: #00af00\">0</span> │\n",
              "├─────────────────────────────────┼────────────────────────┼───────────────┤\n",
              "│ dense_12 (<span style=\"color: #0087ff; text-decoration-color: #0087ff\">Dense</span>)                │ (<span style=\"color: #00d7ff; text-decoration-color: #00d7ff\">None</span>, <span style=\"color: #00af00; text-decoration-color: #00af00\">256</span>)            │        <span style=\"color: #00af00; text-decoration-color: #00af00\">33,024</span> │\n",
              "├─────────────────────────────────┼────────────────────────┼───────────────┤\n",
              "│ dropout_13 (<span style=\"color: #0087ff; text-decoration-color: #0087ff\">Dropout</span>)            │ (<span style=\"color: #00d7ff; text-decoration-color: #00d7ff\">None</span>, <span style=\"color: #00af00; text-decoration-color: #00af00\">256</span>)            │             <span style=\"color: #00af00; text-decoration-color: #00af00\">0</span> │\n",
              "├─────────────────────────────────┼────────────────────────┼───────────────┤\n",
              "│ dense_13 (<span style=\"color: #0087ff; text-decoration-color: #0087ff\">Dense</span>)                │ (<span style=\"color: #00d7ff; text-decoration-color: #00d7ff\">None</span>, <span style=\"color: #00af00; text-decoration-color: #00af00\">7</span>)              │         <span style=\"color: #00af00; text-decoration-color: #00af00\">1,799</span> │\n",
              "└─────────────────────────────────┴────────────────────────┴───────────────┘\n",
              "</pre>\n"
            ],
            "text/plain": [
              "┏━━━━━━━━━━━━━━━━━━━━━━━━━━━━━━━━━┳━━━━━━━━━━━━━━━━━━━━━━━━┳━━━━━━━━━━━━━━━┓\n",
              "┃\u001b[1m \u001b[0m\u001b[1mLayer (type)                   \u001b[0m\u001b[1m \u001b[0m┃\u001b[1m \u001b[0m\u001b[1mOutput Shape          \u001b[0m\u001b[1m \u001b[0m┃\u001b[1m \u001b[0m\u001b[1m      Param #\u001b[0m\u001b[1m \u001b[0m┃\n",
              "┡━━━━━━━━━━━━━━━━━━━━━━━━━━━━━━━━━╇━━━━━━━━━━━━━━━━━━━━━━━━╇━━━━━━━━━━━━━━━┩\n",
              "│ embedding_3 (\u001b[38;5;33mEmbedding\u001b[0m)         │ (\u001b[38;5;45mNone\u001b[0m, \u001b[38;5;34m50\u001b[0m, \u001b[38;5;34m100\u001b[0m)        │       \u001b[38;5;34m581,900\u001b[0m │\n",
              "├─────────────────────────────────┼────────────────────────┼───────────────┤\n",
              "│ bidirectional_6 (\u001b[38;5;33mBidirectional\u001b[0m) │ (\u001b[38;5;45mNone\u001b[0m, \u001b[38;5;34m50\u001b[0m, \u001b[38;5;34m256\u001b[0m)        │       \u001b[38;5;34m234,496\u001b[0m │\n",
              "├─────────────────────────────────┼────────────────────────┼───────────────┤\n",
              "│ batch_normalization_4           │ (\u001b[38;5;45mNone\u001b[0m, \u001b[38;5;34m50\u001b[0m, \u001b[38;5;34m256\u001b[0m)        │         \u001b[38;5;34m1,024\u001b[0m │\n",
              "│ (\u001b[38;5;33mBatchNormalization\u001b[0m)            │                        │               │\n",
              "├─────────────────────────────────┼────────────────────────┼───────────────┤\n",
              "│ dropout_11 (\u001b[38;5;33mDropout\u001b[0m)            │ (\u001b[38;5;45mNone\u001b[0m, \u001b[38;5;34m50\u001b[0m, \u001b[38;5;34m256\u001b[0m)        │             \u001b[38;5;34m0\u001b[0m │\n",
              "├─────────────────────────────────┼────────────────────────┼───────────────┤\n",
              "│ bidirectional_7 (\u001b[38;5;33mBidirectional\u001b[0m) │ (\u001b[38;5;45mNone\u001b[0m, \u001b[38;5;34m128\u001b[0m)            │       \u001b[38;5;34m164,352\u001b[0m │\n",
              "├─────────────────────────────────┼────────────────────────┼───────────────┤\n",
              "│ batch_normalization_5           │ (\u001b[38;5;45mNone\u001b[0m, \u001b[38;5;34m128\u001b[0m)            │           \u001b[38;5;34m512\u001b[0m │\n",
              "│ (\u001b[38;5;33mBatchNormalization\u001b[0m)            │                        │               │\n",
              "├─────────────────────────────────┼────────────────────────┼───────────────┤\n",
              "│ dropout_12 (\u001b[38;5;33mDropout\u001b[0m)            │ (\u001b[38;5;45mNone\u001b[0m, \u001b[38;5;34m128\u001b[0m)            │             \u001b[38;5;34m0\u001b[0m │\n",
              "├─────────────────────────────────┼────────────────────────┼───────────────┤\n",
              "│ dense_12 (\u001b[38;5;33mDense\u001b[0m)                │ (\u001b[38;5;45mNone\u001b[0m, \u001b[38;5;34m256\u001b[0m)            │        \u001b[38;5;34m33,024\u001b[0m │\n",
              "├─────────────────────────────────┼────────────────────────┼───────────────┤\n",
              "│ dropout_13 (\u001b[38;5;33mDropout\u001b[0m)            │ (\u001b[38;5;45mNone\u001b[0m, \u001b[38;5;34m256\u001b[0m)            │             \u001b[38;5;34m0\u001b[0m │\n",
              "├─────────────────────────────────┼────────────────────────┼───────────────┤\n",
              "│ dense_13 (\u001b[38;5;33mDense\u001b[0m)                │ (\u001b[38;5;45mNone\u001b[0m, \u001b[38;5;34m7\u001b[0m)              │         \u001b[38;5;34m1,799\u001b[0m │\n",
              "└─────────────────────────────────┴────────────────────────┴───────────────┘\n"
            ]
          },
          "metadata": {},
          "output_type": "display_data"
        },
        {
          "data": {
            "text/html": [
              "<pre style=\"white-space:pre;overflow-x:auto;line-height:normal;font-family:Menlo,'DejaVu Sans Mono',consolas,'Courier New',monospace\"><span style=\"font-weight: bold\"> Total params: </span><span style=\"color: #00af00; text-decoration-color: #00af00\">1,017,107</span> (3.88 MB)\n",
              "</pre>\n"
            ],
            "text/plain": [
              "\u001b[1m Total params: \u001b[0m\u001b[38;5;34m1,017,107\u001b[0m (3.88 MB)\n"
            ]
          },
          "metadata": {},
          "output_type": "display_data"
        },
        {
          "data": {
            "text/html": [
              "<pre style=\"white-space:pre;overflow-x:auto;line-height:normal;font-family:Menlo,'DejaVu Sans Mono',consolas,'Courier New',monospace\"><span style=\"font-weight: bold\"> Trainable params: </span><span style=\"color: #00af00; text-decoration-color: #00af00\">434,439</span> (1.66 MB)\n",
              "</pre>\n"
            ],
            "text/plain": [
              "\u001b[1m Trainable params: \u001b[0m\u001b[38;5;34m434,439\u001b[0m (1.66 MB)\n"
            ]
          },
          "metadata": {},
          "output_type": "display_data"
        },
        {
          "data": {
            "text/html": [
              "<pre style=\"white-space:pre;overflow-x:auto;line-height:normal;font-family:Menlo,'DejaVu Sans Mono',consolas,'Courier New',monospace\"><span style=\"font-weight: bold\"> Non-trainable params: </span><span style=\"color: #00af00; text-decoration-color: #00af00\">582,668</span> (2.22 MB)\n",
              "</pre>\n"
            ],
            "text/plain": [
              "\u001b[1m Non-trainable params: \u001b[0m\u001b[38;5;34m582,668\u001b[0m (2.22 MB)\n"
            ]
          },
          "metadata": {},
          "output_type": "display_data"
        },
        {
          "name": "stdout",
          "output_type": "stream",
          "text": [
            "Epoch 1/10\n",
            "\u001b[1m177/177\u001b[0m \u001b[32m━━━━━━━━━━━━━━━━━━━━\u001b[0m\u001b[37m\u001b[0m \u001b[1m10s\u001b[0m 33ms/step - accuracy: 0.2751 - loss: 1.9583 - val_accuracy: 0.4111 - val_loss: 1.6328\n",
            "Epoch 2/10\n",
            "\u001b[1m177/177\u001b[0m \u001b[32m━━━━━━━━━━━━━━━━━━━━\u001b[0m\u001b[37m\u001b[0m \u001b[1m5s\u001b[0m 30ms/step - accuracy: 0.4603 - loss: 1.5140 - val_accuracy: 0.4697 - val_loss: 1.4423\n",
            "Epoch 3/10\n",
            "\u001b[1m177/177\u001b[0m \u001b[32m━━━━━━━━━━━━━━━━━━━━\u001b[0m\u001b[37m\u001b[0m \u001b[1m6s\u001b[0m 34ms/step - accuracy: 0.4982 - loss: 1.3877 - val_accuracy: 0.4962 - val_loss: 1.3581\n",
            "Epoch 4/10\n",
            "\u001b[1m177/177\u001b[0m \u001b[32m━━━━━━━━━━━━━━━━━━━━\u001b[0m\u001b[37m\u001b[0m \u001b[1m6s\u001b[0m 32ms/step - accuracy: 0.5262 - loss: 1.2963 - val_accuracy: 0.4986 - val_loss: 1.3289\n",
            "Epoch 5/10\n",
            "\u001b[1m177/177\u001b[0m \u001b[32m━━━━━━━━━━━━━━━━━━━━\u001b[0m\u001b[37m\u001b[0m \u001b[1m6s\u001b[0m 33ms/step - accuracy: 0.5679 - loss: 1.2168 - val_accuracy: 0.5380 - val_loss: 1.2403\n",
            "Epoch 6/10\n",
            "\u001b[1m177/177\u001b[0m \u001b[32m━━━━━━━━━━━━━━━━━━━━\u001b[0m\u001b[37m\u001b[0m \u001b[1m6s\u001b[0m 32ms/step - accuracy: 0.5984 - loss: 1.1049 - val_accuracy: 0.5781 - val_loss: 1.1540\n",
            "Epoch 7/10\n",
            "\u001b[1m177/177\u001b[0m \u001b[32m━━━━━━━━━━━━━━━━━━━━\u001b[0m\u001b[37m\u001b[0m \u001b[1m5s\u001b[0m 30ms/step - accuracy: 0.6359 - loss: 1.0212 - val_accuracy: 0.5642 - val_loss: 1.2229\n",
            "Epoch 8/10\n",
            "\u001b[1m177/177\u001b[0m \u001b[32m━━━━━━━━━━━━━━━━━━━━\u001b[0m\u001b[37m\u001b[0m \u001b[1m5s\u001b[0m 30ms/step - accuracy: 0.6640 - loss: 0.9335 - val_accuracy: 0.5425 - val_loss: 1.2986\n",
            "Epoch 9/10\n",
            "\u001b[1m177/177\u001b[0m \u001b[32m━━━━━━━━━━━━━━━━━━━━\u001b[0m\u001b[37m\u001b[0m \u001b[1m6s\u001b[0m 33ms/step - accuracy: 0.6921 - loss: 0.8694 - val_accuracy: 0.5914 - val_loss: 1.1578\n",
            "Epoch 10/10\n",
            "\u001b[1m177/177\u001b[0m \u001b[32m━━━━━━━━━━━━━━━━━━━━\u001b[0m\u001b[37m\u001b[0m \u001b[1m6s\u001b[0m 33ms/step - accuracy: 0.7147 - loss: 0.7824 - val_accuracy: 0.6088 - val_loss: 1.0965\n",
            "\u001b[1m90/90\u001b[0m \u001b[32m━━━━━━━━━━━━━━━━━━━━\u001b[0m\u001b[37m\u001b[0m \u001b[1m1s\u001b[0m 10ms/step - accuracy: 0.5378 - loss: 1.3342\n",
            "Test Accuracy: 0.6088\n",
            "\u001b[1m90/90\u001b[0m \u001b[32m━━━━━━━━━━━━━━━━━━━━\u001b[0m\u001b[37m\u001b[0m \u001b[1m1s\u001b[0m 13ms/step\n"
          ]
        },
        {
          "name": "stderr",
          "output_type": "stream",
          "text": [
            "WARNING:absl:You are saving your model as an HDF5 file via `model.save()` or `keras.saving.save_model(model)`. This file format is considered legacy. We recommend using instead the native Keras format, e.g. `model.save('my_model.keras')` or `keras.saving.save_model(model, 'my_model.keras')`. \n"
          ]
        },
        {
          "name": "stdout",
          "output_type": "stream",
          "text": [
            "Classification Report:\n",
            "              precision    recall  f1-score   support\n",
            "\n",
            "    Surprise       0.31      0.77      0.45       104\n",
            "     Sadness       0.63      0.65      0.64       462\n",
            "     Disgust       0.63      0.50      0.56       521\n",
            "        Fear       0.60      0.86      0.71       177\n",
            "       Other       0.53      0.39      0.45       511\n",
            "   Enjoyment       0.76      0.67      0.71       906\n",
            "       Anger       0.50      0.81      0.62       187\n",
            "\n",
            "    accuracy                           0.61      2868\n",
            "   macro avg       0.57      0.66      0.59      2868\n",
            "weighted avg       0.63      0.61      0.61      2868\n",
            "\n"
          ]
        }
      ],
      "source": [
        "import numpy as np\n",
        "import pandas as pd\n",
        "import joblib\n",
        "import tensorflow as tf\n",
        "from tensorflow.keras.models import Sequential\n",
        "from tensorflow.keras.layers import LSTM, Dense, Dropout, Embedding, Bidirectional, Input, BatchNormalization\n",
        "from tensorflow.keras.utils import to_categorical\n",
        "from sklearn.metrics import classification_report\n",
        "\n",
        "# 1. Chuẩn bị dữ liệu\n",
        "\n",
        "# Bước 1: Tải mô hình Word2Vec từ file\n",
        "model = joblib.load('D:/HK5/NLP/UIT-VSMEC-20241212T141641Z-001/word2vec_model.pkl')  # Đường dẫn đến mô hình Word2Vec\n",
        "\n",
        "# Bước 2: Tạo ma trận embedding\n",
        "vocab_size = len(model.wv.key_to_index) + 1  # Thêm 1 cho padding token\n",
        "embedding_dimension = model.vector_size  # Kích thước vector embedding\n",
        "embedding_matrix = np.zeros((vocab_size, embedding_dimension))\n",
        "\n",
        "word_index_mapping = {word: index for index, word in enumerate(model.wv.index_to_key, start=1)}\n",
        "for word, index in word_index_mapping.items():\n",
        "    embedding_matrix[index] = model.wv[word]\n",
        "\n",
        "# Định nghĩa độ dài tối đa của câu\n",
        "max_length = 50  # Có thể thay đổi tùy thuộc vào dữ liệu\n",
        "\n",
        "# Chuyển đổi tập huấn luyện và kiểm tra thành các sequence\n",
        "X_train_sequences = np.array([convert_sentence_to_sequence(sentence, word_index_mapping, max_length) for sentence in train_df['Text']])\n",
        "X_test_sequences = np.array([convert_sentence_to_sequence(sentence, word_index_mapping, max_length) for sentence in test_df['Text']])\n",
        "\n",
        "# Chuẩn bị nhãn\n",
        "y_train_labels = to_categorical(train_df['Emotion'].values, num_classes=len(emotion_to_num))\n",
        "y_test_labels = to_categorical(test_df['Emotion'].values, num_classes=len(emotion_to_num))\n",
        "\n",
        "# 2. Xây dựng mô hình LSTM\n",
        "lstm_model = Sequential([\n",
        "    Input(shape=(max_length,)),\n",
        "    Embedding(input_dim=vocab_size, output_dim=embedding_dimension, weights=[embedding_matrix], input_length=max_length, trainable=False),\n",
        "    Bidirectional(LSTM(128, return_sequences=True)),\n",
        "    BatchNormalization(),\n",
        "    Dropout(0.3),\n",
        "    Bidirectional(LSTM(64)),\n",
        "    BatchNormalization(),\n",
        "    Dropout(0.3),\n",
        "    Dense(256, activation='relu'),\n",
        "    Dropout(0.3),\n",
        "    Dense(len(emotion_to_num), activation='softmax')\n",
        "])\n",
        "\n",
        "lstm_model.compile(optimizer='adam', loss='categorical_crossentropy', metrics=['accuracy'])\n",
        "lstm_model.summary()\n",
        "\n",
        "# 3. Huấn luyện mô hình\n",
        "batch_size_value = 34\n",
        "epochs_value = 10\n",
        "\n",
        "training_history = lstm_model.fit(\n",
        "    X_train_sequences, y_train_labels,\n",
        "    validation_data=(X_test_sequences, y_test_labels),\n",
        "    batch_size=batch_size_value,\n",
        "    epochs=epochs_value,\n",
        "    verbose=1\n",
        ")\n",
        "\n",
        "loss_value, accuracy_value = lstm_model.evaluate(X_test_sequences, y_test_labels)\n",
        "print(f\"Test Accuracy: {accuracy_value:.4f}\")\n",
        "\n",
        "predicted_labels = lstm_model.predict(X_test_sequences)\n",
        "predicted_class_labels = np.argmax(predicted_labels, axis=1)\n",
        "true_class_labels = np.argmax(y_test_labels, axis=1)\n",
        "\n",
        "# Đảm bảo rằng num_to_emotion chứa các giá trị là chuỗi\n",
        "target_names = [str(num_to_emotion[key]) for key in sorted(num_to_emotion.keys())]\n",
        "\n",
        "print(\"Classification Report:\")\n",
        "print(classification_report(true_class_labels, predicted_class_labels, target_names=target_names))\n",
        "\n",
        "# 5. Lưu mô hình\n",
        "lstm_model.save(folder + '/lstm_cte_model.h5')"
      ]
    },
    {
      "cell_type": "code",
      "execution_count": 66,
      "metadata": {},
      "outputs": [
        {
          "data": {
            "text/plain": [
              "50"
            ]
          },
          "execution_count": 66,
          "metadata": {},
          "output_type": "execute_result"
        }
      ],
      "source": [
        "max_len"
      ]
    },
    {
      "cell_type": "markdown",
      "metadata": {},
      "source": [
        "CT TFIDF"
      ]
    },
    {
      "cell_type": "code",
      "execution_count": null,
      "metadata": {},
      "outputs": [],
      "source": [
        "training_sentences = train_df['Text'].astype(str).tolist()\n",
        "test_sentences = test_df['Text'].astype(str).tolist()\n",
        "\n",
        "# Bước 2: Tải mô hình TF-IDF đã lưu\n",
        "tfidf_vectorizer = joblib.load(r'D:\\VSCODE\\EmotionsRecognition\\Trâm model\\tfidf_vectorizer.pkl')  # Đường dẫn đến mô hình TF-IDF đã lưu\n",
        "\n",
        "# Chuyển đổi dữ liệu thành ma trận TF-IDF\n",
        "X_train_tfidf = tfidf_vectorizer.transform(training_sentences).toarray()\n",
        "X_test_tfidf = tfidf_vectorizer.transform(test_sentences).toarray()\n",
        "\n",
        "# Chuẩn bị nhãn\n",
        "y_train_labels = to_categorical(train_df['Emotion'].values, num_classes=len(emotion_to_num))\n",
        "y_test_labels = to_categorical(test_df['Emotion'].values, num_classes=len(emotion_to_num))"
      ]
    },
    {
      "cell_type": "code",
      "execution_count": 102,
      "metadata": {},
      "outputs": [],
      "source": [
        "y_train_labels = to_categorical(train_df['Emotion'].values, num_classes=len(emotion_to_num))\n",
        "y_test_labels = to_categorical(test_df['Emotion'].values, num_classes=len(emotion_to_num))"
      ]
    },
    {
      "cell_type": "code",
      "execution_count": 77,
      "metadata": {},
      "outputs": [
        {
          "name": "stderr",
          "output_type": "stream",
          "text": [
            "c:\\Users\\vanhu\\AppData\\Local\\Programs\\Python\\Python312\\Lib\\site-packages\\sklearn\\base.py:376: InconsistentVersionWarning: Trying to unpickle estimator TfidfTransformer from version 1.5.2 when using version 1.5.1. This might lead to breaking code or invalid results. Use at your own risk. For more info please refer to:\n",
            "https://scikit-learn.org/stable/model_persistence.html#security-maintainability-limitations\n",
            "  warnings.warn(\n",
            "c:\\Users\\vanhu\\AppData\\Local\\Programs\\Python\\Python312\\Lib\\site-packages\\sklearn\\base.py:376: InconsistentVersionWarning: Trying to unpickle estimator TfidfVectorizer from version 1.5.2 when using version 1.5.1. This might lead to breaking code or invalid results. Use at your own risk. For more info please refer to:\n",
            "https://scikit-learn.org/stable/model_persistence.html#security-maintainability-limitations\n",
            "  warnings.warn(\n"
          ]
        },
        {
          "data": {
            "text/html": [
              "<pre style=\"white-space:pre;overflow-x:auto;line-height:normal;font-family:Menlo,'DejaVu Sans Mono',consolas,'Courier New',monospace\"><span style=\"font-weight: bold\">Model: \"sequential_2\"</span>\n",
              "</pre>\n"
            ],
            "text/plain": [
              "\u001b[1mModel: \"sequential_2\"\u001b[0m\n"
            ]
          },
          "metadata": {},
          "output_type": "display_data"
        },
        {
          "data": {
            "text/html": [
              "<pre style=\"white-space:pre;overflow-x:auto;line-height:normal;font-family:Menlo,'DejaVu Sans Mono',consolas,'Courier New',monospace\">┏━━━━━━━━━━━━━━━━━━━━━━━━━━━━━━━━━┳━━━━━━━━━━━━━━━━━━━━━━━━┳━━━━━━━━━━━━━━━┓\n",
              "┃<span style=\"font-weight: bold\"> Layer (type)                    </span>┃<span style=\"font-weight: bold\"> Output Shape           </span>┃<span style=\"font-weight: bold\">       Param # </span>┃\n",
              "┡━━━━━━━━━━━━━━━━━━━━━━━━━━━━━━━━━╇━━━━━━━━━━━━━━━━━━━━━━━━╇━━━━━━━━━━━━━━━┩\n",
              "│ dense_4 (<span style=\"color: #0087ff; text-decoration-color: #0087ff\">Dense</span>)                 │ (<span style=\"color: #00d7ff; text-decoration-color: #00d7ff\">None</span>, <span style=\"color: #00af00; text-decoration-color: #00af00\">128</span>)            │       <span style=\"color: #00af00; text-decoration-color: #00af00\">625,152</span> │\n",
              "├─────────────────────────────────┼────────────────────────┼───────────────┤\n",
              "│ dropout_2 (<span style=\"color: #0087ff; text-decoration-color: #0087ff\">Dropout</span>)             │ (<span style=\"color: #00d7ff; text-decoration-color: #00d7ff\">None</span>, <span style=\"color: #00af00; text-decoration-color: #00af00\">128</span>)            │             <span style=\"color: #00af00; text-decoration-color: #00af00\">0</span> │\n",
              "├─────────────────────────────────┼────────────────────────┼───────────────┤\n",
              "│ dense_5 (<span style=\"color: #0087ff; text-decoration-color: #0087ff\">Dense</span>)                 │ (<span style=\"color: #00d7ff; text-decoration-color: #00d7ff\">None</span>, <span style=\"color: #00af00; text-decoration-color: #00af00\">64</span>)             │         <span style=\"color: #00af00; text-decoration-color: #00af00\">8,256</span> │\n",
              "├─────────────────────────────────┼────────────────────────┼───────────────┤\n",
              "│ dropout_3 (<span style=\"color: #0087ff; text-decoration-color: #0087ff\">Dropout</span>)             │ (<span style=\"color: #00d7ff; text-decoration-color: #00d7ff\">None</span>, <span style=\"color: #00af00; text-decoration-color: #00af00\">64</span>)             │             <span style=\"color: #00af00; text-decoration-color: #00af00\">0</span> │\n",
              "├─────────────────────────────────┼────────────────────────┼───────────────┤\n",
              "│ dense_6 (<span style=\"color: #0087ff; text-decoration-color: #0087ff\">Dense</span>)                 │ (<span style=\"color: #00d7ff; text-decoration-color: #00d7ff\">None</span>, <span style=\"color: #00af00; text-decoration-color: #00af00\">7</span>)              │           <span style=\"color: #00af00; text-decoration-color: #00af00\">455</span> │\n",
              "└─────────────────────────────────┴────────────────────────┴───────────────┘\n",
              "</pre>\n"
            ],
            "text/plain": [
              "┏━━━━━━━━━━━━━━━━━━━━━━━━━━━━━━━━━┳━━━━━━━━━━━━━━━━━━━━━━━━┳━━━━━━━━━━━━━━━┓\n",
              "┃\u001b[1m \u001b[0m\u001b[1mLayer (type)                   \u001b[0m\u001b[1m \u001b[0m┃\u001b[1m \u001b[0m\u001b[1mOutput Shape          \u001b[0m\u001b[1m \u001b[0m┃\u001b[1m \u001b[0m\u001b[1m      Param #\u001b[0m\u001b[1m \u001b[0m┃\n",
              "┡━━━━━━━━━━━━━━━━━━━━━━━━━━━━━━━━━╇━━━━━━━━━━━━━━━━━━━━━━━━╇━━━━━━━━━━━━━━━┩\n",
              "│ dense_4 (\u001b[38;5;33mDense\u001b[0m)                 │ (\u001b[38;5;45mNone\u001b[0m, \u001b[38;5;34m128\u001b[0m)            │       \u001b[38;5;34m625,152\u001b[0m │\n",
              "├─────────────────────────────────┼────────────────────────┼───────────────┤\n",
              "│ dropout_2 (\u001b[38;5;33mDropout\u001b[0m)             │ (\u001b[38;5;45mNone\u001b[0m, \u001b[38;5;34m128\u001b[0m)            │             \u001b[38;5;34m0\u001b[0m │\n",
              "├─────────────────────────────────┼────────────────────────┼───────────────┤\n",
              "│ dense_5 (\u001b[38;5;33mDense\u001b[0m)                 │ (\u001b[38;5;45mNone\u001b[0m, \u001b[38;5;34m64\u001b[0m)             │         \u001b[38;5;34m8,256\u001b[0m │\n",
              "├─────────────────────────────────┼────────────────────────┼───────────────┤\n",
              "│ dropout_3 (\u001b[38;5;33mDropout\u001b[0m)             │ (\u001b[38;5;45mNone\u001b[0m, \u001b[38;5;34m64\u001b[0m)             │             \u001b[38;5;34m0\u001b[0m │\n",
              "├─────────────────────────────────┼────────────────────────┼───────────────┤\n",
              "│ dense_6 (\u001b[38;5;33mDense\u001b[0m)                 │ (\u001b[38;5;45mNone\u001b[0m, \u001b[38;5;34m7\u001b[0m)              │           \u001b[38;5;34m455\u001b[0m │\n",
              "└─────────────────────────────────┴────────────────────────┴───────────────┘\n"
            ]
          },
          "metadata": {},
          "output_type": "display_data"
        },
        {
          "data": {
            "text/html": [
              "<pre style=\"white-space:pre;overflow-x:auto;line-height:normal;font-family:Menlo,'DejaVu Sans Mono',consolas,'Courier New',monospace\"><span style=\"font-weight: bold\"> Total params: </span><span style=\"color: #00af00; text-decoration-color: #00af00\">633,863</span> (2.42 MB)\n",
              "</pre>\n"
            ],
            "text/plain": [
              "\u001b[1m Total params: \u001b[0m\u001b[38;5;34m633,863\u001b[0m (2.42 MB)\n"
            ]
          },
          "metadata": {},
          "output_type": "display_data"
        },
        {
          "data": {
            "text/html": [
              "<pre style=\"white-space:pre;overflow-x:auto;line-height:normal;font-family:Menlo,'DejaVu Sans Mono',consolas,'Courier New',monospace\"><span style=\"font-weight: bold\"> Trainable params: </span><span style=\"color: #00af00; text-decoration-color: #00af00\">633,863</span> (2.42 MB)\n",
              "</pre>\n"
            ],
            "text/plain": [
              "\u001b[1m Trainable params: \u001b[0m\u001b[38;5;34m633,863\u001b[0m (2.42 MB)\n"
            ]
          },
          "metadata": {},
          "output_type": "display_data"
        },
        {
          "data": {
            "text/html": [
              "<pre style=\"white-space:pre;overflow-x:auto;line-height:normal;font-family:Menlo,'DejaVu Sans Mono',consolas,'Courier New',monospace\"><span style=\"font-weight: bold\"> Non-trainable params: </span><span style=\"color: #00af00; text-decoration-color: #00af00\">0</span> (0.00 B)\n",
              "</pre>\n"
            ],
            "text/plain": [
              "\u001b[1m Non-trainable params: \u001b[0m\u001b[38;5;34m0\u001b[0m (0.00 B)\n"
            ]
          },
          "metadata": {},
          "output_type": "display_data"
        },
        {
          "name": "stdout",
          "output_type": "stream",
          "text": [
            "Epoch 1/10\n",
            "\u001b[1m179/179\u001b[0m \u001b[32m━━━━━━━━━━━━━━━━━━━━\u001b[0m\u001b[37m\u001b[0m \u001b[1m3s\u001b[0m 8ms/step - accuracy: 0.2628 - loss: 1.8816 - val_accuracy: 0.5293 - val_loss: 1.4625\n",
            "Epoch 2/10\n",
            "\u001b[1m179/179\u001b[0m \u001b[32m━━━━━━━━━━━━━━━━━━━━\u001b[0m\u001b[37m\u001b[0m \u001b[1m1s\u001b[0m 6ms/step - accuracy: 0.6178 - loss: 1.1561 - val_accuracy: 0.6837 - val_loss: 0.9720\n",
            "Epoch 3/10\n",
            "\u001b[1m179/179\u001b[0m \u001b[32m━━━━━━━━━━━━━━━━━━━━\u001b[0m\u001b[37m\u001b[0m \u001b[1m1s\u001b[0m 8ms/step - accuracy: 0.8119 - loss: 0.6498 - val_accuracy: 0.7148 - val_loss: 0.8378\n",
            "Epoch 4/10\n",
            "\u001b[1m179/179\u001b[0m \u001b[32m━━━━━━━━━━━━━━━━━━━━\u001b[0m\u001b[37m\u001b[0m \u001b[1m1s\u001b[0m 6ms/step - accuracy: 0.8905 - loss: 0.4106 - val_accuracy: 0.7364 - val_loss: 0.7845\n",
            "Epoch 5/10\n",
            "\u001b[1m179/179\u001b[0m \u001b[32m━━━━━━━━━━━━━━━━━━━━\u001b[0m\u001b[37m\u001b[0m \u001b[1m1s\u001b[0m 7ms/step - accuracy: 0.9154 - loss: 0.2981 - val_accuracy: 0.7527 - val_loss: 0.7863\n",
            "Epoch 6/10\n",
            "\u001b[1m179/179\u001b[0m \u001b[32m━━━━━━━━━━━━━━━━━━━━\u001b[0m\u001b[37m\u001b[0m \u001b[1m1s\u001b[0m 7ms/step - accuracy: 0.9454 - loss: 0.2098 - val_accuracy: 0.7516 - val_loss: 0.8307\n",
            "Epoch 7/10\n",
            "\u001b[1m179/179\u001b[0m \u001b[32m━━━━━━━━━━━━━━━━━━━━\u001b[0m\u001b[37m\u001b[0m \u001b[1m1s\u001b[0m 7ms/step - accuracy: 0.9496 - loss: 0.1730 - val_accuracy: 0.7544 - val_loss: 0.8617\n",
            "Epoch 8/10\n",
            "\u001b[1m179/179\u001b[0m \u001b[32m━━━━━━━━━━━━━━━━━━━━\u001b[0m\u001b[37m\u001b[0m \u001b[1m1s\u001b[0m 7ms/step - accuracy: 0.9572 - loss: 0.1389 - val_accuracy: 0.7615 - val_loss: 0.9043\n",
            "Epoch 9/10\n",
            "\u001b[1m179/179\u001b[0m \u001b[32m━━━━━━━━━━━━━━━━━━━━\u001b[0m\u001b[37m\u001b[0m \u001b[1m1s\u001b[0m 6ms/step - accuracy: 0.9599 - loss: 0.1283 - val_accuracy: 0.7565 - val_loss: 0.9648\n",
            "Epoch 10/10\n",
            "\u001b[1m179/179\u001b[0m \u001b[32m━━━━━━━━━━━━━━━━━━━━\u001b[0m\u001b[37m\u001b[0m \u001b[1m1s\u001b[0m 6ms/step - accuracy: 0.9706 - loss: 0.1013 - val_accuracy: 0.7541 - val_loss: 1.0012\n",
            "\u001b[1m89/89\u001b[0m \u001b[32m━━━━━━━━━━━━━━━━━━━━\u001b[0m\u001b[37m\u001b[0m \u001b[1m0s\u001b[0m 2ms/step - accuracy: 0.6150 - loss: 1.6151\n",
            "Test Accuracy: 0.7541\n",
            "\u001b[1m89/89\u001b[0m \u001b[32m━━━━━━━━━━━━━━━━━━━━\u001b[0m\u001b[37m\u001b[0m \u001b[1m0s\u001b[0m 2ms/step\n"
          ]
        },
        {
          "name": "stderr",
          "output_type": "stream",
          "text": [
            "WARNING:absl:You are saving your model as an HDF5 file via `model.save()` or `keras.saving.save_model(model)`. This file format is considered legacy. We recommend using instead the native Keras format, e.g. `model.save('my_model.keras')` or `keras.saving.save_model(model, 'my_model.keras')`. \n"
          ]
        },
        {
          "name": "stdout",
          "output_type": "stream",
          "text": [
            "Classification Report:\n",
            "              precision    recall  f1-score   support\n",
            "\n",
            "    Surprise       0.45      0.79      0.57        99\n",
            "     Sadness       0.84      0.74      0.79       443\n",
            "       Anger       0.65      0.85      0.74       170\n",
            "        Fear       0.79      0.90      0.84       189\n",
            "   Enjoyment       0.85      0.79      0.82       904\n",
            "     Disgust       0.75      0.71      0.73       528\n",
            "       Other       0.66      0.64      0.65       497\n",
            "\n",
            "    accuracy                           0.75      2830\n",
            "   macro avg       0.71      0.78      0.73      2830\n",
            "weighted avg       0.77      0.75      0.76      2830\n",
            "\n"
          ]
        }
      ],
      "source": [
        "import numpy as np\n",
        "import pandas as pd\n",
        "from sklearn.feature_extraction.text import TfidfVectorizer\n",
        "from tensorflow.keras.models import Sequential\n",
        "from tensorflow.keras.layers import Dense, Dropout, Input\n",
        "from tensorflow.keras.utils import to_categorical\n",
        "from sklearn.metrics import classification_report\n",
        "import joblib  # To load the pre-trained TF-IDF model\n",
        "\n",
        "# 1. Chuẩn bị dữ liệu\n",
        "# Ensure that 'Text' columns contain strings and convert them to a list of strings\n",
        "\n",
        "\n",
        "# 2. Xây dựng mô hình\n",
        "lstm_model = Sequential([\n",
        "    Input(shape=(X_train_tfidf.shape[1],)),  # Độ dài của đặc trưng TF-IDF\n",
        "    Dense(128, activation='relu'),  # Thay vì Embedding, dùng Dense layer\n",
        "    Dropout(0.3),\n",
        "    Dense(64, activation='relu'),\n",
        "    Dropout(0.3),\n",
        "    Dense(len(emotion_to_num), activation='softmax')\n",
        "])\n",
        "\n",
        "lstm_model.compile(optimizer='adam', loss='categorical_crossentropy', metrics=['accuracy'])\n",
        "lstm_model.summary()\n",
        "\n",
        "# 3. Huấn luyện mô hình\n",
        "batch_size_value = 34\n",
        "epochs_value = 10\n",
        "\n",
        "training_history = lstm_model.fit(\n",
        "    X_train_tfidf, y_train_labels,\n",
        "    validation_data=(X_test_tfidf, y_test_labels),\n",
        "    batch_size=batch_size_value,\n",
        "    epochs=epochs_value,\n",
        "    verbose=1\n",
        ")\n",
        "\n",
        "loss_value, accuracy_value = lstm_model.evaluate(X_test_tfidf, y_test_labels)\n",
        "print(f\"Test Accuracy: {accuracy_value:.4f}\")\n",
        "\n",
        "predicted_labels = lstm_model.predict(X_test_tfidf)\n",
        "predicted_class_labels = np.argmax(predicted_labels, axis=1)\n",
        "true_class_labels = np.argmax(y_test_labels, axis=1)\n",
        "\n",
        "# Đảm bảo rằng num_to_emotion chứa các giá trị là chuỗi\n",
        "target_names = [str(num_to_emotion[key]) for key in sorted(num_to_emotion.keys())]\n",
        "\n",
        "print(\"Classification Report:\")\n",
        "print(classification_report(true_class_labels, predicted_class_labels, target_names=target_names))\n",
        "\n",
        "# 5. Lưu mô hình\n",
        "lstm_model.save(folder + '/lstm_tfidf_ct_model.h5')"
      ]
    },
    {
      "cell_type": "markdown",
      "metadata": {},
      "source": [
        "Test TF-IDF"
      ]
    },
    {
      "cell_type": "code",
      "execution_count": 105,
      "metadata": {},
      "outputs": [
        {
          "name": "stderr",
          "output_type": "stream",
          "text": [
            "WARNING:absl:Compiled the loaded model, but the compiled metrics have yet to be built. `model.compile_metrics` will be empty until you train or evaluate the model.\n"
          ]
        },
        {
          "name": "stdout",
          "output_type": "stream",
          "text": [
            "\u001b[1m1/1\u001b[0m \u001b[32m━━━━━━━━━━━━━━━━━━━━\u001b[0m\u001b[37m\u001b[0m \u001b[1m0s\u001b[0m 167ms/step\n",
            "Kết quả dự đoán cho câu 'Chán quá đi tao không biết làm cái này mày ơi :(' là: Sadness\n",
            "Các xác suất cảm xúc: [[1.9372387e-06 9.9919754e-01 2.7037002e-04 1.4557535e-04 4.5402714e-05\n",
            "  8.1719125e-05 2.5744154e-04]]\n"
          ]
        }
      ],
      "source": [
        "import numpy as np\n",
        "import joblib  # Ensure you import joblib to load the TF-IDF vectorizer\n",
        "from tensorflow.keras.models import load_model\n",
        "\n",
        "# Bước 1: Định nghĩa câu cần kiểm tra\n",
        "input_sentence = \"Chán quá đi tao không biết làm cái này mày ơi :(\"\n",
        "\n",
        "# Bước 2: Tiền xử lý câu\n",
        "# Giả sử bạn có các hàm preprocess như tokenize và remove_stopwords\n",
        "tokenized_sentence = tokenize(input_sentence)  # Tokenize câu\n",
        "tokenized_sentence = remove_stopwords(tokenized_sentence)  # Loại bỏ stopwords\n",
        "\n",
        "# Bước 3: Chuyển đổi danh sách từ thành chuỗi\n",
        "preprocessed_sentence = ' '.join(tokenized_sentence)\n",
        "# Bước 4: Tải mô hình TF-IDF đã lưu\n",
        "# Chuyển đổi câu đã tiền xử lý thành vector TF-IDF\n",
        "input_tfidf = tfidf_vectorizer.transform([preprocessed_sentence]).toarray()\n",
        "\n",
        "# Bước 5: Tải mô hình LSTM\n",
        "model = load_model(folder + '/lstm_tfidf_ct_model.h5')  # Thay thế bằng đường dẫn thực tế\n",
        "\n",
        "# Bước 6: Dự đoán\n",
        "prediction = model.predict(input_tfidf)\n",
        "predicted_class = np.argmax(prediction)\n",
        "\n",
        "# Bước 7: Hiển thị kết quả\n",
        "emotion_labels = [\"Anger\", \"Sadness\", \"Disgust\", \"Fear\", \"Surprise\", \"Enjoyment\", \"Other\"]  # Thay đổi theo nhãn của bạn\n",
        "print(f\"Kết quả dự đoán cho câu '{input_sentence}' là: {emotion_labels[predicted_class]}\")\n",
        "print(f\"Các xác suất cảm xúc: {prediction}\")"
      ]
    },
    {
      "cell_type": "code",
      "execution_count": 106,
      "metadata": {},
      "outputs": [
        {
          "data": {
            "text/plain": [
              "array([[1.9372387e-06, 9.9919754e-01, 2.7037002e-04, 1.4557535e-04,\n",
              "        4.5402714e-05, 8.1719125e-05, 2.5744154e-04]], dtype=float32)"
            ]
          },
          "execution_count": 106,
          "metadata": {},
          "output_type": "execute_result"
        }
      ],
      "source": []
    },
    {
      "cell_type": "code",
      "execution_count": null,
      "metadata": {},
      "outputs": [],
      "source": []
    }
  ],
  "metadata": {
    "colab": {
      "provenance": []
    },
    "kernelspec": {
      "display_name": "Python 3",
      "name": "python3"
    },
    "language_info": {
      "codemirror_mode": {
        "name": "ipython",
        "version": 3
      },
      "file_extension": ".py",
      "mimetype": "text/x-python",
      "name": "python",
      "nbconvert_exporter": "python",
      "pygments_lexer": "ipython3",
      "version": "3.12.4"
    }
  },
  "nbformat": 4,
  "nbformat_minor": 0
}
