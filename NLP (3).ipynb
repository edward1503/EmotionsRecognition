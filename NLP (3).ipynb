{
  "cells": [
    {
      "cell_type": "code",
      "execution_count": 1,
      "metadata": {
        "id": "s7o1mx_ZM1Uw"
      },
      "outputs": [],
      "source": [
        "folder = 'D:/HK5/NLP/UIT-VSMEC-20241212T141641Z-001'"
      ]
    },
    {
      "cell_type": "markdown",
      "metadata": {
        "id": "PhKKDlD1AXFh"
      },
      "source": [
        "# Thư viện"
      ]
    },
    {
      "cell_type": "code",
      "execution_count": 2,
      "metadata": {
        "colab": {
          "base_uri": "https://localhost:8080/"
        },
        "id": "h2WqehRLDaFz",
        "outputId": "512e68fe-99df-46a7-965e-b58c32635d5c"
      },
      "outputs": [
        {
          "name": "stdout",
          "output_type": "stream",
          "text": [
            "Requirement already satisfied: pyvi in c:\\users\\administrator\\appdata\\local\\programs\\python\\python312\\lib\\site-packages (0.1.1)\n",
            "Requirement already satisfied: scikit-learn in c:\\users\\administrator\\appdata\\local\\programs\\python\\python312\\lib\\site-packages (from pyvi) (1.4.2)\n",
            "Requirement already satisfied: sklearn-crfsuite in c:\\users\\administrator\\appdata\\local\\programs\\python\\python312\\lib\\site-packages (from pyvi) (0.5.0)\n",
            "Requirement already satisfied: numpy>=1.19.5 in c:\\users\\administrator\\appdata\\local\\programs\\python\\python312\\lib\\site-packages (from scikit-learn->pyvi) (1.26.4)\n",
            "Requirement already satisfied: scipy>=1.6.0 in c:\\users\\administrator\\appdata\\local\\programs\\python\\python312\\lib\\site-packages (from scikit-learn->pyvi) (1.13.0)\n",
            "Requirement already satisfied: joblib>=1.2.0 in c:\\users\\administrator\\appdata\\local\\programs\\python\\python312\\lib\\site-packages (from scikit-learn->pyvi) (1.4.2)\n",
            "Requirement already satisfied: threadpoolctl>=2.0.0 in c:\\users\\administrator\\appdata\\local\\programs\\python\\python312\\lib\\site-packages (from scikit-learn->pyvi) (3.5.0)\n",
            "Requirement already satisfied: python-crfsuite>=0.9.7 in c:\\users\\administrator\\appdata\\local\\programs\\python\\python312\\lib\\site-packages (from sklearn-crfsuite->pyvi) (0.9.11)\n",
            "Requirement already satisfied: tabulate>=0.4.2 in c:\\users\\administrator\\appdata\\local\\programs\\python\\python312\\lib\\site-packages (from sklearn-crfsuite->pyvi) (0.9.0)\n",
            "Requirement already satisfied: tqdm>=2.0 in c:\\users\\administrator\\appdata\\local\\programs\\python\\python312\\lib\\site-packages (from sklearn-crfsuite->pyvi) (4.66.5)\n",
            "Requirement already satisfied: colorama in c:\\users\\administrator\\appdata\\roaming\\python\\python312\\site-packages (from tqdm>=2.0->sklearn-crfsuite->pyvi) (0.4.6)\n",
            "Note: you may need to restart the kernel to use updated packages.\n"
          ]
        },
        {
          "name": "stderr",
          "output_type": "stream",
          "text": [
            "\n",
            "[notice] A new release of pip is available: 24.0 -> 24.3.1\n",
            "[notice] To update, run: python.exe -m pip install --upgrade pip\n"
          ]
        }
      ],
      "source": [
        "pip install pyvi"
      ]
    },
    {
      "cell_type": "code",
      "execution_count": 3,
      "metadata": {
        "colab": {
          "base_uri": "https://localhost:8080/"
        },
        "id": "IIXWlzeqAgd-",
        "outputId": "b2a55fe0-8a59-4de5-da57-ad9abe337858"
      },
      "outputs": [
        {
          "name": "stdout",
          "output_type": "stream",
          "text": [
            "Requirement already satisfied: emoji in c:\\users\\administrator\\appdata\\local\\programs\\python\\python312\\lib\\site-packages (2.14.0)\n",
            "Note: you may need to restart the kernel to use updated packages.\n"
          ]
        },
        {
          "name": "stderr",
          "output_type": "stream",
          "text": [
            "\n",
            "[notice] A new release of pip is available: 24.0 -> 24.3.1\n",
            "[notice] To update, run: python.exe -m pip install --upgrade pip\n"
          ]
        }
      ],
      "source": [
        "pip install emoji"
      ]
    },
    {
      "cell_type": "code",
      "execution_count": 4,
      "metadata": {
        "colab": {
          "base_uri": "https://localhost:8080/"
        },
        "id": "Ptw0962SBNZQ",
        "outputId": "0745641b-ea71-4348-b8d9-15601be97627"
      },
      "outputs": [
        {
          "name": "stdout",
          "output_type": "stream",
          "text": [
            "Requirement already satisfied: wikiextractor in c:\\users\\administrator\\appdata\\local\\programs\\python\\python312\\lib\\site-packages (3.0.6)\n",
            "Note: you may need to restart the kernel to use updated packages.\n"
          ]
        },
        {
          "name": "stderr",
          "output_type": "stream",
          "text": [
            "\n",
            "[notice] A new release of pip is available: 24.0 -> 24.3.1\n",
            "[notice] To update, run: python.exe -m pip install --upgrade pip\n"
          ]
        }
      ],
      "source": [
        "pip install wikiextractor"
      ]
    },
    {
      "cell_type": "code",
      "execution_count": 5,
      "metadata": {
        "id": "eC2HVLcq1bXi"
      },
      "outputs": [],
      "source": [
        "import pandas as pd\n",
        "import numpy as np\n",
        "import matplotlib.pyplot as plt\n",
        "import seaborn as sns\n",
        "\n",
        "import pickle\n",
        "import re\n",
        "import copy\n",
        "import gensim\n",
        "import emoji\n",
        "\n",
        "from pyvi import ViTokenizer, ViPosTagger\n",
        "from sklearn.model_selection import train_test_split\n",
        "from sklearn.svm import SVC\n",
        "from sklearn.linear_model import LogisticRegression\n",
        "from sklearn.metrics import accuracy_score, classification_report\n",
        "from sklearn.feature_extraction.text import TfidfVectorizer\n",
        "from sklearn.pipeline import Pipeline\n",
        "from sklearn.model_selection import KFold\n",
        "\n",
        "# Maxent model\n",
        "from nltk.classify import MaxentClassifier\n",
        "from nltk.classify.util import accuracy"
      ]
    },
    {
      "cell_type": "markdown",
      "metadata": {
        "id": "8khKwe7gAgoI"
      },
      "source": [
        "# Tiền xử lý\n",
        "(nguồn: https://github.com/hieugiaosu/Vietnamese-Sentiment-Analysis-UIT-VSMEC-DATASET-/blob/main/sentiment.ipynb)\n"
      ]
    },
    {
      "cell_type": "code",
      "execution_count": 6,
      "metadata": {
        "id": "KLojxf_k1h6w"
      },
      "outputs": [],
      "source": [
        "train = pd.read_excel(folder + '/UIT-VSMEC' + '/train_nor_811.xlsx', index_col=0)\n",
        "# val = pd.read_excel(folder + '/UIT-VSMEC' + '/valid_nor_811.xlsx', index_col=0)\n",
        "test = pd.read_excel(folder + '/UIT-VSMEC' + '/test_nor_811.xlsx', index_col=0)"
      ]
    },
    {
      "cell_type": "code",
      "execution_count": 7,
      "metadata": {
        "colab": {
          "base_uri": "https://localhost:8080/",
          "height": 423
        },
        "id": "XeYlj7VJ1rm3",
        "outputId": "2a1222a9-dea6-4a03-ab33-fd44da90bf66"
      },
      "outputs": [
        {
          "data": {
            "text/html": [
              "<div>\n",
              "<style scoped>\n",
              "    .dataframe tbody tr th:only-of-type {\n",
              "        vertical-align: middle;\n",
              "    }\n",
              "\n",
              "    .dataframe tbody tr th {\n",
              "        vertical-align: top;\n",
              "    }\n",
              "\n",
              "    .dataframe thead th {\n",
              "        text-align: right;\n",
              "    }\n",
              "</style>\n",
              "<table border=\"1\" class=\"dataframe\">\n",
              "  <thead>\n",
              "    <tr style=\"text-align: right;\">\n",
              "      <th></th>\n",
              "      <th>Emotion</th>\n",
              "      <th>Sentence</th>\n",
              "    </tr>\n",
              "  </thead>\n",
              "  <tbody>\n",
              "    <tr>\n",
              "      <th>188</th>\n",
              "      <td>Other</td>\n",
              "      <td>cho mình xin bài nhạc tên là gì với ạ</td>\n",
              "    </tr>\n",
              "    <tr>\n",
              "      <th>166</th>\n",
              "      <td>Disgust</td>\n",
              "      <td>cho đáng đời con quỷ . về nhà lôi con nhà mày ...</td>\n",
              "    </tr>\n",
              "    <tr>\n",
              "      <th>1345</th>\n",
              "      <td>Disgust</td>\n",
              "      <td>lo học đi . yêu đương lol gì hay lại thích học...</td>\n",
              "    </tr>\n",
              "    <tr>\n",
              "      <th>316</th>\n",
              "      <td>Enjoyment</td>\n",
              "      <td>uớc gì sau này về già vẫn có thể như cụ này :))</td>\n",
              "    </tr>\n",
              "    <tr>\n",
              "      <th>1225</th>\n",
              "      <td>Enjoyment</td>\n",
              "      <td>mỗi lần có video của con là cứ coi đi coi lại ...</td>\n",
              "    </tr>\n",
              "    <tr>\n",
              "      <th>...</th>\n",
              "      <td>...</td>\n",
              "      <td>...</td>\n",
              "    </tr>\n",
              "    <tr>\n",
              "      <th>1332</th>\n",
              "      <td>Disgust</td>\n",
              "      <td>đường của nhà cụ hay sao mà cụ cấm người ta đỗ...</td>\n",
              "    </tr>\n",
              "    <tr>\n",
              "      <th>825</th>\n",
              "      <td>Other</td>\n",
              "      <td>nhìn mặt héo queo luôn</td>\n",
              "    </tr>\n",
              "    <tr>\n",
              "      <th>165</th>\n",
              "      <td>Other</td>\n",
              "      <td>tao đi xe máy mỗi lần muốn để xe đi đâu là phi...</td>\n",
              "    </tr>\n",
              "    <tr>\n",
              "      <th>363</th>\n",
              "      <td>Enjoyment</td>\n",
              "      <td>thích thân hình boss rồi nhan 😌</td>\n",
              "    </tr>\n",
              "    <tr>\n",
              "      <th>1242</th>\n",
              "      <td>Sadness</td>\n",
              "      <td>ước mơ nhỏ nhoi của tao là được làm chị mà khô...</td>\n",
              "    </tr>\n",
              "  </tbody>\n",
              "</table>\n",
              "<p>5548 rows × 2 columns</p>\n",
              "</div>"
            ],
            "text/plain": [
              "        Emotion                                           Sentence\n",
              "188       Other              cho mình xin bài nhạc tên là gì với ạ\n",
              "166     Disgust  cho đáng đời con quỷ . về nhà lôi con nhà mày ...\n",
              "1345    Disgust  lo học đi . yêu đương lol gì hay lại thích học...\n",
              "316   Enjoyment    uớc gì sau này về già vẫn có thể như cụ này :))\n",
              "1225  Enjoyment  mỗi lần có video của con là cứ coi đi coi lại ...\n",
              "...         ...                                                ...\n",
              "1332    Disgust  đường của nhà cụ hay sao mà cụ cấm người ta đỗ...\n",
              "825       Other                             nhìn mặt héo queo luôn\n",
              "165       Other  tao đi xe máy mỗi lần muốn để xe đi đâu là phi...\n",
              "363   Enjoyment                    thích thân hình boss rồi nhan 😌\n",
              "1242    Sadness  ước mơ nhỏ nhoi của tao là được làm chị mà khô...\n",
              "\n",
              "[5548 rows x 2 columns]"
            ]
          },
          "execution_count": 7,
          "metadata": {},
          "output_type": "execute_result"
        }
      ],
      "source": [
        "train"
      ]
    },
    {
      "cell_type": "code",
      "execution_count": 8,
      "metadata": {
        "colab": {
          "base_uri": "https://localhost:8080/",
          "height": 449
        },
        "id": "1iRmEkhKZNjU",
        "outputId": "35f37185-d3ef-4736-85d6-6fce64d3ba42"
      },
      "outputs": [
        {
          "data": {
            "image/png": "[encoded data removed]",
            "text/plain": [
              "<Figure size 640x480 with 1 Axes>"
            ]
          },
          "metadata": {},
          "output_type": "display_data"
        }
      ],
      "source": [
        "sns.countplot(x='Emotion', data=train, order=test['Emotion'].value_counts().index)\n",
        "plt.show()"
      ]
    },
    {
      "cell_type": "code",
      "execution_count": 9,
      "metadata": {
        "colab": {
          "base_uri": "https://localhost:8080/",
          "height": 450
        },
        "id": "5U7FdJPPgM9h",
        "outputId": "98781a54-ed83-4c5e-a348-4c45b9d76d97"
      },
      "outputs": [
        {
          "data": {
            "image/png": "[encoded data removed]",
            "text/plain": [
              "<Figure size 640x480 with 1 Axes>"
            ]
          },
          "metadata": {},
          "output_type": "display_data"
        }
      ],
      "source": [
        "sns.countplot(x='Emotion', data=test, order=test['Emotion'].value_counts().index)\n",
        "plt.show()"
      ]
    },
    {
      "cell_type": "markdown",
      "metadata": {
        "id": "_TTGYpA2sz4x"
      },
      "source": [
        "Có thể thấy dữ liệu của tập train và tập test có số nhãn khá mất cân bằng, các nhãn Fear, Anger, Suprise có ít mẫu hơn"
      ]
    },
    {
      "cell_type": "code",
      "execution_count": 10,
      "metadata": {
        "colab": {
          "base_uri": "https://localhost:8080/"
        },
        "collapsed": true,
        "id": "LppCRS0LF37t",
        "outputId": "d0a4ff3f-e990-441b-8a1f-d56a31cef5c4"
      },
      "outputs": [],
      "source": [
        "stopwords = []\n",
        "with open('C:/Users/Administrator/Downloads/vietnamese-stopwords.txt', 'r', encoding='utf-8') as f:\n",
        "    for line in f:\n",
        "        stopwords.append(line.strip())\n",
        "# stopwords"
      ]
    },
    {
      "cell_type": "code",
      "execution_count": 11,
      "metadata": {
        "colab": {
          "base_uri": "https://localhost:8080/"
        },
        "collapsed": true,
        "id": "RZFGselFTCn-",
        "outputId": "15541265-56e0-43e0-9fdd-9e116b2e5527"
      },
      "outputs": [],
      "source": [
        "teencodes = {}\n",
        "with open(folder + '/teencode.txt','r',encoding='utf-8') as file:\n",
        "    file = file.read()\n",
        "    lines = file.split('\\n')\n",
        "    for line in lines:\n",
        "        elements = line.split('\\t')\n",
        "        if len(elements) == 2:\n",
        "            teencodes[elements[0]] = elements[1]\n",
        "# teencodes"
      ]
    },
    {
      "cell_type": "code",
      "execution_count": 12,
      "metadata": {
        "id": "sO_zPeXnUomb"
      },
      "outputs": [],
      "source": [
        "def preprocess_teencodes(sentence):\n",
        "    for key, value in teencodes.items():\n",
        "        sentence = re.sub(r'\\b{}\\b'.format(key), value, sentence)\n",
        "    return sentence"
      ]
    },
    {
      "cell_type": "code",
      "execution_count": 13,
      "metadata": {
        "id": "TN-6XraA9VtS"
      },
      "outputs": [
        {
          "name": "stderr",
          "output_type": "stream",
          "text": [
            "<>:3: SyntaxWarning: invalid escape sequence '\\)'\n",
            "<>:3: SyntaxWarning: invalid escape sequence '\\('\n",
            "<>:4: SyntaxWarning: invalid escape sequence '\\.'\n",
            "<>:4: SyntaxWarning: invalid escape sequence '\\)'\n",
            "<>:4: SyntaxWarning: invalid escape sequence '\\('\n",
            "<>:3: SyntaxWarning: invalid escape sequence '\\)'\n",
            "<>:3: SyntaxWarning: invalid escape sequence '\\('\n",
            "<>:4: SyntaxWarning: invalid escape sequence '\\.'\n",
            "<>:4: SyntaxWarning: invalid escape sequence '\\)'\n",
            "<>:4: SyntaxWarning: invalid escape sequence '\\('\n",
            "C:\\Users\\Administrator\\AppData\\Local\\Temp\\ipykernel_26600\\1970431461.py:3: SyntaxWarning: invalid escape sequence '\\)'\n",
            "  '(:|;|=)+(\\)|\\]|>)+':'🙂','(:|;|=)+(\\(|\\[|<)+':'😞','(:|;|=)+(D|d)':'😁',\n",
            "C:\\Users\\Administrator\\AppData\\Local\\Temp\\ipykernel_26600\\1970431461.py:3: SyntaxWarning: invalid escape sequence '\\('\n",
            "  '(:|;|=)+(\\)|\\]|>)+':'🙂','(:|;|=)+(\\(|\\[|<)+':'😞','(:|;|=)+(D|d)':'😁',\n",
            "C:\\Users\\Administrator\\AppData\\Local\\Temp\\ipykernel_26600\\1970431461.py:4: SyntaxWarning: invalid escape sequence '\\.'\n",
            "  '(-_-)|(-\\.-)':'😐',':v':'_pacman_smile_','(:|;|=)+(\\'|`|\\\")+(\\)|\\]|>)+':'🥲','(:|;|=)+(\\'|`|\\\")+(\\(|\\[|<)+':'😢',\n",
            "C:\\Users\\Administrator\\AppData\\Local\\Temp\\ipykernel_26600\\1970431461.py:4: SyntaxWarning: invalid escape sequence '\\)'\n",
            "  '(-_-)|(-\\.-)':'😐',':v':'_pacman_smile_','(:|;|=)+(\\'|`|\\\")+(\\)|\\]|>)+':'🥲','(:|;|=)+(\\'|`|\\\")+(\\(|\\[|<)+':'😢',\n",
            "C:\\Users\\Administrator\\AppData\\Local\\Temp\\ipykernel_26600\\1970431461.py:4: SyntaxWarning: invalid escape sequence '\\('\n",
            "  '(-_-)|(-\\.-)':'😐',':v':'_pacman_smile_','(:|;|=)+(\\'|`|\\\")+(\\)|\\]|>)+':'🥲','(:|;|=)+(\\'|`|\\\")+(\\(|\\[|<)+':'😢',\n"
          ]
        }
      ],
      "source": [
        "def preprocess_emoji(sentence):\n",
        "    emotion_dict = {\n",
        "        '(:|;|=)+(\\)|\\]|>)+':'🙂','(:|;|=)+(\\(|\\[|<)+':'😞','(:|;|=)+(D|d)':'😁',\n",
        "        '(-_-)|(-\\.-)':'😐',':v':'_pacman_smile_','(:|;|=)+(\\'|`|\\\")+(\\)|\\]|>)+':'🥲','(:|;|=)+(\\'|`|\\\")+(\\(|\\[|<)+':'😢',\n",
        "        '@@':'😵‍💫','đc':'được','đk':'được','bik':'biết','ngừi':'người','hix':'hic','lm':'làm'\n",
        "    }\n",
        "    for key, value in emotion_dict.items():\n",
        "        sentence = re.sub(key,value,sentence)\n",
        "    sentence = emoji.demojize(sentence)\n",
        "    sentence = re.sub(r\":(.*?):\",r\" _\\1_ \",sentence)\n",
        "    sentence = re.sub(r'([!@#$%^&*()_+={}:;\"\\'<>,?/\\|~-])\\1+',r'\\1',sentence)\n",
        "    return sentence"
      ]
    },
    {
      "cell_type": "code",
      "execution_count": 14,
      "metadata": {
        "id": "dTfLTkhD9Ve_"
      },
      "outputs": [],
      "source": [
        "def tokenize(sentence):\n",
        "    start_token = ' _s_ '\n",
        "    end_token = ' _e_ '\n",
        "    sentence = sentence.lower()\n",
        "\n",
        "    # Preprocess Emoji\n",
        "    sentence = preprocess_emoji(sentence)\n",
        "\n",
        "    # Preprocess teencodes\n",
        "    sentence = preprocess_teencodes(sentence)\n",
        "\n",
        "    sentence = start_token + sentence + end_token\n",
        "    return ViTokenizer.tokenize(sentence).split()"
      ]
    },
    {
      "cell_type": "code",
      "execution_count": 15,
      "metadata": {
        "id": "maraoOuJgPyb"
      },
      "outputs": [],
      "source": [
        "def remove_stopwords(words):\n",
        "    new_words = [word for word in words if re.sub(\"_\", \" \", word) not in stopwords]\n",
        "    return new_words"
      ]
    },
    {
      "cell_type": "code",
      "execution_count": 16,
      "metadata": {
        "colab": {
          "base_uri": "https://localhost:8080/",
          "height": 423
        },
        "id": "_zpXIhzsBngk",
        "outputId": "e3d18a68-b57f-4354-8bbc-c74021a1be8d"
      },
      "outputs": [
        {
          "data": {
            "text/html": [
              "<div>\n",
              "<style scoped>\n",
              "    .dataframe tbody tr th:only-of-type {\n",
              "        vertical-align: middle;\n",
              "    }\n",
              "\n",
              "    .dataframe tbody tr th {\n",
              "        vertical-align: top;\n",
              "    }\n",
              "\n",
              "    .dataframe thead th {\n",
              "        text-align: right;\n",
              "    }\n",
              "</style>\n",
              "<table border=\"1\" class=\"dataframe\">\n",
              "  <thead>\n",
              "    <tr style=\"text-align: right;\">\n",
              "      <th></th>\n",
              "      <th>Emotion</th>\n",
              "      <th>Sentence</th>\n",
              "      <th>Text</th>\n",
              "    </tr>\n",
              "  </thead>\n",
              "  <tbody>\n",
              "    <tr>\n",
              "      <th>188</th>\n",
              "      <td>Other</td>\n",
              "      <td>cho mình xin bài nhạc tên là gì với ạ</td>\n",
              "      <td>[_s_, nhạc, _e_]</td>\n",
              "    </tr>\n",
              "    <tr>\n",
              "      <th>166</th>\n",
              "      <td>Disgust</td>\n",
              "      <td>cho đáng đời con quỷ . về nhà lôi con nhà mày ...</td>\n",
              "      <td>[_s_, đáng_đời, quỷ, ., lôi, mày, đánh, _enrag...</td>\n",
              "    </tr>\n",
              "    <tr>\n",
              "      <th>1345</th>\n",
              "      <td>Disgust</td>\n",
              "      <td>lo học đi . yêu đương lol gì hay lại thích học...</td>\n",
              "      <td>[_s_, lo, học, đi, ., yêu_đương, lồn, học_sinh...</td>\n",
              "    </tr>\n",
              "    <tr>\n",
              "      <th>316</th>\n",
              "      <td>Enjoyment</td>\n",
              "      <td>uớc gì sau này về già vẫn có thể như cụ này :))</td>\n",
              "      <td>[_s_, uớc, già, cụ, _slightly_smiling_face_, _e_]</td>\n",
              "    </tr>\n",
              "    <tr>\n",
              "      <th>1225</th>\n",
              "      <td>Enjoyment</td>\n",
              "      <td>mỗi lần có video của con là cứ coi đi coi lại ...</td>\n",
              "      <td>[_s_, video, coi, đi, coi, hoài, ., cưng, ., _e_]</td>\n",
              "    </tr>\n",
              "    <tr>\n",
              "      <th>...</th>\n",
              "      <td>...</td>\n",
              "      <td>...</td>\n",
              "      <td>...</td>\n",
              "    </tr>\n",
              "    <tr>\n",
              "      <th>1332</th>\n",
              "      <td>Disgust</td>\n",
              "      <td>đường của nhà cụ hay sao mà cụ cấm người ta đỗ...</td>\n",
              "      <td>[_s_, đường, nhà_cụ, cụ, cấm, người_ta, đỗ, .,...</td>\n",
              "    </tr>\n",
              "    <tr>\n",
              "      <th>825</th>\n",
              "      <td>Other</td>\n",
              "      <td>nhìn mặt héo queo luôn</td>\n",
              "      <td>[_s_, mặt, héo, queo, _e_]</td>\n",
              "    </tr>\n",
              "    <tr>\n",
              "      <th>165</th>\n",
              "      <td>Other</td>\n",
              "      <td>tao đi xe máy mỗi lần muốn để xe đi đâu là phi...</td>\n",
              "      <td>[_s_, tao, đi, xe_máy, xe, đi, phi_mẹ, quán, n...</td>\n",
              "    </tr>\n",
              "    <tr>\n",
              "      <th>363</th>\n",
              "      <td>Enjoyment</td>\n",
              "      <td>thích thân hình boss rồi nhan 😌</td>\n",
              "      <td>[_s_, thân_hình, boss, nhan, _relieved_face_, ...</td>\n",
              "    </tr>\n",
              "    <tr>\n",
              "      <th>1242</th>\n",
              "      <td>Sadness</td>\n",
              "      <td>ước mơ nhỏ nhoi của tao là được làm chị mà khô...</td>\n",
              "      <td>[_s_, ước_mơ, nhỏ_nhoi, tao, không_thể_nào, hu...</td>\n",
              "    </tr>\n",
              "  </tbody>\n",
              "</table>\n",
              "<p>5548 rows × 3 columns</p>\n",
              "</div>"
            ],
            "text/plain": [
              "        Emotion                                           Sentence  \\\n",
              "188       Other              cho mình xin bài nhạc tên là gì với ạ   \n",
              "166     Disgust  cho đáng đời con quỷ . về nhà lôi con nhà mày ...   \n",
              "1345    Disgust  lo học đi . yêu đương lol gì hay lại thích học...   \n",
              "316   Enjoyment    uớc gì sau này về già vẫn có thể như cụ này :))   \n",
              "1225  Enjoyment  mỗi lần có video của con là cứ coi đi coi lại ...   \n",
              "...         ...                                                ...   \n",
              "1332    Disgust  đường của nhà cụ hay sao mà cụ cấm người ta đỗ...   \n",
              "825       Other                             nhìn mặt héo queo luôn   \n",
              "165       Other  tao đi xe máy mỗi lần muốn để xe đi đâu là phi...   \n",
              "363   Enjoyment                    thích thân hình boss rồi nhan 😌   \n",
              "1242    Sadness  ước mơ nhỏ nhoi của tao là được làm chị mà khô...   \n",
              "\n",
              "                                                   Text  \n",
              "188                                    [_s_, nhạc, _e_]  \n",
              "166   [_s_, đáng_đời, quỷ, ., lôi, mày, đánh, _enrag...  \n",
              "1345  [_s_, lo, học, đi, ., yêu_đương, lồn, học_sinh...  \n",
              "316   [_s_, uớc, già, cụ, _slightly_smiling_face_, _e_]  \n",
              "1225  [_s_, video, coi, đi, coi, hoài, ., cưng, ., _e_]  \n",
              "...                                                 ...  \n",
              "1332  [_s_, đường, nhà_cụ, cụ, cấm, người_ta, đỗ, .,...  \n",
              "825                          [_s_, mặt, héo, queo, _e_]  \n",
              "165   [_s_, tao, đi, xe_máy, xe, đi, phi_mẹ, quán, n...  \n",
              "363   [_s_, thân_hình, boss, nhan, _relieved_face_, ...  \n",
              "1242  [_s_, ước_mơ, nhỏ_nhoi, tao, không_thể_nào, hu...  \n",
              "\n",
              "[5548 rows x 3 columns]"
            ]
          },
          "execution_count": 16,
          "metadata": {},
          "output_type": "execute_result"
        }
      ],
      "source": [
        "train['Text'] = train['Sentence'].apply(tokenize)\n",
        "train['Text'] = train['Text'].apply(remove_stopwords)\n",
        "train"
      ]
    },
    {
      "cell_type": "code",
      "execution_count": 17,
      "metadata": {
        "colab": {
          "base_uri": "https://localhost:8080/",
          "height": 423
        },
        "id": "W20zwzshDU1Z",
        "outputId": "56029eb2-5ef7-40b4-fb7a-d70a7f6f3800"
      },
      "outputs": [
        {
          "data": {
            "text/html": [
              "<div>\n",
              "<style scoped>\n",
              "    .dataframe tbody tr th:only-of-type {\n",
              "        vertical-align: middle;\n",
              "    }\n",
              "\n",
              "    .dataframe tbody tr th {\n",
              "        vertical-align: top;\n",
              "    }\n",
              "\n",
              "    .dataframe thead th {\n",
              "        text-align: right;\n",
              "    }\n",
              "</style>\n",
              "<table border=\"1\" class=\"dataframe\">\n",
              "  <thead>\n",
              "    <tr style=\"text-align: right;\">\n",
              "      <th></th>\n",
              "      <th>Emotion</th>\n",
              "      <th>Sentence</th>\n",
              "      <th>Text</th>\n",
              "    </tr>\n",
              "  </thead>\n",
              "  <tbody>\n",
              "    <tr>\n",
              "      <th>713</th>\n",
              "      <td>Sadness</td>\n",
              "      <td>người ta có bạn bè nhìn vui thật</td>\n",
              "      <td>[_s_, người_ta, bạn_bè, vui, _e_]</td>\n",
              "    </tr>\n",
              "    <tr>\n",
              "      <th>1827</th>\n",
              "      <td>Surprise</td>\n",
              "      <td>cho nghỉ viêc mói đúng sao goi là kỷ luật</td>\n",
              "      <td>[_s_, nghỉ, viêc, mói, goi, kỷ_luật, _e_]</td>\n",
              "    </tr>\n",
              "    <tr>\n",
              "      <th>1166</th>\n",
              "      <td>Disgust</td>\n",
              "      <td>kinh vãi 😡</td>\n",
              "      <td>[_s_, kinh, vãi, _enraged_face_, _e_]</td>\n",
              "    </tr>\n",
              "    <tr>\n",
              "      <th>228</th>\n",
              "      <td>Fear</td>\n",
              "      <td>nhà thì không xa lắm nhưng chưa bao giờ đi vì ...</td>\n",
              "      <td>[_s_, lắm, đi, sợ, đè_bẹp, _slightly_smiling_f...</td>\n",
              "    </tr>\n",
              "    <tr>\n",
              "      <th>1942</th>\n",
              "      <td>Anger</td>\n",
              "      <td>bố không thích nộp đấy mày thích ý kiến không</td>\n",
              "      <td>[_s_, bố, nộp, đấy, mày, ý_kiến, _e_]</td>\n",
              "    </tr>\n",
              "    <tr>\n",
              "      <th>...</th>\n",
              "      <td>...</td>\n",
              "      <td>...</td>\n",
              "      <td>...</td>\n",
              "    </tr>\n",
              "    <tr>\n",
              "      <th>432</th>\n",
              "      <td>Sadness</td>\n",
              "      <td>lúc thì cuốc đất è cổ ra không có giun mà câu ...</td>\n",
              "      <td>[_s_, cuốc, đất, è_cổ, giun, câu, cá, _unamuse...</td>\n",
              "    </tr>\n",
              "    <tr>\n",
              "      <th>178</th>\n",
              "      <td>Enjoyment</td>\n",
              "      <td>các bác dẫn crush qua cây sữa nay mà hứng nước...</td>\n",
              "      <td>[_s_, crush, sữa, hứng, nước_đái, ve_nha, haha...</td>\n",
              "    </tr>\n",
              "    <tr>\n",
              "      <th>1863</th>\n",
              "      <td>Surprise</td>\n",
              "      <td>vợ chồng rồi mà trong sáng như này chỉ có tron...</td>\n",
              "      <td>[_s_, vợ_chồng, trong_sáng, phim, _face_with_t...</td>\n",
              "    </tr>\n",
              "    <tr>\n",
              "      <th>476</th>\n",
              "      <td>Other</td>\n",
              "      <td>bep này vào binh dương dùng xuất</td>\n",
              "      <td>[_s_, bep, binh, dương, xuất, _e_]</td>\n",
              "    </tr>\n",
              "    <tr>\n",
              "      <th>1607</th>\n",
              "      <td>Surprise</td>\n",
              "      <td>đôi mắt đằm thắm vãi</td>\n",
              "      <td>[_s_, đôi, mắt, đằm_thắm, vãi, _e_]</td>\n",
              "    </tr>\n",
              "  </tbody>\n",
              "</table>\n",
              "<p>693 rows × 3 columns</p>\n",
              "</div>"
            ],
            "text/plain": [
              "        Emotion                                           Sentence  \\\n",
              "713     Sadness                   người ta có bạn bè nhìn vui thật   \n",
              "1827   Surprise          cho nghỉ viêc mói đúng sao goi là kỷ luật   \n",
              "1166    Disgust                                         kinh vãi 😡   \n",
              "228        Fear  nhà thì không xa lắm nhưng chưa bao giờ đi vì ...   \n",
              "1942      Anger      bố không thích nộp đấy mày thích ý kiến không   \n",
              "...         ...                                                ...   \n",
              "432     Sadness  lúc thì cuốc đất è cổ ra không có giun mà câu ...   \n",
              "178   Enjoyment  các bác dẫn crush qua cây sữa nay mà hứng nước...   \n",
              "1863   Surprise  vợ chồng rồi mà trong sáng như này chỉ có tron...   \n",
              "476       Other                   bep này vào binh dương dùng xuất   \n",
              "1607   Surprise                               đôi mắt đằm thắm vãi   \n",
              "\n",
              "                                                   Text  \n",
              "713                   [_s_, người_ta, bạn_bè, vui, _e_]  \n",
              "1827          [_s_, nghỉ, viêc, mói, goi, kỷ_luật, _e_]  \n",
              "1166              [_s_, kinh, vãi, _enraged_face_, _e_]  \n",
              "228   [_s_, lắm, đi, sợ, đè_bẹp, _slightly_smiling_f...  \n",
              "1942              [_s_, bố, nộp, đấy, mày, ý_kiến, _e_]  \n",
              "...                                                 ...  \n",
              "432   [_s_, cuốc, đất, è_cổ, giun, câu, cá, _unamuse...  \n",
              "178   [_s_, crush, sữa, hứng, nước_đái, ve_nha, haha...  \n",
              "1863  [_s_, vợ_chồng, trong_sáng, phim, _face_with_t...  \n",
              "476                  [_s_, bep, binh, dương, xuất, _e_]  \n",
              "1607                [_s_, đôi, mắt, đằm_thắm, vãi, _e_]  \n",
              "\n",
              "[693 rows x 3 columns]"
            ]
          },
          "execution_count": 17,
          "metadata": {},
          "output_type": "execute_result"
        }
      ],
      "source": [
        "test['Text'] = test['Sentence'].apply(tokenize)\n",
        "test['Text'] = test['Text'].apply(remove_stopwords)\n",
        "test"
      ]
    },
    {
      "cell_type": "markdown",
      "metadata": {
        "id": "bM-X09Xntrpj"
      },
      "source": [
        "Mã hóa cột Emotion của tập train và tập test sang kiểu số"
      ]
    },
    {
      "cell_type": "code",
      "execution_count": 18,
      "metadata": {
        "id": "XoAUGJE1DawI"
      },
      "outputs": [],
      "source": [
        "emotions = set(train['Emotion'])\n",
        "emotion_to_num = dict({v:k for k,v in enumerate(emotions)})\n",
        "num_to_emotion = dict({k:v for k,v in enumerate(emotions)})\n",
        "train['Emotion'] = train['Emotion'].apply(lambda x: emotion_to_num[x])\n",
        "test['Emotion'] = test['Emotion'].apply(lambda x: emotion_to_num[x])"
      ]
    },
    {
      "cell_type": "code",
      "execution_count": 19,
      "metadata": {
        "colab": {
          "base_uri": "https://localhost:8080/"
        },
        "id": "QBQNKgcktxIP",
        "outputId": "7c78c801-abe2-43d6-df30-6f6c699257ab"
      },
      "outputs": [
        {
          "data": {
            "text/plain": [
              "{'Surprise': 0,\n",
              " 'Sadness': 1,\n",
              " 'Disgust': 2,\n",
              " 'Fear': 3,\n",
              " 'Other': 4,\n",
              " 'Enjoyment': 5,\n",
              " 'Anger': 6}"
            ]
          },
          "execution_count": 19,
          "metadata": {},
          "output_type": "execute_result"
        }
      ],
      "source": [
        "emotion_to_num"
      ]
    },
    {
      "cell_type": "markdown",
      "metadata": {
        "id": "f7mbdQX7ah2w"
      },
      "source": [
        "## Data augmentation: các từ ngẫu nhiên trong câu bị thay thế bằng một thẻ đặc biệt (unknown_tag)"
      ]
    },
    {
      "cell_type": "code",
      "execution_count": 20,
      "metadata": {
        "id": "hG8yA0fXHmyk"
      },
      "outputs": [],
      "source": [
        "def createUnknownData(df,unknown_rate,unknown_tag ='_unk_'):\n",
        "    mask_df = pd.DataFrame(columns=['Emotion','Text'])\n",
        "    for row in df.iterrows():\n",
        "        mask_array = np.random.choice(\n",
        "            [1,0],size=len(row[1]['Text']),p=[unknown_rate,1-unknown_rate]\n",
        "        )\n",
        "        mask_array[0]=0\n",
        "        mask_array[-1]=0\n",
        "        if np.sum(mask_array) > 0:\n",
        "            sentence = copy.deepcopy(row[1]['Text'])\n",
        "            for idx in range(len(row[1]['Text'])):\n",
        "                if mask_array[idx] == 1: sentence[idx] = unknown_tag\n",
        "            mask_df.loc[len(mask_df.index)] = [copy.deepcopy(row[1]['Emotion']),sentence]\n",
        "    return mask_df"
      ]
    },
    {
      "cell_type": "code",
      "execution_count": 21,
      "metadata": {
        "colab": {
          "base_uri": "https://localhost:8080/",
          "height": 423
        },
        "id": "-yUwA-eQIq28",
        "outputId": "1b190c49-1bb2-49d1-97d8-96205209c354"
      },
      "outputs": [
        {
          "data": {
            "text/html": [
              "<div>\n",
              "<style scoped>\n",
              "    .dataframe tbody tr th:only-of-type {\n",
              "        vertical-align: middle;\n",
              "    }\n",
              "\n",
              "    .dataframe tbody tr th {\n",
              "        vertical-align: top;\n",
              "    }\n",
              "\n",
              "    .dataframe thead th {\n",
              "        text-align: right;\n",
              "    }\n",
              "</style>\n",
              "<table border=\"1\" class=\"dataframe\">\n",
              "  <thead>\n",
              "    <tr style=\"text-align: right;\">\n",
              "      <th></th>\n",
              "      <th>Emotion</th>\n",
              "      <th>Text</th>\n",
              "    </tr>\n",
              "  </thead>\n",
              "  <tbody>\n",
              "    <tr>\n",
              "      <th>0</th>\n",
              "      <td>6</td>\n",
              "      <td>[_s_, ,, đau, huống, ., phẫn_nộ, ., cơ_quan_ch...</td>\n",
              "    </tr>\n",
              "    <tr>\n",
              "      <th>1</th>\n",
              "      <td>2</td>\n",
              "      <td>[_s_, đòn, tấn_công, _unk_, gắt, cục, sút, _fa...</td>\n",
              "    </tr>\n",
              "    <tr>\n",
              "      <th>2</th>\n",
              "      <td>1</td>\n",
              "      <td>[_s_, đi, tổng_kết, bắt, học, miết, _unk_, mệt...</td>\n",
              "    </tr>\n",
              "    <tr>\n",
              "      <th>3</th>\n",
              "      <td>4</td>\n",
              "      <td>[_s_, bồi_thường, thiệt_hại, trầy_xước, thân, ...</td>\n",
              "    </tr>\n",
              "    <tr>\n",
              "      <th>4</th>\n",
              "      <td>6</td>\n",
              "      <td>[_s_, đéo, tích_sự, _unk_, _e_]</td>\n",
              "    </tr>\n",
              "    <tr>\n",
              "      <th>...</th>\n",
              "      <td>...</td>\n",
              "      <td>...</td>\n",
              "    </tr>\n",
              "    <tr>\n",
              "      <th>351</th>\n",
              "      <td>0</td>\n",
              "      <td>[_s_, giá, ảo, _unk_, _e_]</td>\n",
              "    </tr>\n",
              "    <tr>\n",
              "      <th>352</th>\n",
              "      <td>5</td>\n",
              "      <td>[_s_, _unk_, _slightly_smiling_face_, _e_]</td>\n",
              "    </tr>\n",
              "    <tr>\n",
              "      <th>353</th>\n",
              "      <td>2</td>\n",
              "      <td>[_s_, trời_ơi, ổ, đuông, dừa, _unk_, _expressi...</td>\n",
              "    </tr>\n",
              "    <tr>\n",
              "      <th>354</th>\n",
              "      <td>2</td>\n",
              "      <td>[_s_, đư, ̀, ́, tỏ, la, _unk_, ca, ́, i, ̀, mi...</td>\n",
              "    </tr>\n",
              "    <tr>\n",
              "      <th>355</th>\n",
              "      <td>4</td>\n",
              "      <td>[_s_, tao, đi, xe_máy, xe, đi, phi_mẹ, quán, _...</td>\n",
              "    </tr>\n",
              "  </tbody>\n",
              "</table>\n",
              "<p>356 rows × 2 columns</p>\n",
              "</div>"
            ],
            "text/plain": [
              "     Emotion                                               Text\n",
              "0          6  [_s_, ,, đau, huống, ., phẫn_nộ, ., cơ_quan_ch...\n",
              "1          2  [_s_, đòn, tấn_công, _unk_, gắt, cục, sút, _fa...\n",
              "2          1  [_s_, đi, tổng_kết, bắt, học, miết, _unk_, mệt...\n",
              "3          4  [_s_, bồi_thường, thiệt_hại, trầy_xước, thân, ...\n",
              "4          6                    [_s_, đéo, tích_sự, _unk_, _e_]\n",
              "..       ...                                                ...\n",
              "351        0                         [_s_, giá, ảo, _unk_, _e_]\n",
              "352        5         [_s_, _unk_, _slightly_smiling_face_, _e_]\n",
              "353        2  [_s_, trời_ơi, ổ, đuông, dừa, _unk_, _expressi...\n",
              "354        2  [_s_, đư, ̀, ́, tỏ, la, _unk_, ca, ́, i, ̀, mi...\n",
              "355        4  [_s_, tao, đi, xe_máy, xe, đi, phi_mẹ, quán, _...\n",
              "\n",
              "[356 rows x 2 columns]"
            ]
          },
          "execution_count": 21,
          "metadata": {},
          "output_type": "execute_result"
        }
      ],
      "source": [
        "unk_frame = createUnknownData(train,unknown_rate=0.01,unknown_tag ='_unk_')\n",
        "unk_frame"
      ]
    },
    {
      "cell_type": "code",
      "execution_count": 22,
      "metadata": {
        "colab": {
          "base_uri": "https://localhost:8080/",
          "height": 423
        },
        "id": "aoMjX7uxIvkg",
        "outputId": "22fcbdc9-eed3-4626-afa3-e2e245ab15d8"
      },
      "outputs": [
        {
          "data": {
            "text/html": [
              "<div>\n",
              "<style scoped>\n",
              "    .dataframe tbody tr th:only-of-type {\n",
              "        vertical-align: middle;\n",
              "    }\n",
              "\n",
              "    .dataframe tbody tr th {\n",
              "        vertical-align: top;\n",
              "    }\n",
              "\n",
              "    .dataframe thead th {\n",
              "        text-align: right;\n",
              "    }\n",
              "</style>\n",
              "<table border=\"1\" class=\"dataframe\">\n",
              "  <thead>\n",
              "    <tr style=\"text-align: right;\">\n",
              "      <th></th>\n",
              "      <th>Emotion</th>\n",
              "      <th>Text</th>\n",
              "    </tr>\n",
              "  </thead>\n",
              "  <tbody>\n",
              "    <tr>\n",
              "      <th>188</th>\n",
              "      <td>4</td>\n",
              "      <td>[_s_, nhạc, _e_]</td>\n",
              "    </tr>\n",
              "    <tr>\n",
              "      <th>166</th>\n",
              "      <td>2</td>\n",
              "      <td>[_s_, đáng_đời, quỷ, ., lôi, mày, đánh, _enrag...</td>\n",
              "    </tr>\n",
              "    <tr>\n",
              "      <th>1345</th>\n",
              "      <td>2</td>\n",
              "      <td>[_s_, lo, học, đi, ., yêu_đương, lồn, học_sinh...</td>\n",
              "    </tr>\n",
              "    <tr>\n",
              "      <th>316</th>\n",
              "      <td>5</td>\n",
              "      <td>[_s_, uớc, già, cụ, _slightly_smiling_face_, _e_]</td>\n",
              "    </tr>\n",
              "    <tr>\n",
              "      <th>1225</th>\n",
              "      <td>5</td>\n",
              "      <td>[_s_, video, coi, đi, coi, hoài, ., cưng, ., _e_]</td>\n",
              "    </tr>\n",
              "    <tr>\n",
              "      <th>...</th>\n",
              "      <td>...</td>\n",
              "      <td>...</td>\n",
              "    </tr>\n",
              "    <tr>\n",
              "      <th>351</th>\n",
              "      <td>0</td>\n",
              "      <td>[_s_, giá, ảo, _unk_, _e_]</td>\n",
              "    </tr>\n",
              "    <tr>\n",
              "      <th>352</th>\n",
              "      <td>5</td>\n",
              "      <td>[_s_, _unk_, _slightly_smiling_face_, _e_]</td>\n",
              "    </tr>\n",
              "    <tr>\n",
              "      <th>353</th>\n",
              "      <td>2</td>\n",
              "      <td>[_s_, trời_ơi, ổ, đuông, dừa, _unk_, _expressi...</td>\n",
              "    </tr>\n",
              "    <tr>\n",
              "      <th>354</th>\n",
              "      <td>2</td>\n",
              "      <td>[_s_, đư, ̀, ́, tỏ, la, _unk_, ca, ́, i, ̀, mi...</td>\n",
              "    </tr>\n",
              "    <tr>\n",
              "      <th>355</th>\n",
              "      <td>4</td>\n",
              "      <td>[_s_, tao, đi, xe_máy, xe, đi, phi_mẹ, quán, _...</td>\n",
              "    </tr>\n",
              "  </tbody>\n",
              "</table>\n",
              "<p>5904 rows × 2 columns</p>\n",
              "</div>"
            ],
            "text/plain": [
              "      Emotion                                               Text\n",
              "188         4                                   [_s_, nhạc, _e_]\n",
              "166         2  [_s_, đáng_đời, quỷ, ., lôi, mày, đánh, _enrag...\n",
              "1345        2  [_s_, lo, học, đi, ., yêu_đương, lồn, học_sinh...\n",
              "316         5  [_s_, uớc, già, cụ, _slightly_smiling_face_, _e_]\n",
              "1225        5  [_s_, video, coi, đi, coi, hoài, ., cưng, ., _e_]\n",
              "...       ...                                                ...\n",
              "351         0                         [_s_, giá, ảo, _unk_, _e_]\n",
              "352         5         [_s_, _unk_, _slightly_smiling_face_, _e_]\n",
              "353         2  [_s_, trời_ơi, ổ, đuông, dừa, _unk_, _expressi...\n",
              "354         2  [_s_, đư, ̀, ́, tỏ, la, _unk_, ca, ́, i, ̀, mi...\n",
              "355         4  [_s_, tao, đi, xe_máy, xe, đi, phi_mẹ, quán, _...\n",
              "\n",
              "[5904 rows x 2 columns]"
            ]
          },
          "execution_count": 22,
          "metadata": {},
          "output_type": "execute_result"
        }
      ],
      "source": [
        "new_train_frame = pd.concat([train[['Emotion', 'Text']], unk_frame])\n",
        "new_train_frame"
      ]
    },
    {
      "cell_type": "markdown",
      "metadata": {
        "id": "pSGSyEqmF1IG"
      },
      "source": [
        "corpus: danh sách các câu, mỗi câu là một danh sách các từ (đã được xử lý trước như loại bỏ dấu câu, chuyển chữ thường, tách từ)"
      ]
    },
    {
      "cell_type": "code",
      "execution_count": 23,
      "metadata": {
        "colab": {
          "base_uri": "https://localhost:8080/"
        },
        "id": "B0dQPXVoI63U",
        "outputId": "f7b3be27-968a-421e-c1c1-6e7ea19da1e0"
      },
      "outputs": [
        {
          "data": {
            "text/plain": [
              "5904"
            ]
          },
          "execution_count": 23,
          "metadata": {},
          "output_type": "execute_result"
        }
      ],
      "source": [
        "corpus = []\n",
        "for sentence in new_train_frame['Text']:\n",
        "  corpus.append(sentence)\n",
        "len(corpus)"
      ]
    },
    {
      "cell_type": "code",
      "execution_count": 24,
      "metadata": {
        "id": "KVp2oKx0J4SU"
      },
      "outputs": [],
      "source": [
        "start_token = '_s_'\n",
        "end_token = '_e_'\n",
        "unknown_token = '_unk_'"
      ]
    },
    {
      "cell_type": "markdown",
      "metadata": {
        "id": "HtM--9qPbJcp"
      },
      "source": [
        "## Balance data - Xử lý dữ liệu mất cân bằng"
      ]
    },
    {
      "cell_type": "code",
      "execution_count": 25,
      "metadata": {
        "colab": {
          "base_uri": "https://localhost:8080/",
          "height": 843
        },
        "id": "77s9qi-1DSgp",
        "outputId": "3530d5f7-cb76-48c1-838c-61bb864ecce8"
      },
      "outputs": [
        {
          "data": {
            "image/png": "[encoded data removed]",
            "text/plain": [
              "<Figure size 640x480 with 1 Axes>"
            ]
          },
          "metadata": {},
          "output_type": "display_data"
        },
        {
          "data": {
            "image/png": "[encoded data removed]",
            "text/plain": [
              "<Figure size 640x480 with 1 Axes>"
            ]
          },
          "metadata": {},
          "output_type": "display_data"
        }
      ],
      "source": [
        "plt.bar(new_train_frame['Emotion'].value_counts().index, new_train_frame['Emotion'].value_counts().values)\n",
        "plt.show()\n",
        "plt.hist(new_train_frame['Text'].apply(len))\n",
        "plt.show()"
      ]
    },
    {
      "cell_type": "markdown",
      "metadata": {
        "id": "yq8EcCtTrN9s"
      },
      "source": [
        "Phương pháp random undersampling: Giảm tỷ lệ mẫu dữ liệu thuộc một cảm xúc cụ thể trong tập huấn luyện (train) và sau đó chuyển một phần dữ liệu bị loại bỏ sang tập kiểm tra (test)\n",
        "\n",
        "Thực hiện undersampling với các mẫu có nhãn là Enjoyment vì nhãn này xuất hiện nhiều nhất trong tập train"
      ]
    },
    {
      "cell_type": "code",
      "execution_count": 26,
      "metadata": {
        "id": "qWs_SL-2JVbo"
      },
      "outputs": [],
      "source": [
        "drop_lst = []\n",
        "for i in new_train_frame.index[new_train_frame['Emotion']==emotion_to_num['Enjoyment']]:\n",
        "  if np.random.uniform(0,1)<0.4: # random dưới 40% mẫu trong tập train có nhãn là 'Enjoyment'\n",
        "    drop_lst.append(i)\n",
        "\n",
        "drop_df = new_train_frame[new_train_frame.index.isin(drop_lst)]\n",
        "train_df = new_train_frame.drop(new_train_frame.index[drop_lst])\n",
        "test_df = pd.concat([test,drop_df])"
      ]
    },
    {
      "cell_type": "code",
      "execution_count": 27,
      "metadata": {
        "id": "wn5zqNx8Kckz"
      },
      "outputs": [],
      "source": [
        "duplicate = new_train_frame[\n",
        "    (new_train_frame['Emotion']==emotion_to_num['Anger']) |\n",
        "    (new_train_frame['Emotion']==emotion_to_num['Fear']) |\n",
        "    (new_train_frame['Emotion']==emotion_to_num['Surprise'])\n",
        "]\n",
        "train_df = pd.concat([train_df,duplicate,duplicate])"
      ]
    },
    {
      "cell_type": "code",
      "execution_count": 28,
      "metadata": {
        "colab": {
          "base_uri": "https://localhost:8080/",
          "height": 433
        },
        "id": "mplW5BTBK1E5",
        "outputId": "e9739927-3e4e-4ded-8769-3f8115bc03ee"
      },
      "outputs": [
        {
          "data": {
            "image/png": "[encoded data removed]",
            "text/plain": [
              "<Figure size 640x480 with 1 Axes>"
            ]
          },
          "metadata": {},
          "output_type": "display_data"
        }
      ],
      "source": [
        "plt.bar(train_df['Emotion'].value_counts().index, train_df['Emotion'].value_counts().values)\n",
        "plt.show()"
      ]
    },
    {
      "cell_type": "markdown",
      "metadata": {
        "id": "6Emv7FkvcCNP"
      },
      "source": [
        "Data cân bằng hơn"
      ]
    },
    {
      "cell_type": "code",
      "execution_count": 29,
      "metadata": {
        "colab": {
          "base_uri": "https://localhost:8080/",
          "height": 423
        },
        "id": "iyzo8ssqK5QD",
        "outputId": "47ae7469-e0ba-4363-af0b-5abf353749db"
      },
      "outputs": [
        {
          "data": {
            "text/html": [
              "<div>\n",
              "<style scoped>\n",
              "    .dataframe tbody tr th:only-of-type {\n",
              "        vertical-align: middle;\n",
              "    }\n",
              "\n",
              "    .dataframe tbody tr th {\n",
              "        vertical-align: top;\n",
              "    }\n",
              "\n",
              "    .dataframe thead th {\n",
              "        text-align: right;\n",
              "    }\n",
              "</style>\n",
              "<table border=\"1\" class=\"dataframe\">\n",
              "  <thead>\n",
              "    <tr style=\"text-align: right;\">\n",
              "      <th></th>\n",
              "      <th>Emotion</th>\n",
              "      <th>Text</th>\n",
              "    </tr>\n",
              "  </thead>\n",
              "  <tbody>\n",
              "    <tr>\n",
              "      <th>166</th>\n",
              "      <td>2</td>\n",
              "      <td>[_s_, đáng_đời, quỷ, ., lôi, mày, đánh, _enrag...</td>\n",
              "    </tr>\n",
              "    <tr>\n",
              "      <th>1345</th>\n",
              "      <td>2</td>\n",
              "      <td>[_s_, lo, học, đi, ., yêu_đương, lồn, học_sinh...</td>\n",
              "    </tr>\n",
              "    <tr>\n",
              "      <th>316</th>\n",
              "      <td>5</td>\n",
              "      <td>[_s_, uớc, già, cụ, _slightly_smiling_face_, _e_]</td>\n",
              "    </tr>\n",
              "    <tr>\n",
              "      <th>1225</th>\n",
              "      <td>5</td>\n",
              "      <td>[_s_, video, coi, đi, coi, hoài, ., cưng, ., _e_]</td>\n",
              "    </tr>\n",
              "    <tr>\n",
              "      <th>44</th>\n",
              "      <td>4</td>\n",
              "      <td>[_s_, lí_do, muôn_vàn, lí_do, _e_]</td>\n",
              "    </tr>\n",
              "    <tr>\n",
              "      <th>...</th>\n",
              "      <td>...</td>\n",
              "      <td>...</td>\n",
              "    </tr>\n",
              "    <tr>\n",
              "      <th>338</th>\n",
              "      <td>6</td>\n",
              "      <td>[_s_, địt_mẹ, ,, làm_khách_sạn, ,, check, phòn...</td>\n",
              "    </tr>\n",
              "    <tr>\n",
              "      <th>344</th>\n",
              "      <td>6</td>\n",
              "      <td>[_s_, per, suốt, bắt, người_ta, đi, tập, gym, ...</td>\n",
              "    </tr>\n",
              "    <tr>\n",
              "      <th>346</th>\n",
              "      <td>6</td>\n",
              "      <td>[_s_, mấy, mấy, thằng, xe, tông, lát, bét, đi,...</td>\n",
              "    </tr>\n",
              "    <tr>\n",
              "      <th>348</th>\n",
              "      <td>3</td>\n",
              "      <td>[_s_, ôiii, vãi, ,, dume, tao, sợ, ., nhện, _u...</td>\n",
              "    </tr>\n",
              "    <tr>\n",
              "      <th>351</th>\n",
              "      <td>0</td>\n",
              "      <td>[_s_, giá, ảo, _unk_, _e_]</td>\n",
              "    </tr>\n",
              "  </tbody>\n",
              "</table>\n",
              "<p>6016 rows × 2 columns</p>\n",
              "</div>"
            ],
            "text/plain": [
              "      Emotion                                               Text\n",
              "166         2  [_s_, đáng_đời, quỷ, ., lôi, mày, đánh, _enrag...\n",
              "1345        2  [_s_, lo, học, đi, ., yêu_đương, lồn, học_sinh...\n",
              "316         5  [_s_, uớc, già, cụ, _slightly_smiling_face_, _e_]\n",
              "1225        5  [_s_, video, coi, đi, coi, hoài, ., cưng, ., _e_]\n",
              "44          4                 [_s_, lí_do, muôn_vàn, lí_do, _e_]\n",
              "...       ...                                                ...\n",
              "338         6  [_s_, địt_mẹ, ,, làm_khách_sạn, ,, check, phòn...\n",
              "344         6  [_s_, per, suốt, bắt, người_ta, đi, tập, gym, ...\n",
              "346         6  [_s_, mấy, mấy, thằng, xe, tông, lát, bét, đi,...\n",
              "348         3  [_s_, ôiii, vãi, ,, dume, tao, sợ, ., nhện, _u...\n",
              "351         0                         [_s_, giá, ảo, _unk_, _e_]\n",
              "\n",
              "[6016 rows x 2 columns]"
            ]
          },
          "execution_count": 29,
          "metadata": {},
          "output_type": "execute_result"
        }
      ],
      "source": [
        "train_df"
      ]
    },
    {
      "cell_type": "code",
      "execution_count": 30,
      "metadata": {
        "colab": {
          "base_uri": "https://localhost:8080/"
        },
        "id": "gSVvnceFIje5",
        "outputId": "cb374348-0a1c-4922-c5d7-9d6f25f7eac4"
      },
      "outputs": [
        {
          "data": {
            "text/plain": [
              "(2868, 3)"
            ]
          },
          "execution_count": 30,
          "metadata": {},
          "output_type": "execute_result"
        }
      ],
      "source": [
        "test_df.shape"
      ]
    },
    {
      "cell_type": "markdown",
      "metadata": {
        "id": "cCvBfKoKIBVw"
      },
      "source": [
        "# Word2Vec"
      ]
    },
    {
      "cell_type": "markdown",
      "metadata": {
        "id": "OUoh8LQDMSB1"
      },
      "source": [
        "training Word2Vec"
      ]
    },
    {
      "cell_type": "code",
      "execution_count": 31,
      "metadata": {
        "id": "oVisMgU8I_nj"
      },
      "outputs": [],
      "source": [
        "model = gensim.models.Word2Vec(corpus,vector_size=100, window=5, min_count=1, workers=4,epochs=100)"
      ]
    },
    {
      "cell_type": "code",
      "execution_count": 32,
      "metadata": {
        "id": "Vxy24KwWXgHu"
      },
      "outputs": [],
      "source": [
        "# Lưu model word2vec vào file pickle\n",
        "with open(folder + '/word2vec_model.pkl', 'wb') as file:\n",
        "    pickle.dump(model, file)"
      ]
    },
    {
      "cell_type": "code",
      "execution_count": 33,
      "metadata": {
        "id": "vvgCMk2qJ2j1"
      },
      "outputs": [],
      "source": [
        "# key_to_index = model.wv.key_to_index\n",
        "# index_to_key = model.wv.index_to_key"
      ]
    },
    {
      "cell_type": "code",
      "execution_count": 34,
      "metadata": {
        "id": "TOONvaFqMe6Q"
      },
      "outputs": [],
      "source": [
        "def get_sentence_vector(sentence):\n",
        "    word_vectors = [model.wv[word] for word in sentence if word in model.wv]\n",
        "    if word_vectors:\n",
        "        return sum(word_vectors) / len(word_vectors)\n",
        "    else:\n",
        "        return [0] * model.vector_size  # Trả về vector 0 nếu không có từ nào trong mô hình\n",
        "\n",
        "# Áp dụng hàm cho toàn bộ cột 'processed_text' để có được vector cho mỗi câu\n",
        "train_df['vector'] = train_df['Text'].apply(get_sentence_vector)\n",
        "test_df['vector'] = test_df['Text'].apply(get_sentence_vector)"
      ]
    },
    {
      "cell_type": "code",
      "execution_count": 35,
      "metadata": {
        "id": "dgcLVyXmSF8C"
      },
      "outputs": [],
      "source": [
        "X = np.vstack(train_df['vector'].values)\n",
        "y = train_df['Emotion']\n",
        "\n",
        "X_test_data = np.vstack(test_df['vector'].values)"
      ]
    },
    {
      "cell_type": "markdown",
      "metadata": {
        "id": "ep1gQQZlYPnA"
      },
      "source": [
        "Tối ưu hóa siêu tham số của Logistic Regression và SVM dùng k-fold cross validation (Word2Vec)"
      ]
    },
    {
      "cell_type": "code",
      "execution_count": 36,
      "metadata": {
        "colab": {
          "base_uri": "https://localhost:8080/"
        },
        "id": "xrBHBAS_IQYn",
        "outputId": "5f32cf07-e862-4459-8708-d01e99cc4e6a"
      },
      "outputs": [
        {
          "name": "stdout",
          "output_type": "stream",
          "text": [
            "Tuning Logistic Regression...\n",
            "Best Logistic Regression params: {'C': 10}\n",
            "Accuracy: 0.4889\n",
            "\n",
            "Tuning SVM...\n",
            "Best SVM params: {'C': 10, 'kernel': 'rbf'}\n",
            "Accuracy: 0.6647\n"
          ]
        }
      ],
      "source": [
        "# Số folds\n",
        "k = 5\n",
        "kf = KFold(n_splits=k, shuffle=True, random_state=42)\n",
        "\n",
        "# Tối ưu tham số\n",
        "param_grid_lr = {'C': [0.1, 1, 10]}  # Logistic Regression\n",
        "param_grid_svm = {'C': [0.1, 1, 10], 'kernel': ['linear', 'rbf']}  # SVM\n",
        "\n",
        "# Lưu kết quả\n",
        "best_params = {}\n",
        "results = {}\n",
        "\n",
        "# Logistic Regression\n",
        "print(\"Tuning Logistic Regression...\")\n",
        "best_accuracy_lr = 0\n",
        "for C in param_grid_lr['C']:\n",
        "    accuracies = []\n",
        "    for train_index, val_index in kf.split(X):\n",
        "        # Chia dữ liệu train/test\n",
        "        X_train, X_val = X[train_index], X[val_index]\n",
        "        y_train, y_val = y.iloc[train_index], y.iloc[val_index]\n",
        "\n",
        "        # Train model\n",
        "        model = LogisticRegression(C=C, max_iter=1000)\n",
        "        model.fit(X_train, y_train)\n",
        "\n",
        "        # Predict\n",
        "        y_pred = model.predict(X_val)\n",
        "        acc = accuracy_score(y_val, y_pred)\n",
        "        accuracies.append(acc)\n",
        "\n",
        "    # Lưu tham số tốt nhất\n",
        "    mean_acc = np.mean(accuracies)\n",
        "    if mean_acc > best_accuracy_lr:\n",
        "        best_accuracy_lr = mean_acc\n",
        "        best_params['Logistic Regression'] = {'C': C}\n",
        "\n",
        "print(f\"Best Logistic Regression params: {best_params['Logistic Regression']}\")\n",
        "print(f\"Accuracy: {best_accuracy_lr:.4f}\")\n",
        "\n",
        "# SVM\n",
        "print(\"\\nTuning SVM...\")\n",
        "best_accuracy_svm = 0\n",
        "for C in param_grid_svm['C']:\n",
        "    for kernel in param_grid_svm['kernel']:\n",
        "        accuracies = []\n",
        "        for train_index, val_index in kf.split(X):\n",
        "            # Chia dữ liệu train/test\n",
        "            X_train, X_val = X[train_index], X[val_index]\n",
        "            y_train, y_val = y.iloc[train_index], y.iloc[val_index]\n",
        "\n",
        "            # Train model\n",
        "            model = SVC(C=C, kernel=kernel)\n",
        "            model.fit(X_train, y_train)\n",
        "\n",
        "            # Predict\n",
        "            y_pred = model.predict(X_val)\n",
        "            acc = accuracy_score(y_val, y_pred)\n",
        "            accuracies.append(acc)\n",
        "\n",
        "        # Lưu tham số tốt nhất\n",
        "        mean_acc = np.mean(accuracies)\n",
        "        if mean_acc > best_accuracy_svm:\n",
        "            best_accuracy_svm = mean_acc\n",
        "            best_params['SVM'] = {'C': C, 'kernel': kernel}\n",
        "\n",
        "print(f\"Best SVM params: {best_params['SVM']}\")\n",
        "print(f\"Accuracy: {best_accuracy_svm:.4f}\")"
      ]
    },
    {
      "cell_type": "code",
      "execution_count": 37,
      "metadata": {
        "colab": {
          "base_uri": "https://localhost:8080/"
        },
        "id": "NSmboJ9uZfP4",
        "outputId": "e2757279-379a-475e-d053-2eb8b65af9a2"
      },
      "outputs": [
        {
          "name": "stdout",
          "output_type": "stream",
          "text": [
            "Logistic Regression (Word2Vec)\n",
            "\n",
            "              precision    recall  f1-score   support\n",
            "\n",
            "           0       0.20      0.61      0.30       104\n",
            "           1       0.66      0.50      0.57       462\n",
            "           2       0.50      0.30      0.38       521\n",
            "           3       0.37      0.58      0.45       177\n",
            "           4       0.43      0.24      0.31       511\n",
            "           5       0.65      0.61      0.63       906\n",
            "           6       0.26      0.67      0.38       187\n",
            "\n",
            "    accuracy                           0.47      2868\n",
            "   macro avg       0.44      0.50      0.43      2868\n",
            "weighted avg       0.53      0.47      0.48      2868\n",
            "\n",
            "\n",
            "SVM (Word2Vec)\n",
            "\n",
            "              precision    recall  f1-score   support\n",
            "\n",
            "           0       0.37      0.77      0.50       104\n",
            "           1       0.78      0.70      0.74       462\n",
            "           2       0.74      0.68      0.71       521\n",
            "           3       0.75      0.81      0.78       177\n",
            "           4       0.68      0.57      0.62       511\n",
            "           5       0.80      0.79      0.79       906\n",
            "           6       0.61      0.82      0.70       187\n",
            "\n",
            "    accuracy                           0.72      2868\n",
            "   macro avg       0.68      0.73      0.69      2868\n",
            "weighted avg       0.73      0.72      0.72      2868\n",
            "\n"
          ]
        }
      ],
      "source": [
        "# Train the best Logistic Regression model on the entire training data\n",
        "best_lr_model = LogisticRegression(C=best_params['Logistic Regression']['C'], max_iter=1000)\n",
        "best_lr_model.fit(X, y)\n",
        "\n",
        "# Predict on the test data\n",
        "y_test_pred_lr = best_lr_model.predict(X_test_data)\n",
        "\n",
        "# Evaluate the model\n",
        "print('Logistic Regression (Word2Vec)\\n')\n",
        "print(classification_report(test_df['Emotion'], y_test_pred_lr))\n",
        "\n",
        "\n",
        "# Train the best svm model on the entire training data\n",
        "best_svm_model = SVC(C=best_params['SVM']['C'], kernel=best_params['SVM']['kernel'])\n",
        "best_svm_model.fit(X, y)\n",
        "\n",
        "# Predict on the test data\n",
        "y_test_pred_svm = best_svm_model.predict(X_test_data)\n",
        "\n",
        "# Evaluate the model\n",
        "print()\n",
        "print('SVM (Word2Vec)\\n')\n",
        "print(classification_report(test_df['Emotion'], y_test_pred_svm))"
      ]
    },
    {
      "cell_type": "code",
      "execution_count": 38,
      "metadata": {
        "id": "IYwkAVmWdC9H"
      },
      "outputs": [],
      "source": [
        "with open(folder + '/logistic_w2v.pkl', 'wb') as file:\n",
        "    pickle.dump(best_lr_model, file)\n",
        "\n",
        "with open(folder + '/svm_w2v.pkl', 'wb') as file:\n",
        "    pickle.dump(best_svm_model, file)"
      ]
    },
    {
      "cell_type": "markdown",
      "metadata": {
        "id": "KLVXXCZxYdV5"
      },
      "source": [
        "Maxent (Word2Vec)"
      ]
    },
    {
      "cell_type": "code",
      "execution_count": 39,
      "metadata": {
        "id": "NJfc_HBkMGWy"
      },
      "outputs": [],
      "source": [
        "# Chuẩn bị dữ liệu\n",
        "def format_data_for_maxent(X, y):\n",
        "    formatted_data = []\n",
        "    for i in range(X.shape[0]):\n",
        "        features = tuple(X[i].tolist())  # Chuyển sang tuple\n",
        "        formatted_data.append(({'features': features}, y.iloc[i]))\n",
        "    return formatted_data"
      ]
    },
    {
      "cell_type": "code",
      "execution_count": 40,
      "metadata": {
        "colab": {
          "base_uri": "https://localhost:8080/"
        },
        "id": "2YVBT5njbpSu",
        "outputId": "33bde111-6f2a-4a15-b21d-edcdb8ef79c7"
      },
      "outputs": [
        {
          "name": "stdout",
          "output_type": "stream",
          "text": [
            "              precision    recall  f1-score   support\n",
            "\n",
            "           0       0.72      0.66      0.69       104\n",
            "           1       1.00      0.51      0.68       462\n",
            "           2       1.00      0.53      0.69       521\n",
            "           3       0.99      0.73      0.84       177\n",
            "           4       1.00      0.51      0.68       511\n",
            "           5       0.99      0.55      0.71       906\n",
            "           6       0.14      1.00      0.24       187\n",
            "\n",
            "    accuracy                           0.58      2868\n",
            "   macro avg       0.83      0.64      0.65      2868\n",
            "weighted avg       0.93      0.58      0.67      2868\n",
            "\n"
          ]
        }
      ],
      "source": [
        "# Train the best Maxent model on the entire training data\n",
        "formatted_data = format_data_for_maxent(X, y)\n",
        "\n",
        "maxent_model = MaxentClassifier.train(formatted_data, algorithm='iis', max_iter=10, trace=0)\n",
        "\n",
        "# Predict on the test data\n",
        "X_test_data = np.vstack(test_df['vector'].values)\n",
        "y_test_pred_maxent = [maxent_model.classify({'features': tuple(vector.tolist())}) for vector in X_test_data]\n",
        "\n",
        "# Evaluate the model\n",
        "print(classification_report(test_df['Emotion'], y_test_pred_maxent))"
      ]
    },
    {
      "cell_type": "code",
      "execution_count": 41,
      "metadata": {
        "id": "Y7hK1L7uceyK"
      },
      "outputs": [],
      "source": [
        "with open(folder + '/maxent_w2v.pkl', 'wb') as file:\n",
        "    pickle.dump(maxent_model, file)"
      ]
    },
    {
      "cell_type": "markdown",
      "metadata": {
        "id": "-w82Q48JFxc8"
      },
      "source": [
        "# TF-IDF"
      ]
    },
    {
      "cell_type": "code",
      "execution_count": 42,
      "metadata": {
        "colab": {
          "base_uri": "https://localhost:8080/"
        },
        "id": "V7xuKO_CgUwz",
        "outputId": "d9459afd-593f-4ef6-8001-7ea866c7c872"
      },
      "outputs": [
        {
          "name": "stdout",
          "output_type": "stream",
          "text": [
            "Tuning Logistic Regression...\n",
            "Best Logistic Regression params: {'C': 10}\n",
            "Accuracy: 0.7042871779576528\n",
            "\n",
            "Tuning SVM...\n",
            "Best SVM params: {'C': 10, 'kernel': 'rbf'}\n",
            "Accuracy: 0.735869214008169\n"
          ]
        }
      ],
      "source": [
        "# Các tham số để thử nghiệm\n",
        "param_grid_lr = {'C': [0.1, 1, 10]}  # Logistic Regression\n",
        "param_grid_svm = {'C': [0.1, 1, 10], 'kernel': ['linear', 'rbf']}  # SVM\n",
        "\n",
        "# Khởi tạo k-fold\n",
        "k = 5\n",
        "kf = KFold(n_splits=k, shuffle=True, random_state=42)\n",
        "\n",
        "# Hàm thực hiện k-fold cross-validation với TF-IDF vectorizer\n",
        "def cross_validate_with_tfidf(model, params, X_raw, y, kf):\n",
        "    best_params = None\n",
        "    best_score = 0\n",
        "    results = []\n",
        "\n",
        "    for param in params:\n",
        "        scores = []\n",
        "\n",
        "        # K-fold cross-validation\n",
        "        for train_index, val_index in kf.split(X_raw):\n",
        "            # Tách dữ liệu train/test theo fold\n",
        "            X_train_raw = [X_raw[i] for i in train_index]\n",
        "            X_val_raw = [X_raw[i] for i in val_index]\n",
        "            y_train = y.iloc[train_index]\n",
        "            y_val = y.iloc[val_index]\n",
        "\n",
        "            # Áp dụng TF-IDF vectorizer trên tập train và test trong fold này\n",
        "            vectorizer = TfidfVectorizer()\n",
        "            X_train = vectorizer.fit_transform([' '.join(text) for text in X_train_raw])\n",
        "            X_val = vectorizer.transform([' '.join(text) for text in X_val_raw])\n",
        "\n",
        "            # Cập nhật tham số cho model\n",
        "            model.set_params(**param)\n",
        "            model.fit(X_train, y_train)\n",
        "            y_pred = model.predict(X_val)\n",
        "            scores.append(accuracy_score(y_val, y_pred))\n",
        "\n",
        "        # Tính điểm trung bình cho bộ tham số\n",
        "        avg_score = np.mean(scores)\n",
        "        results.append((param, avg_score))\n",
        "        if avg_score > best_score:\n",
        "            best_score = avg_score\n",
        "            best_params = param\n",
        "\n",
        "    return best_params, best_score, results\n",
        "\n",
        "\n",
        "# Chuẩn bị dữ liệu\n",
        "X_raw = train_df['Text'].tolist()\n",
        "y = train_df['Emotion']\n",
        "\n",
        "# Logistic Regression\n",
        "lr_params = [{'C': c} for c in param_grid_lr['C']]\n",
        "lr_model = LogisticRegression(max_iter=1000)\n",
        "print(\"Tuning Logistic Regression...\")\n",
        "best_params_lr, best_score_lr, results_lr = cross_validate_with_tfidf(lr_model, lr_params, X_raw, y, kf)\n",
        "print(f\"Best Logistic Regression params: {best_params_lr}\")\n",
        "print(f\"Accuracy: {best_score_lr}\")\n",
        "\n",
        "# SVM\n",
        "svm_params = [{'C': c, 'kernel': k} for c in param_grid_svm['C'] for k in param_grid_svm['kernel']]\n",
        "svm_model = SVC()\n",
        "print(\"\\nTuning SVM...\")\n",
        "best_params_svm, best_score_svm, results_svm = cross_validate_with_tfidf(svm_model, svm_params, X_raw, y, kf)\n",
        "print(f\"Best SVM params: {best_params_svm}\")\n",
        "print(f\"Accuracy: {best_score_svm}\")"
      ]
    },
    {
      "cell_type": "code",
      "execution_count": 43,
      "metadata": {
        "id": "90KibK-NXp6z"
      },
      "outputs": [],
      "source": [
        "# Khởi tạo TF-IDF vectorizer\n",
        "vectorizer = TfidfVectorizer()\n",
        "\n",
        "# Fit và transform dữ liệu huấn luyện\n",
        "X_train_tfidf = vectorizer.fit_transform([' '.join(text) for text in train_df['Text']])\n",
        "X_test_tfidf = vectorizer.transform([' '.join(text) for text in test_df['Text']])"
      ]
    },
    {
      "cell_type": "code",
      "execution_count": 44,
      "metadata": {
        "colab": {
          "base_uri": "https://localhost:8080/"
        },
        "id": "F8ttXeMmhlLt",
        "outputId": "e9a156b9-7ed7-413d-bbe9-58a9bfbc953d"
      },
      "outputs": [
        {
          "name": "stdout",
          "output_type": "stream",
          "text": [
            "Logistic Regression (TF-IDF) - Best Model:\n",
            "              precision    recall  f1-score   support\n",
            "\n",
            "           0       0.43      0.79      0.55       104\n",
            "           1       0.83      0.77      0.80       462\n",
            "           2       0.81      0.70      0.75       521\n",
            "           3       0.73      0.89      0.80       177\n",
            "           4       0.70      0.62      0.66       511\n",
            "           5       0.85      0.82      0.83       906\n",
            "           6       0.62      0.86      0.72       187\n",
            "\n",
            "    accuracy                           0.76      2868\n",
            "   macro avg       0.71      0.78      0.73      2868\n",
            "weighted avg       0.78      0.76      0.76      2868\n",
            "\n",
            "\n",
            "SVM (TF-IDF) - Best Model:\n",
            "              precision    recall  f1-score   support\n",
            "\n",
            "           0       0.51      0.78      0.61       104\n",
            "           1       0.84      0.79      0.82       462\n",
            "           2       0.81      0.77      0.79       521\n",
            "           3       0.91      0.88      0.89       177\n",
            "           4       0.72      0.67      0.69       511\n",
            "           5       0.85      0.87      0.86       906\n",
            "           6       0.80      0.83      0.82       187\n",
            "\n",
            "    accuracy                           0.80      2868\n",
            "   macro avg       0.78      0.80      0.78      2868\n",
            "weighted avg       0.80      0.80      0.80      2868\n",
            "\n"
          ]
        }
      ],
      "source": [
        "# Train the best Logistic Regression model on the entire training data\n",
        "best_lr_model = LogisticRegression(C=best_params_lr['C'], max_iter=1000)\n",
        "best_lr_model.fit(X_train_tfidf, y)\n",
        "\n",
        "# Predict on the test data\n",
        "y_test_pred_tf_lr = best_lr_model.predict(X_test_tfidf)\n",
        "\n",
        "# Evaluate the model\n",
        "print(\"Logistic Regression (TF-IDF) - Best Model:\")\n",
        "print(classification_report(test_df['Emotion'], y_test_pred_tf_lr))\n",
        "\n",
        "\n",
        "# Train the best SVM model on the entire training data\n",
        "best_svm_model = SVC(C=best_params_svm['C'], kernel=best_params_svm['kernel'])\n",
        "best_svm_model.fit(X_train_tfidf, y)\n",
        "\n",
        "# Predict on the test data\n",
        "y_test_pred_tf_svm = best_svm_model.predict(X_test_tfidf)\n",
        "\n",
        "# Evaluate the model\n",
        "print(\"\\nSVM (TF-IDF) - Best Model:\")\n",
        "print(classification_report(test_df['Emotion'], y_test_pred_tf_svm))"
      ]
    },
    {
      "cell_type": "code",
      "execution_count": 45,
      "metadata": {
        "id": "TIvWtbFjhzQZ"
      },
      "outputs": [],
      "source": [
        "with open(folder + '/tfidf_vectorizer.pkl', 'wb') as file:\n",
        "    pickle.dump(vectorizer, file)\n",
        "\n",
        "with open(folder + '/logistic_tfidf.pkl', 'wb') as file:\n",
        "    pickle.dump(best_lr_model, file)\n",
        "\n",
        "with open(folder + '/svm_tfidf.pkl', 'wb') as file:\n",
        "    pickle.dump(best_svm_model, file)"
      ]
    },
    {
      "cell_type": "markdown",
      "metadata": {
        "id": "YAtUXBVRgvPF"
      },
      "source": [
        "Maxent (TF-IDF)"
      ]
    },
    {
      "cell_type": "code",
      "execution_count": 46,
      "metadata": {
        "colab": {
          "base_uri": "https://localhost:8080/"
        },
        "id": "gs2j0nlAz9hH",
        "outputId": "2039b027-b559-40d3-cd80-d40fae2db492"
      },
      "outputs": [
        {
          "name": "stdout",
          "output_type": "stream",
          "text": [
            "\n",
            "MaxEnt (TF-IDF):\n",
            "              precision    recall  f1-score   support\n",
            "\n",
            "           0       0.52      0.59      0.55       104\n",
            "           1       1.00      0.45      0.62       462\n",
            "           2       1.00      0.41      0.58       521\n",
            "           3       0.98      0.54      0.70       177\n",
            "           4       0.99      0.44      0.61       511\n",
            "           5       0.99      0.47      0.64       906\n",
            "           6       0.12      1.00      0.21       187\n",
            "\n",
            "    accuracy                           0.49      2868\n",
            "   macro avg       0.80      0.56      0.56      2868\n",
            "weighted avg       0.92      0.49      0.59      2868\n",
            "\n",
            "Accuracy: 0.49442119944211993\n"
          ]
        }
      ],
      "source": [
        "# MaxEnt\n",
        "# Prepare data for MaxentClassifier with TF-IDF features\n",
        "def format_data_for_maxent_tfidf(X, y):\n",
        "    formatted_data = []\n",
        "    for i in range(X.shape[0]):\n",
        "        features = tuple(X[i].toarray()[0].tolist())\n",
        "        # Use .iloc to access the element by position\n",
        "        formatted_data.append(({'features': features}, y.iloc[i]))\n",
        "    return formatted_data\n",
        "\n",
        "# Fit và transform dữ liệu huấn luyện\n",
        "X_train_tfidf = vectorizer.fit_transform([' '.join(text) for text in train_df['Text']])\n",
        "X_test_tfidf = vectorizer.transform([' '.join(text) for text in test_df['Text']])\n",
        "\n",
        "train_data_tfidf = format_data_for_maxent_tfidf(X_train_tfidf, train_df['Emotion'])\n",
        "test_data_tfidf = format_data_for_maxent_tfidf(X_test_tfidf, test_df['Emotion'])\n",
        "\n",
        "maxent_classifier_tfidf = MaxentClassifier.train(train_data_tfidf, trace=0, algorithm='iis', max_iter=10)\n",
        "\n",
        "predictions_tfidf = [maxent_classifier_tfidf.classify({'features': tuple(vector.toarray()[0].tolist())}) for vector in X_test_tfidf]\n",
        "\n",
        "print(\"\\nMaxEnt (TF-IDF):\")\n",
        "print(classification_report(test_df['Emotion'], predictions_tfidf))\n",
        "print(\"Accuracy:\", accuracy(maxent_classifier_tfidf, test_data_tfidf))"
      ]
    },
    {
      "cell_type": "code",
      "execution_count": 47,
      "metadata": {
        "id": "TuN6lYXWisAR"
      },
      "outputs": [],
      "source": [
        "with open(folder + '/maxent_tfidf.pkl', 'wb') as file:\n",
        "    pickle.dump(maxent_classifier_tfidf, file)"
      ]
    },
    {
      "cell_type": "markdown",
      "metadata": {},
      "source": [
        "LSTM"
      ]
    },
    {
      "cell_type": "code",
      "execution_count": 48,
      "metadata": {},
      "outputs": [
        {
          "name": "stderr",
          "output_type": "stream",
          "text": [
            "c:\\Users\\Administrator\\AppData\\Local\\Programs\\Python\\Python312\\Lib\\site-packages\\keras\\src\\layers\\core\\embedding.py:90: UserWarning: Argument `input_length` is deprecated. Just remove it.\n",
            "  warnings.warn(\n"
          ]
        },
        {
          "data": {
            "text/html": [
              "<pre style=\"white-space:pre;overflow-x:auto;line-height:normal;font-family:Menlo,'DejaVu Sans Mono',consolas,'Courier New',monospace\"><span style=\"font-weight: bold\">Model: \"sequential\"</span>\n",
              "</pre>\n"
            ],
            "text/plain": [
              "\u001b[1mModel: \"sequential\"\u001b[0m\n"
            ]
          },
          "metadata": {},
          "output_type": "display_data"
        },
        {
          "data": {
            "text/html": [
              "<pre style=\"white-space:pre;overflow-x:auto;line-height:normal;font-family:Menlo,'DejaVu Sans Mono',consolas,'Courier New',monospace\">┏━━━━━━━━━━━━━━━━━━━━━━━━━━━━━━━━━┳━━━━━━━━━━━━━━━━━━━━━━━━┳━━━━━━━━━━━━━━━┓\n",
              "┃<span style=\"font-weight: bold\"> Layer (type)                    </span>┃<span style=\"font-weight: bold\"> Output Shape           </span>┃<span style=\"font-weight: bold\">       Param # </span>┃\n",
              "┡━━━━━━━━━━━━━━━━━━━━━━━━━━━━━━━━━╇━━━━━━━━━━━━━━━━━━━━━━━━╇━━━━━━━━━━━━━━━┩\n",
              "│ embedding (<span style=\"color: #0087ff; text-decoration-color: #0087ff\">Embedding</span>)           │ ?                      │       <span style=\"color: #00af00; text-decoration-color: #00af00\">496,500</span> │\n",
              "├─────────────────────────────────┼────────────────────────┼───────────────┤\n",
              "│ bidirectional (<span style=\"color: #0087ff; text-decoration-color: #0087ff\">Bidirectional</span>)   │ ?                      │   <span style=\"color: #00af00; text-decoration-color: #00af00\">0</span> (unbuilt) │\n",
              "├─────────────────────────────────┼────────────────────────┼───────────────┤\n",
              "│ bidirectional_1 (<span style=\"color: #0087ff; text-decoration-color: #0087ff\">Bidirectional</span>) │ ?                      │   <span style=\"color: #00af00; text-decoration-color: #00af00\">0</span> (unbuilt) │\n",
              "├─────────────────────────────────┼────────────────────────┼───────────────┤\n",
              "│ dense (<span style=\"color: #0087ff; text-decoration-color: #0087ff\">Dense</span>)                   │ ?                      │   <span style=\"color: #00af00; text-decoration-color: #00af00\">0</span> (unbuilt) │\n",
              "├─────────────────────────────────┼────────────────────────┼───────────────┤\n",
              "│ dropout (<span style=\"color: #0087ff; text-decoration-color: #0087ff\">Dropout</span>)               │ ?                      │             <span style=\"color: #00af00; text-decoration-color: #00af00\">0</span> │\n",
              "├─────────────────────────────────┼────────────────────────┼───────────────┤\n",
              "│ dense_1 (<span style=\"color: #0087ff; text-decoration-color: #0087ff\">Dense</span>)                 │ ?                      │   <span style=\"color: #00af00; text-decoration-color: #00af00\">0</span> (unbuilt) │\n",
              "└─────────────────────────────────┴────────────────────────┴───────────────┘\n",
              "</pre>\n"
            ],
            "text/plain": [
              "┏━━━━━━━━━━━━━━━━━━━━━━━━━━━━━━━━━┳━━━━━━━━━━━━━━━━━━━━━━━━┳━━━━━━━━━━━━━━━┓\n",
              "┃\u001b[1m \u001b[0m\u001b[1mLayer (type)                   \u001b[0m\u001b[1m \u001b[0m┃\u001b[1m \u001b[0m\u001b[1mOutput Shape          \u001b[0m\u001b[1m \u001b[0m┃\u001b[1m \u001b[0m\u001b[1m      Param #\u001b[0m\u001b[1m \u001b[0m┃\n",
              "┡━━━━━━━━━━━━━━━━━━━━━━━━━━━━━━━━━╇━━━━━━━━━━━━━━━━━━━━━━━━╇━━━━━━━━━━━━━━━┩\n",
              "│ embedding (\u001b[38;5;33mEmbedding\u001b[0m)           │ ?                      │       \u001b[38;5;34m496,500\u001b[0m │\n",
              "├─────────────────────────────────┼────────────────────────┼───────────────┤\n",
              "│ bidirectional (\u001b[38;5;33mBidirectional\u001b[0m)   │ ?                      │   \u001b[38;5;34m0\u001b[0m (unbuilt) │\n",
              "├─────────────────────────────────┼────────────────────────┼───────────────┤\n",
              "│ bidirectional_1 (\u001b[38;5;33mBidirectional\u001b[0m) │ ?                      │   \u001b[38;5;34m0\u001b[0m (unbuilt) │\n",
              "├─────────────────────────────────┼────────────────────────┼───────────────┤\n",
              "│ dense (\u001b[38;5;33mDense\u001b[0m)                   │ ?                      │   \u001b[38;5;34m0\u001b[0m (unbuilt) │\n",
              "├─────────────────────────────────┼────────────────────────┼───────────────┤\n",
              "│ dropout (\u001b[38;5;33mDropout\u001b[0m)               │ ?                      │             \u001b[38;5;34m0\u001b[0m │\n",
              "├─────────────────────────────────┼────────────────────────┼───────────────┤\n",
              "│ dense_1 (\u001b[38;5;33mDense\u001b[0m)                 │ ?                      │   \u001b[38;5;34m0\u001b[0m (unbuilt) │\n",
              "└─────────────────────────────────┴────────────────────────┴───────────────┘\n"
            ]
          },
          "metadata": {},
          "output_type": "display_data"
        },
        {
          "data": {
            "text/html": [
              "<pre style=\"white-space:pre;overflow-x:auto;line-height:normal;font-family:Menlo,'DejaVu Sans Mono',consolas,'Courier New',monospace\"><span style=\"font-weight: bold\"> Total params: </span><span style=\"color: #00af00; text-decoration-color: #00af00\">496,500</span> (1.89 MB)\n",
              "</pre>\n"
            ],
            "text/plain": [
              "\u001b[1m Total params: \u001b[0m\u001b[38;5;34m496,500\u001b[0m (1.89 MB)\n"
            ]
          },
          "metadata": {},
          "output_type": "display_data"
        },
        {
          "data": {
            "text/html": [
              "<pre style=\"white-space:pre;overflow-x:auto;line-height:normal;font-family:Menlo,'DejaVu Sans Mono',consolas,'Courier New',monospace\"><span style=\"font-weight: bold\"> Trainable params: </span><span style=\"color: #00af00; text-decoration-color: #00af00\">0</span> (0.00 B)\n",
              "</pre>\n"
            ],
            "text/plain": [
              "\u001b[1m Trainable params: \u001b[0m\u001b[38;5;34m0\u001b[0m (0.00 B)\n"
            ]
          },
          "metadata": {},
          "output_type": "display_data"
        },
        {
          "data": {
            "text/html": [
              "<pre style=\"white-space:pre;overflow-x:auto;line-height:normal;font-family:Menlo,'DejaVu Sans Mono',consolas,'Courier New',monospace\"><span style=\"font-weight: bold\"> Non-trainable params: </span><span style=\"color: #00af00; text-decoration-color: #00af00\">496,500</span> (1.89 MB)\n",
              "</pre>\n"
            ],
            "text/plain": [
              "\u001b[1m Non-trainable params: \u001b[0m\u001b[38;5;34m496,500\u001b[0m (1.89 MB)\n"
            ]
          },
          "metadata": {},
          "output_type": "display_data"
        },
        {
          "name": "stdout",
          "output_type": "stream",
          "text": [
            "Epoch 1/10\n",
            "\u001b[1m188/188\u001b[0m \u001b[32m━━━━━━━━━━━━━━━━━━━━\u001b[0m\u001b[37m\u001b[0m \u001b[1m9s\u001b[0m 32ms/step - accuracy: 0.2783 - loss: 1.8050 - val_accuracy: 0.4421 - val_loss: 1.5072\n",
            "Epoch 2/10\n",
            "\u001b[1m188/188\u001b[0m \u001b[32m━━━━━━━━━━━━━━━━━━━━\u001b[0m\u001b[37m\u001b[0m \u001b[1m5s\u001b[0m 29ms/step - accuracy: 0.4581 - loss: 1.4788 - val_accuracy: 0.4948 - val_loss: 1.4393\n",
            "Epoch 3/10\n",
            "\u001b[1m188/188\u001b[0m \u001b[32m━━━━━━━━━━━━━━━━━━━━\u001b[0m\u001b[37m\u001b[0m \u001b[1m5s\u001b[0m 29ms/step - accuracy: 0.5014 - loss: 1.3822 - val_accuracy: 0.4861 - val_loss: 1.3521\n",
            "Epoch 4/10\n",
            "\u001b[1m188/188\u001b[0m \u001b[32m━━━━━━━━━━━━━━━━━━━━\u001b[0m\u001b[37m\u001b[0m \u001b[1m5s\u001b[0m 26ms/step - accuracy: 0.5394 - loss: 1.2947 - val_accuracy: 0.5544 - val_loss: 1.2424\n",
            "Epoch 5/10\n",
            "\u001b[1m188/188\u001b[0m \u001b[32m━━━━━━━━━━━━━━━━━━━━\u001b[0m\u001b[37m\u001b[0m \u001b[1m7s\u001b[0m 39ms/step - accuracy: 0.5622 - loss: 1.2201 - val_accuracy: 0.5331 - val_loss: 1.2564\n",
            "Epoch 6/10\n",
            "\u001b[1m188/188\u001b[0m \u001b[32m━━━━━━━━━━━━━━━━━━━━\u001b[0m\u001b[37m\u001b[0m \u001b[1m7s\u001b[0m 39ms/step - accuracy: 0.5928 - loss: 1.1670 - val_accuracy: 0.5568 - val_loss: 1.1960\n",
            "Epoch 7/10\n",
            "\u001b[1m188/188\u001b[0m \u001b[32m━━━━━━━━━━━━━━━━━━━━\u001b[0m\u001b[37m\u001b[0m \u001b[1m7s\u001b[0m 38ms/step - accuracy: 0.6079 - loss: 1.0814 - val_accuracy: 0.5903 - val_loss: 1.1213\n",
            "Epoch 8/10\n",
            "\u001b[1m188/188\u001b[0m \u001b[32m━━━━━━━━━━━━━━━━━━━━\u001b[0m\u001b[37m\u001b[0m \u001b[1m6s\u001b[0m 33ms/step - accuracy: 0.6260 - loss: 1.0404 - val_accuracy: 0.5973 - val_loss: 1.1186\n",
            "Epoch 9/10\n",
            "\u001b[1m188/188\u001b[0m \u001b[32m━━━━━━━━━━━━━━━━━━━━\u001b[0m\u001b[37m\u001b[0m \u001b[1m5s\u001b[0m 29ms/step - accuracy: 0.6324 - loss: 1.0180 - val_accuracy: 0.5987 - val_loss: 1.1083\n",
            "Epoch 10/10\n",
            "\u001b[1m188/188\u001b[0m \u001b[32m━━━━━━━━━━━━━━━━━━━━\u001b[0m\u001b[37m\u001b[0m \u001b[1m6s\u001b[0m 30ms/step - accuracy: 0.6660 - loss: 0.9463 - val_accuracy: 0.6091 - val_loss: 1.0879\n",
            "\u001b[1m90/90\u001b[0m \u001b[32m━━━━━━━━━━━━━━━━━━━━\u001b[0m\u001b[37m\u001b[0m \u001b[1m1s\u001b[0m 10ms/step - accuracy: 0.5583 - loss: 1.2499\n",
            "Test Accuracy: 0.6091\n",
            "\u001b[1m90/90\u001b[0m \u001b[32m━━━━━━━━━━━━━━━━━━━━\u001b[0m\u001b[37m\u001b[0m \u001b[1m2s\u001b[0m 13ms/step\n"
          ]
        },
        {
          "name": "stderr",
          "output_type": "stream",
          "text": [
            "WARNING:absl:You are saving your model as an HDF5 file via `model.save()` or `keras.saving.save_model(model)`. This file format is considered legacy. We recommend using instead the native Keras format, e.g. `model.save('my_model.keras')` or `keras.saving.save_model(model, 'my_model.keras')`. \n"
          ]
        },
        {
          "name": "stdout",
          "output_type": "stream",
          "text": [
            "Classification Report:\n",
            "              precision    recall  f1-score   support\n",
            "\n",
            "    Surprise       0.37      0.67      0.48       104\n",
            "     Sadness       0.73      0.61      0.67       462\n",
            "     Disgust       0.54      0.50      0.52       521\n",
            "        Fear       0.73      0.78      0.75       177\n",
            "       Other       0.50      0.39      0.44       511\n",
            "   Enjoyment       0.70      0.70      0.70       906\n",
            "       Anger       0.49      0.84      0.62       187\n",
            "\n",
            "    accuracy                           0.61      2868\n",
            "   macro avg       0.58      0.64      0.60      2868\n",
            "weighted avg       0.62      0.61      0.61      2868\n",
            "\n"
          ]
        }
      ],
      "source": [
        "# Import thêm các thư viện cần thiết cho Deep Learning\n",
        "import tensorflow as tf\n",
        "from tensorflow.keras.models import Sequential\n",
        "from tensorflow.keras.layers import LSTM, Dense, Dropout, Embedding, Bidirectional\n",
        "from tensorflow.keras.utils import to_categorical\n",
        "from sklearn.preprocessing import LabelEncoder\n",
        "from sklearn.metrics import classification_report\n",
        "\n",
        "# 1. Chuẩn bị dữ liệu\n",
        "\n",
        "# Lấy danh sách các từ trong corpus (tập huấn luyện)\n",
        "corpus = train_df['Text'].tolist()\n",
        "\n",
        "# Tạo Word2Vec từ gensim (nếu chưa có)\n",
        "# Nếu đã có model Word2Vec, bạn có thể load từ file\n",
        "model = gensim.models.Word2Vec(corpus, vector_size=100, window=5, min_count=1, workers=4, epochs=100)\n",
        "\n",
        "# Chuyển các từ thành embedding matrix\n",
        "vocab_size = len(model.wv.index_to_key) + 1  # Thêm 1 cho padding token\n",
        "embedding_dim = model.vector_size  # Kích thước vector embedding\n",
        "embedding_matrix = np.zeros((vocab_size, embedding_dim))\n",
        "\n",
        "word_index = {word: index for index, word in enumerate(model.wv.index_to_key, start=1)}\n",
        "for word, index in word_index.items():\n",
        "    embedding_matrix[index] = model.wv[word]\n",
        "\n",
        "# Hàm chuyển câu thành danh sách số (dựa vào Word2Vec index)\n",
        "def sentence_to_sequence(sentence, word_index, max_len):\n",
        "    sequence = [word_index.get(word, 0) for word in sentence]  # 0 nếu từ không có trong Word2Vec\n",
        "    return sequence[:max_len] + [0] * max(0, max_len - len(sequence))  # Padding\n",
        "\n",
        "# Định nghĩa độ dài tối đa của câu\n",
        "max_len = 50  # Có thể thay đổi tùy dữ liệu\n",
        "\n",
        "# Chuyển train/test thành các sequence\n",
        "X_train_seq = np.array([sentence_to_sequence(sentence, word_index, max_len) for sentence in train_df['Text']])\n",
        "X_test_seq = np.array([sentence_to_sequence(sentence, word_index, max_len) for sentence in test_df['Text']])\n",
        "\n",
        "# Chuẩn bị nhãn\n",
        "y_train = to_categorical(train_df['Emotion'].values, num_classes=len(emotion_to_num))\n",
        "y_test = to_categorical(test_df['Emotion'].values, num_classes=len(emotion_to_num))\n",
        "\n",
        "# 2. Xây dựng mô hình LSTM\n",
        "model_lstm = Sequential([\n",
        "    Embedding(input_dim=vocab_size, output_dim=embedding_dim, weights=[embedding_matrix], input_length=max_len, trainable=False),\n",
        "    Bidirectional(LSTM(128, return_sequences=True, dropout=0.3, recurrent_dropout=0.3)),\n",
        "    Bidirectional(LSTM(64, dropout=0.3, recurrent_dropout=0.3)),\n",
        "    Dense(64, activation='relu'),\n",
        "    Dropout(0.3),\n",
        "    Dense(len(emotion_to_num), activation='softmax')\n",
        "])\n",
        "\n",
        "model_lstm.compile(optimizer='adam', loss='categorical_crossentropy', metrics=['accuracy'])\n",
        "model_lstm.summary()\n",
        "\n",
        "# 3. Huấn luyện mô hình\n",
        "batch_size = 32\n",
        "epochs = 10\n",
        "\n",
        "history = model_lstm.fit(\n",
        "    X_train_seq, y_train,\n",
        "    validation_data=(X_test_seq, y_test),\n",
        "    batch_size=batch_size,\n",
        "    epochs=epochs,\n",
        "    verbose=1\n",
        ")\n",
        "\n",
        "# 4. Đánh giá mô hình\n",
        "loss, accuracy = model_lstm.evaluate(X_test_seq, y_test)\n",
        "print(f\"Test Accuracy: {accuracy:.4f}\")\n",
        "\n",
        "y_pred = model_lstm.predict(X_test_seq)\n",
        "y_pred_labels = np.argmax(y_pred, axis=1)\n",
        "y_true_labels = np.argmax(y_test, axis=1)\n",
        "\n",
        "print(\"Classification Report:\")\n",
        "print(classification_report(y_true_labels, y_pred_labels, target_names=num_to_emotion.values()))\n",
        "\n",
        "# 5. Lưu mô hình\n",
        "model_lstm.save(folder + '/lstm_emotion_model.h5')"
      ]
    },
    {
      "cell_type": "code",
      "execution_count": 49,
      "metadata": {},
      "outputs": [
        {
          "name": "stdout",
          "output_type": "stream",
          "text": [
            "Requirement already satisfied: transformers in c:\\users\\administrator\\appdata\\local\\programs\\python\\python312\\lib\\site-packages (4.47.0)\n",
            "Requirement already satisfied: tensorflow in c:\\users\\administrator\\appdata\\local\\programs\\python\\python312\\lib\\site-packages (2.18.0)\n",
            "Requirement already satisfied: filelock in c:\\users\\administrator\\appdata\\local\\programs\\python\\python312\\lib\\site-packages (from transformers) (3.16.1)\n",
            "Requirement already satisfied: huggingface-hub<1.0,>=0.24.0 in c:\\users\\administrator\\appdata\\local\\programs\\python\\python312\\lib\\site-packages (from transformers) (0.26.5)\n",
            "Requirement already satisfied: numpy>=1.17 in c:\\users\\administrator\\appdata\\local\\programs\\python\\python312\\lib\\site-packages (from transformers) (1.26.4)\n",
            "Requirement already satisfied: packaging>=20.0 in c:\\users\\administrator\\appdata\\roaming\\python\\python312\\site-packages (from transformers) (24.0)\n",
            "Requirement already satisfied: pyyaml>=5.1 in c:\\users\\administrator\\appdata\\local\\programs\\python\\python312\\lib\\site-packages (from transformers) (6.0.1)\n",
            "Requirement already satisfied: regex!=2019.12.17 in c:\\users\\administrator\\appdata\\local\\programs\\python\\python312\\lib\\site-packages (from transformers) (2024.9.11)\n",
            "Requirement already satisfied: requests in c:\\users\\administrator\\appdata\\local\\programs\\python\\python312\\lib\\site-packages (from transformers) (2.32.3)\n",
            "Requirement already satisfied: tokenizers<0.22,>=0.21 in c:\\users\\administrator\\appdata\\local\\programs\\python\\python312\\lib\\site-packages (from transformers) (0.21.0)\n",
            "Requirement already satisfied: safetensors>=0.4.1 in c:\\users\\administrator\\appdata\\local\\programs\\python\\python312\\lib\\site-packages (from transformers) (0.4.5)\n",
            "Requirement already satisfied: tqdm>=4.27 in c:\\users\\administrator\\appdata\\local\\programs\\python\\python312\\lib\\site-packages (from transformers) (4.66.5)\n",
            "Requirement already satisfied: tensorflow-intel==2.18.0 in c:\\users\\administrator\\appdata\\local\\programs\\python\\python312\\lib\\site-packages (from tensorflow) (2.18.0)\n",
            "Requirement already satisfied: absl-py>=1.0.0 in c:\\users\\administrator\\appdata\\local\\programs\\python\\python312\\lib\\site-packages (from tensorflow-intel==2.18.0->tensorflow) (2.1.0)\n",
            "Requirement already satisfied: astunparse>=1.6.0 in c:\\users\\administrator\\appdata\\local\\programs\\python\\python312\\lib\\site-packages (from tensorflow-intel==2.18.0->tensorflow) (1.6.3)\n",
            "Requirement already satisfied: flatbuffers>=24.3.25 in c:\\users\\administrator\\appdata\\local\\programs\\python\\python312\\lib\\site-packages (from tensorflow-intel==2.18.0->tensorflow) (24.3.25)\n",
            "Requirement already satisfied: gast!=0.5.0,!=0.5.1,!=0.5.2,>=0.2.1 in c:\\users\\administrator\\appdata\\local\\programs\\python\\python312\\lib\\site-packages (from tensorflow-intel==2.18.0->tensorflow) (0.6.0)\n",
            "Requirement already satisfied: google-pasta>=0.1.1 in c:\\users\\administrator\\appdata\\local\\programs\\python\\python312\\lib\\site-packages (from tensorflow-intel==2.18.0->tensorflow) (0.2.0)\n",
            "Requirement already satisfied: libclang>=13.0.0 in c:\\users\\administrator\\appdata\\local\\programs\\python\\python312\\lib\\site-packages (from tensorflow-intel==2.18.0->tensorflow) (18.1.1)\n",
            "Requirement already satisfied: opt-einsum>=2.3.2 in c:\\users\\administrator\\appdata\\local\\programs\\python\\python312\\lib\\site-packages (from tensorflow-intel==2.18.0->tensorflow) (3.4.0)\n",
            "Requirement already satisfied: protobuf!=4.21.0,!=4.21.1,!=4.21.2,!=4.21.3,!=4.21.4,!=4.21.5,<6.0.0dev,>=3.20.3 in c:\\users\\administrator\\appdata\\local\\programs\\python\\python312\\lib\\site-packages (from tensorflow-intel==2.18.0->tensorflow) (5.29.1)\n",
            "Requirement already satisfied: setuptools in c:\\users\\administrator\\appdata\\local\\programs\\python\\python312\\lib\\site-packages (from tensorflow-intel==2.18.0->tensorflow) (70.0.0)\n",
            "Requirement already satisfied: six>=1.12.0 in c:\\users\\administrator\\appdata\\roaming\\python\\python312\\site-packages (from tensorflow-intel==2.18.0->tensorflow) (1.16.0)\n",
            "Requirement already satisfied: termcolor>=1.1.0 in c:\\users\\administrator\\appdata\\local\\programs\\python\\python312\\lib\\site-packages (from tensorflow-intel==2.18.0->tensorflow) (2.5.0)\n",
            "Requirement already satisfied: typing-extensions>=3.6.6 in c:\\users\\administrator\\appdata\\local\\programs\\python\\python312\\lib\\site-packages (from tensorflow-intel==2.18.0->tensorflow) (4.12.2)\n",
            "Requirement already satisfied: wrapt>=1.11.0 in c:\\users\\administrator\\appdata\\local\\programs\\python\\python312\\lib\\site-packages (from tensorflow-intel==2.18.0->tensorflow) (1.16.0)\n",
            "Requirement already satisfied: grpcio<2.0,>=1.24.3 in c:\\users\\administrator\\appdata\\local\\programs\\python\\python312\\lib\\site-packages (from tensorflow-intel==2.18.0->tensorflow) (1.68.1)\n",
            "Requirement already satisfied: tensorboard<2.19,>=2.18 in c:\\users\\administrator\\appdata\\local\\programs\\python\\python312\\lib\\site-packages (from tensorflow-intel==2.18.0->tensorflow) (2.18.0)\n",
            "Requirement already satisfied: keras>=3.5.0 in c:\\users\\administrator\\appdata\\local\\programs\\python\\python312\\lib\\site-packages (from tensorflow-intel==2.18.0->tensorflow) (3.7.0)\n",
            "Requirement already satisfied: h5py>=3.11.0 in c:\\users\\administrator\\appdata\\local\\programs\\python\\python312\\lib\\site-packages (from tensorflow-intel==2.18.0->tensorflow) (3.12.1)\n",
            "Requirement already satisfied: ml-dtypes<0.5.0,>=0.4.0 in c:\\users\\administrator\\appdata\\local\\programs\\python\\python312\\lib\\site-packages (from tensorflow-intel==2.18.0->tensorflow) (0.4.1)\n",
            "Requirement already satisfied: fsspec>=2023.5.0 in c:\\users\\administrator\\appdata\\local\\programs\\python\\python312\\lib\\site-packages (from huggingface-hub<1.0,>=0.24.0->transformers) (2024.10.0)\n",
            "Requirement already satisfied: charset-normalizer<4,>=2 in c:\\users\\administrator\\appdata\\local\\programs\\python\\python312\\lib\\site-packages (from requests->transformers) (3.3.2)\n",
            "Requirement already satisfied: idna<4,>=2.5 in c:\\users\\administrator\\appdata\\local\\programs\\python\\python312\\lib\\site-packages (from requests->transformers) (3.7)\n",
            "Requirement already satisfied: urllib3<3,>=1.21.1 in c:\\users\\administrator\\appdata\\local\\programs\\python\\python312\\lib\\site-packages (from requests->transformers) (2.2.1)\n",
            "Requirement already satisfied: certifi>=2017.4.17 in c:\\users\\administrator\\appdata\\local\\programs\\python\\python312\\lib\\site-packages (from requests->transformers) (2024.6.2)\n",
            "Requirement already satisfied: colorama in c:\\users\\administrator\\appdata\\roaming\\python\\python312\\site-packages (from tqdm>=4.27->transformers) (0.4.6)\n",
            "Requirement already satisfied: wheel<1.0,>=0.23.0 in c:\\users\\administrator\\appdata\\local\\programs\\python\\python312\\lib\\site-packages (from astunparse>=1.6.0->tensorflow-intel==2.18.0->tensorflow) (0.45.1)\n",
            "Requirement already satisfied: rich in c:\\users\\administrator\\appdata\\local\\programs\\python\\python312\\lib\\site-packages (from keras>=3.5.0->tensorflow-intel==2.18.0->tensorflow) (13.9.4)\n",
            "Requirement already satisfied: namex in c:\\users\\administrator\\appdata\\local\\programs\\python\\python312\\lib\\site-packages (from keras>=3.5.0->tensorflow-intel==2.18.0->tensorflow) (0.0.8)\n",
            "Requirement already satisfied: optree in c:\\users\\administrator\\appdata\\local\\programs\\python\\python312\\lib\\site-packages (from keras>=3.5.0->tensorflow-intel==2.18.0->tensorflow) (0.13.1)\n",
            "Requirement already satisfied: markdown>=2.6.8 in c:\\users\\administrator\\appdata\\local\\programs\\python\\python312\\lib\\site-packages (from tensorboard<2.19,>=2.18->tensorflow-intel==2.18.0->tensorflow) (3.7)\n",
            "Requirement already satisfied: tensorboard-data-server<0.8.0,>=0.7.0 in c:\\users\\administrator\\appdata\\local\\programs\\python\\python312\\lib\\site-packages (from tensorboard<2.19,>=2.18->tensorflow-intel==2.18.0->tensorflow) (0.7.2)\n",
            "Requirement already satisfied: werkzeug>=1.0.1 in c:\\users\\administrator\\appdata\\local\\programs\\python\\python312\\lib\\site-packages (from tensorboard<2.19,>=2.18->tensorflow-intel==2.18.0->tensorflow) (3.0.2)\n",
            "Requirement already satisfied: MarkupSafe>=2.1.1 in c:\\users\\administrator\\appdata\\local\\programs\\python\\python312\\lib\\site-packages (from werkzeug>=1.0.1->tensorboard<2.19,>=2.18->tensorflow-intel==2.18.0->tensorflow) (2.1.5)\n",
            "Requirement already satisfied: markdown-it-py>=2.2.0 in c:\\users\\administrator\\appdata\\local\\programs\\python\\python312\\lib\\site-packages (from rich->keras>=3.5.0->tensorflow-intel==2.18.0->tensorflow) (3.0.0)\n",
            "Requirement already satisfied: pygments<3.0.0,>=2.13.0 in c:\\users\\administrator\\appdata\\roaming\\python\\python312\\site-packages (from rich->keras>=3.5.0->tensorflow-intel==2.18.0->tensorflow) (2.17.2)\n",
            "Requirement already satisfied: mdurl~=0.1 in c:\\users\\administrator\\appdata\\local\\programs\\python\\python312\\lib\\site-packages (from markdown-it-py>=2.2.0->rich->keras>=3.5.0->tensorflow-intel==2.18.0->tensorflow) (0.1.2)\n",
            "Note: you may need to restart the kernel to use updated packages.\n"
          ]
        },
        {
          "name": "stderr",
          "output_type": "stream",
          "text": [
            "\n",
            "[notice] A new release of pip is available: 24.0 -> 24.3.1\n",
            "[notice] To update, run: python.exe -m pip install --upgrade pip\n"
          ]
        }
      ],
      "source": [
        "pip install transformers tensorflow"
      ]
    },
    {
      "cell_type": "code",
      "execution_count": 50,
      "metadata": {},
      "outputs": [
        {
          "name": "stdout",
          "output_type": "stream",
          "text": [
            "Requirement already satisfied: tf-keras in c:\\users\\administrator\\appdata\\local\\programs\\python\\python312\\lib\\site-packages (2.18.0)\n",
            "Requirement already satisfied: tensorflow<2.19,>=2.18 in c:\\users\\administrator\\appdata\\local\\programs\\python\\python312\\lib\\site-packages (from tf-keras) (2.18.0)\n",
            "Requirement already satisfied: tensorflow-intel==2.18.0 in c:\\users\\administrator\\appdata\\local\\programs\\python\\python312\\lib\\site-packages (from tensorflow<2.19,>=2.18->tf-keras) (2.18.0)\n",
            "Requirement already satisfied: absl-py>=1.0.0 in c:\\users\\administrator\\appdata\\local\\programs\\python\\python312\\lib\\site-packages (from tensorflow-intel==2.18.0->tensorflow<2.19,>=2.18->tf-keras) (2.1.0)\n",
            "Requirement already satisfied: astunparse>=1.6.0 in c:\\users\\administrator\\appdata\\local\\programs\\python\\python312\\lib\\site-packages (from tensorflow-intel==2.18.0->tensorflow<2.19,>=2.18->tf-keras) (1.6.3)\n",
            "Requirement already satisfied: flatbuffers>=24.3.25 in c:\\users\\administrator\\appdata\\local\\programs\\python\\python312\\lib\\site-packages (from tensorflow-intel==2.18.0->tensorflow<2.19,>=2.18->tf-keras) (24.3.25)\n",
            "Requirement already satisfied: gast!=0.5.0,!=0.5.1,!=0.5.2,>=0.2.1 in c:\\users\\administrator\\appdata\\local\\programs\\python\\python312\\lib\\site-packages (from tensorflow-intel==2.18.0->tensorflow<2.19,>=2.18->tf-keras) (0.6.0)\n",
            "Requirement already satisfied: google-pasta>=0.1.1 in c:\\users\\administrator\\appdata\\local\\programs\\python\\python312\\lib\\site-packages (from tensorflow-intel==2.18.0->tensorflow<2.19,>=2.18->tf-keras) (0.2.0)\n",
            "Requirement already satisfied: libclang>=13.0.0 in c:\\users\\administrator\\appdata\\local\\programs\\python\\python312\\lib\\site-packages (from tensorflow-intel==2.18.0->tensorflow<2.19,>=2.18->tf-keras) (18.1.1)\n",
            "Requirement already satisfied: opt-einsum>=2.3.2 in c:\\users\\administrator\\appdata\\local\\programs\\python\\python312\\lib\\site-packages (from tensorflow-intel==2.18.0->tensorflow<2.19,>=2.18->tf-keras) (3.4.0)\n",
            "Requirement already satisfied: packaging in c:\\users\\administrator\\appdata\\roaming\\python\\python312\\site-packages (from tensorflow-intel==2.18.0->tensorflow<2.19,>=2.18->tf-keras) (24.0)\n",
            "Requirement already satisfied: protobuf!=4.21.0,!=4.21.1,!=4.21.2,!=4.21.3,!=4.21.4,!=4.21.5,<6.0.0dev,>=3.20.3 in c:\\users\\administrator\\appdata\\local\\programs\\python\\python312\\lib\\site-packages (from tensorflow-intel==2.18.0->tensorflow<2.19,>=2.18->tf-keras) (5.29.1)\n",
            "Requirement already satisfied: requests<3,>=2.21.0 in c:\\users\\administrator\\appdata\\local\\programs\\python\\python312\\lib\\site-packages (from tensorflow-intel==2.18.0->tensorflow<2.19,>=2.18->tf-keras) (2.32.3)\n",
            "Requirement already satisfied: setuptools in c:\\users\\administrator\\appdata\\local\\programs\\python\\python312\\lib\\site-packages (from tensorflow-intel==2.18.0->tensorflow<2.19,>=2.18->tf-keras) (70.0.0)\n",
            "Requirement already satisfied: six>=1.12.0 in c:\\users\\administrator\\appdata\\roaming\\python\\python312\\site-packages (from tensorflow-intel==2.18.0->tensorflow<2.19,>=2.18->tf-keras) (1.16.0)\n",
            "Requirement already satisfied: termcolor>=1.1.0 in c:\\users\\administrator\\appdata\\local\\programs\\python\\python312\\lib\\site-packages (from tensorflow-intel==2.18.0->tensorflow<2.19,>=2.18->tf-keras) (2.5.0)\n",
            "Requirement already satisfied: typing-extensions>=3.6.6 in c:\\users\\administrator\\appdata\\local\\programs\\python\\python312\\lib\\site-packages (from tensorflow-intel==2.18.0->tensorflow<2.19,>=2.18->tf-keras) (4.12.2)\n",
            "Requirement already satisfied: wrapt>=1.11.0 in c:\\users\\administrator\\appdata\\local\\programs\\python\\python312\\lib\\site-packages (from tensorflow-intel==2.18.0->tensorflow<2.19,>=2.18->tf-keras) (1.16.0)\n",
            "Requirement already satisfied: grpcio<2.0,>=1.24.3 in c:\\users\\administrator\\appdata\\local\\programs\\python\\python312\\lib\\site-packages (from tensorflow-intel==2.18.0->tensorflow<2.19,>=2.18->tf-keras) (1.68.1)\n",
            "Requirement already satisfied: tensorboard<2.19,>=2.18 in c:\\users\\administrator\\appdata\\local\\programs\\python\\python312\\lib\\site-packages (from tensorflow-intel==2.18.0->tensorflow<2.19,>=2.18->tf-keras) (2.18.0)\n",
            "Requirement already satisfied: keras>=3.5.0 in c:\\users\\administrator\\appdata\\local\\programs\\python\\python312\\lib\\site-packages (from tensorflow-intel==2.18.0->tensorflow<2.19,>=2.18->tf-keras) (3.7.0)\n",
            "Requirement already satisfied: numpy<2.1.0,>=1.26.0 in c:\\users\\administrator\\appdata\\local\\programs\\python\\python312\\lib\\site-packages (from tensorflow-intel==2.18.0->tensorflow<2.19,>=2.18->tf-keras) (1.26.4)\n",
            "Requirement already satisfied: h5py>=3.11.0 in c:\\users\\administrator\\appdata\\local\\programs\\python\\python312\\lib\\site-packages (from tensorflow-intel==2.18.0->tensorflow<2.19,>=2.18->tf-keras) (3.12.1)\n",
            "Requirement already satisfied: ml-dtypes<0.5.0,>=0.4.0 in c:\\users\\administrator\\appdata\\local\\programs\\python\\python312\\lib\\site-packages (from tensorflow-intel==2.18.0->tensorflow<2.19,>=2.18->tf-keras) (0.4.1)\n",
            "Requirement already satisfied: wheel<1.0,>=0.23.0 in c:\\users\\administrator\\appdata\\local\\programs\\python\\python312\\lib\\site-packages (from astunparse>=1.6.0->tensorflow-intel==2.18.0->tensorflow<2.19,>=2.18->tf-keras) (0.45.1)\n",
            "Requirement already satisfied: rich in c:\\users\\administrator\\appdata\\local\\programs\\python\\python312\\lib\\site-packages (from keras>=3.5.0->tensorflow-intel==2.18.0->tensorflow<2.19,>=2.18->tf-keras) (13.9.4)\n",
            "Requirement already satisfied: namex in c:\\users\\administrator\\appdata\\local\\programs\\python\\python312\\lib\\site-packages (from keras>=3.5.0->tensorflow-intel==2.18.0->tensorflow<2.19,>=2.18->tf-keras) (0.0.8)\n",
            "Requirement already satisfied: optree in c:\\users\\administrator\\appdata\\local\\programs\\python\\python312\\lib\\site-packages (from keras>=3.5.0->tensorflow-intel==2.18.0->tensorflow<2.19,>=2.18->tf-keras) (0.13.1)\n",
            "Requirement already satisfied: charset-normalizer<4,>=2 in c:\\users\\administrator\\appdata\\local\\programs\\python\\python312\\lib\\site-packages (from requests<3,>=2.21.0->tensorflow-intel==2.18.0->tensorflow<2.19,>=2.18->tf-keras) (3.3.2)\n",
            "Requirement already satisfied: idna<4,>=2.5 in c:\\users\\administrator\\appdata\\local\\programs\\python\\python312\\lib\\site-packages (from requests<3,>=2.21.0->tensorflow-intel==2.18.0->tensorflow<2.19,>=2.18->tf-keras) (3.7)\n",
            "Requirement already satisfied: urllib3<3,>=1.21.1 in c:\\users\\administrator\\appdata\\local\\programs\\python\\python312\\lib\\site-packages (from requests<3,>=2.21.0->tensorflow-intel==2.18.0->tensorflow<2.19,>=2.18->tf-keras) (2.2.1)\n",
            "Requirement already satisfied: certifi>=2017.4.17 in c:\\users\\administrator\\appdata\\local\\programs\\python\\python312\\lib\\site-packages (from requests<3,>=2.21.0->tensorflow-intel==2.18.0->tensorflow<2.19,>=2.18->tf-keras) (2024.6.2)\n",
            "Requirement already satisfied: markdown>=2.6.8 in c:\\users\\administrator\\appdata\\local\\programs\\python\\python312\\lib\\site-packages (from tensorboard<2.19,>=2.18->tensorflow-intel==2.18.0->tensorflow<2.19,>=2.18->tf-keras) (3.7)\n",
            "Requirement already satisfied: tensorboard-data-server<0.8.0,>=0.7.0 in c:\\users\\administrator\\appdata\\local\\programs\\python\\python312\\lib\\site-packages (from tensorboard<2.19,>=2.18->tensorflow-intel==2.18.0->tensorflow<2.19,>=2.18->tf-keras) (0.7.2)\n",
            "Requirement already satisfied: werkzeug>=1.0.1 in c:\\users\\administrator\\appdata\\local\\programs\\python\\python312\\lib\\site-packages (from tensorboard<2.19,>=2.18->tensorflow-intel==2.18.0->tensorflow<2.19,>=2.18->tf-keras) (3.0.2)\n",
            "Requirement already satisfied: MarkupSafe>=2.1.1 in c:\\users\\administrator\\appdata\\local\\programs\\python\\python312\\lib\\site-packages (from werkzeug>=1.0.1->tensorboard<2.19,>=2.18->tensorflow-intel==2.18.0->tensorflow<2.19,>=2.18->tf-keras) (2.1.5)\n",
            "Requirement already satisfied: markdown-it-py>=2.2.0 in c:\\users\\administrator\\appdata\\local\\programs\\python\\python312\\lib\\site-packages (from rich->keras>=3.5.0->tensorflow-intel==2.18.0->tensorflow<2.19,>=2.18->tf-keras) (3.0.0)\n",
            "Requirement already satisfied: pygments<3.0.0,>=2.13.0 in c:\\users\\administrator\\appdata\\roaming\\python\\python312\\site-packages (from rich->keras>=3.5.0->tensorflow-intel==2.18.0->tensorflow<2.19,>=2.18->tf-keras) (2.17.2)\n",
            "Requirement already satisfied: mdurl~=0.1 in c:\\users\\administrator\\appdata\\local\\programs\\python\\python312\\lib\\site-packages (from markdown-it-py>=2.2.0->rich->keras>=3.5.0->tensorflow-intel==2.18.0->tensorflow<2.19,>=2.18->tf-keras) (0.1.2)\n",
            "Note: you may need to restart the kernel to use updated packages.\n"
          ]
        },
        {
          "name": "stderr",
          "output_type": "stream",
          "text": [
            "\n",
            "[notice] A new release of pip is available: 24.0 -> 24.3.1\n",
            "[notice] To update, run: python.exe -m pip install --upgrade pip\n"
          ]
        }
      ],
      "source": [
        "pip install tf-keras"
      ]
    },
    {
      "cell_type": "code",
      "execution_count": 51,
      "metadata": {},
      "outputs": [
        {
          "name": "stdout",
          "output_type": "stream",
          "text": [
            "Requirement already satisfied: transformers in c:\\users\\administrator\\appdata\\local\\programs\\python\\python312\\lib\\site-packages (4.47.0)\n",
            "Requirement already satisfied: filelock in c:\\users\\administrator\\appdata\\local\\programs\\python\\python312\\lib\\site-packages (from transformers) (3.16.1)\n",
            "Requirement already satisfied: huggingface-hub<1.0,>=0.24.0 in c:\\users\\administrator\\appdata\\local\\programs\\python\\python312\\lib\\site-packages (from transformers) (0.26.5)\n",
            "Requirement already satisfied: numpy>=1.17 in c:\\users\\administrator\\appdata\\local\\programs\\python\\python312\\lib\\site-packages (from transformers) (1.26.4)\n",
            "Requirement already satisfied: packaging>=20.0 in c:\\users\\administrator\\appdata\\roaming\\python\\python312\\site-packages (from transformers) (24.0)\n",
            "Requirement already satisfied: pyyaml>=5.1 in c:\\users\\administrator\\appdata\\local\\programs\\python\\python312\\lib\\site-packages (from transformers) (6.0.1)\n",
            "Requirement already satisfied: regex!=2019.12.17 in c:\\users\\administrator\\appdata\\local\\programs\\python\\python312\\lib\\site-packages (from transformers) (2024.9.11)\n",
            "Requirement already satisfied: requests in c:\\users\\administrator\\appdata\\local\\programs\\python\\python312\\lib\\site-packages (from transformers) (2.32.3)\n",
            "Requirement already satisfied: tokenizers<0.22,>=0.21 in c:\\users\\administrator\\appdata\\local\\programs\\python\\python312\\lib\\site-packages (from transformers) (0.21.0)\n",
            "Requirement already satisfied: safetensors>=0.4.1 in c:\\users\\administrator\\appdata\\local\\programs\\python\\python312\\lib\\site-packages (from transformers) (0.4.5)\n",
            "Requirement already satisfied: tqdm>=4.27 in c:\\users\\administrator\\appdata\\local\\programs\\python\\python312\\lib\\site-packages (from transformers) (4.66.5)\n",
            "Requirement already satisfied: fsspec>=2023.5.0 in c:\\users\\administrator\\appdata\\local\\programs\\python\\python312\\lib\\site-packages (from huggingface-hub<1.0,>=0.24.0->transformers) (2024.10.0)\n",
            "Requirement already satisfied: typing-extensions>=3.7.4.3 in c:\\users\\administrator\\appdata\\local\\programs\\python\\python312\\lib\\site-packages (from huggingface-hub<1.0,>=0.24.0->transformers) (4.12.2)\n",
            "Requirement already satisfied: colorama in c:\\users\\administrator\\appdata\\roaming\\python\\python312\\site-packages (from tqdm>=4.27->transformers) (0.4.6)\n",
            "Requirement already satisfied: charset-normalizer<4,>=2 in c:\\users\\administrator\\appdata\\local\\programs\\python\\python312\\lib\\site-packages (from requests->transformers) (3.3.2)\n",
            "Requirement already satisfied: idna<4,>=2.5 in c:\\users\\administrator\\appdata\\local\\programs\\python\\python312\\lib\\site-packages (from requests->transformers) (3.7)\n",
            "Requirement already satisfied: urllib3<3,>=1.21.1 in c:\\users\\administrator\\appdata\\local\\programs\\python\\python312\\lib\\site-packages (from requests->transformers) (2.2.1)\n",
            "Requirement already satisfied: certifi>=2017.4.17 in c:\\users\\administrator\\appdata\\local\\programs\\python\\python312\\lib\\site-packages (from requests->transformers) (2024.6.2)\n",
            "Note: you may need to restart the kernel to use updated packages.\n"
          ]
        },
        {
          "name": "stderr",
          "output_type": "stream",
          "text": [
            "\n",
            "[notice] A new release of pip is available: 24.0 -> 24.3.1\n",
            "[notice] To update, run: python.exe -m pip install --upgrade pip\n"
          ]
        }
      ],
      "source": [
        "pip install --upgrade transformers"
      ]
    },
    {
      "cell_type": "code",
      "execution_count": 52,
      "metadata": {},
      "outputs": [
        {
          "name": "stdout",
          "output_type": "stream",
          "text": [
            "Looking in indexes: https://download.pytorch.org/whl/cpu\n",
            "Requirement already satisfied: torch in c:\\users\\administrator\\appdata\\local\\programs\\python\\python312\\lib\\site-packages (2.5.1)\n",
            "Collecting torchvision\n",
            "  Downloading https://download.pytorch.org/whl/cpu/torchvision-0.20.1%2Bcpu-cp312-cp312-win_amd64.whl (1.6 MB)\n",
            "     ---------------------------------------- 0.0/1.6 MB ? eta -:--:--\n",
            "     ---------------------------------------- 0.0/1.6 MB ? eta -:--:--\n",
            "     ---------------------------------------- 0.0/1.6 MB ? eta -:--:--\n",
            "     ---------------------------------------- 0.0/1.6 MB ? eta -:--:--\n",
            "     ---------------------------------------- 0.0/1.6 MB ? eta -:--:--\n",
            "     ---------------------------------------- 0.0/1.6 MB ? eta -:--:--\n",
            "     ---------------------------------------- 0.0/1.6 MB ? eta -:--:--\n",
            "     ---------------------------------------- 0.0/1.6 MB ? eta -:--:--\n",
            "     ---------------------------------------- 0.0/1.6 MB ? eta -:--:--\n",
            "     ---------------------------------------- 0.0/1.6 MB ? eta -:--:--\n",
            "     ---------------------------------------- 0.0/1.6 MB ? eta -:--:--\n",
            "     ---------------------------------------- 0.0/1.6 MB ? eta -:--:--\n",
            "     ---------------------------------------- 0.0/1.6 MB ? eta -:--:--\n",
            "     ---------------------------------------- 0.0/1.6 MB ? eta -:--:--\n",
            "     ---------------------------------------- 0.0/1.6 MB ? eta -:--:--\n",
            "     ---------------------------------------- 0.0/1.6 MB ? eta -:--:--\n",
            "     ---------------------------------------- 0.0/1.6 MB ? eta -:--:--\n",
            "     ---------------------------------------- 0.0/1.6 MB ? eta -:--:--\n",
            "     ---------------------------------------- 0.0/1.6 MB ? eta -:--:--\n",
            "      --------------------------------------- 0.0/1.6 MB 45.2 kB/s eta 0:00:34\n",
            "      --------------------------------------- 0.0/1.6 MB 45.2 kB/s eta 0:00:34\n",
            "      --------------------------------------- 0.0/1.6 MB 45.2 kB/s eta 0:00:34\n",
            "      --------------------------------------- 0.0/1.6 MB 45.2 kB/s eta 0:00:34\n",
            "      --------------------------------------- 0.0/1.6 MB 45.2 kB/s eta 0:00:34\n",
            "      --------------------------------------- 0.0/1.6 MB 45.2 kB/s eta 0:00:34\n",
            "      --------------------------------------- 0.0/1.6 MB 45.2 kB/s eta 0:00:34\n",
            "     - -------------------------------------- 0.1/1.6 MB 59.6 kB/s eta 0:00:26\n",
            "     - -------------------------------------- 0.1/1.6 MB 59.6 kB/s eta 0:00:26\n",
            "     - -------------------------------------- 0.1/1.6 MB 59.6 kB/s eta 0:00:26\n",
            "     - -------------------------------------- 0.1/1.6 MB 59.6 kB/s eta 0:00:26\n",
            "     - -------------------------------------- 0.1/1.6 MB 59.6 kB/s eta 0:00:26\n",
            "     - -------------------------------------- 0.1/1.6 MB 59.6 kB/s eta 0:00:26\n",
            "     - -------------------------------------- 0.1/1.6 MB 59.6 kB/s eta 0:00:26\n",
            "     - -------------------------------------- 0.1/1.6 MB 59.6 kB/s eta 0:00:26\n",
            "     - -------------------------------------- 0.1/1.6 MB 59.6 kB/s eta 0:00:26\n",
            "     - -------------------------------------- 0.1/1.6 MB 59.6 kB/s eta 0:00:26\n",
            "     - -------------------------------------- 0.1/1.6 MB 59.6 kB/s eta 0:00:26\n",
            "     - -------------------------------------- 0.1/1.6 MB 59.6 kB/s eta 0:00:26\n",
            "     - -------------------------------------- 0.1/1.6 MB 46.2 kB/s eta 0:00:33\n",
            "     - -------------------------------------- 0.1/1.6 MB 46.2 kB/s eta 0:00:33\n",
            "     - -------------------------------------- 0.1/1.6 MB 46.2 kB/s eta 0:00:33\n",
            "     - -------------------------------------- 0.1/1.6 MB 46.2 kB/s eta 0:00:33\n",
            "     - -------------------------------------- 0.1/1.6 MB 46.2 kB/s eta 0:00:33\n",
            "     - -------------------------------------- 0.1/1.6 MB 46.2 kB/s eta 0:00:33\n",
            "     - -------------------------------------- 0.1/1.6 MB 46.2 kB/s eta 0:00:33\n",
            "     - -------------------------------------- 0.1/1.6 MB 46.2 kB/s eta 0:00:33\n",
            "     - -------------------------------------- 0.1/1.6 MB 46.2 kB/s eta 0:00:33\n",
            "     -- ------------------------------------- 0.1/1.6 MB 48.8 kB/s eta 0:00:31\n",
            "     -- ------------------------------------- 0.1/1.6 MB 48.8 kB/s eta 0:00:31\n",
            "     -- ------------------------------------- 0.1/1.6 MB 48.8 kB/s eta 0:00:31\n",
            "     -- ------------------------------------- 0.1/1.6 MB 48.8 kB/s eta 0:00:31\n",
            "     -- ------------------------------------- 0.1/1.6 MB 56.2 kB/s eta 0:00:26\n",
            "     -- ------------------------------------- 0.1/1.6 MB 56.2 kB/s eta 0:00:26\n",
            "     -- ------------------------------------- 0.1/1.6 MB 56.2 kB/s eta 0:00:26\n",
            "     -- ------------------------------------- 0.1/1.6 MB 56.2 kB/s eta 0:00:26\n",
            "     -- ------------------------------------- 0.1/1.6 MB 56.2 kB/s eta 0:00:26\n",
            "     --- ------------------------------------ 0.1/1.6 MB 61.1 kB/s eta 0:00:24\n",
            "     --- ------------------------------------ 0.1/1.6 MB 61.1 kB/s eta 0:00:24\n",
            "     --- ------------------------------------ 0.1/1.6 MB 61.1 kB/s eta 0:00:24\n",
            "     --- ------------------------------------ 0.1/1.6 MB 61.1 kB/s eta 0:00:24\n",
            "     --- ------------------------------------ 0.1/1.6 MB 60.0 kB/s eta 0:00:24\n",
            "     --- ------------------------------------ 0.1/1.6 MB 60.0 kB/s eta 0:00:24\n",
            "     --- ------------------------------------ 0.1/1.6 MB 60.0 kB/s eta 0:00:24\n",
            "     --- ------------------------------------ 0.1/1.6 MB 60.0 kB/s eta 0:00:24\n",
            "     --- ------------------------------------ 0.1/1.6 MB 60.0 kB/s eta 0:00:24\n",
            "     --- ------------------------------------ 0.1/1.6 MB 60.0 kB/s eta 0:00:24\n",
            "     --- ------------------------------------ 0.1/1.6 MB 60.0 kB/s eta 0:00:24\n",
            "     --- ------------------------------------ 0.2/1.6 MB 62.8 kB/s eta 0:00:23\n",
            "     --- ------------------------------------ 0.2/1.6 MB 62.8 kB/s eta 0:00:23\n",
            "     --- ------------------------------------ 0.2/1.6 MB 62.8 kB/s eta 0:00:23\n",
            "     --- ------------------------------------ 0.2/1.6 MB 62.8 kB/s eta 0:00:23\n",
            "     --- ------------------------------------ 0.2/1.6 MB 62.8 kB/s eta 0:00:23\n",
            "     --- ------------------------------------ 0.2/1.6 MB 62.8 kB/s eta 0:00:23\n",
            "     ---- ----------------------------------- 0.2/1.6 MB 65.5 kB/s eta 0:00:22\n",
            "     ---- ----------------------------------- 0.2/1.6 MB 65.5 kB/s eta 0:00:22\n",
            "     ---- ----------------------------------- 0.2/1.6 MB 65.5 kB/s eta 0:00:22\n",
            "     ---- ----------------------------------- 0.2/1.6 MB 65.5 kB/s eta 0:00:22\n",
            "     ---- ----------------------------------- 0.2/1.6 MB 65.5 kB/s eta 0:00:22\n",
            "     ---- ----------------------------------- 0.2/1.6 MB 65.5 kB/s eta 0:00:22\n",
            "     ---- ----------------------------------- 0.2/1.6 MB 63.7 kB/s eta 0:00:22\n",
            "     ---- ----------------------------------- 0.2/1.6 MB 63.7 kB/s eta 0:00:22\n",
            "     ---- ----------------------------------- 0.2/1.6 MB 63.7 kB/s eta 0:00:22\n",
            "     ---- ----------------------------------- 0.2/1.6 MB 63.7 kB/s eta 0:00:22\n",
            "     ---- ----------------------------------- 0.2/1.6 MB 63.7 kB/s eta 0:00:22\n",
            "     ---- ----------------------------------- 0.2/1.6 MB 63.7 kB/s eta 0:00:22\n",
            "     ----- ---------------------------------- 0.2/1.6 MB 65.9 kB/s eta 0:00:21\n",
            "     ----- ---------------------------------- 0.2/1.6 MB 65.9 kB/s eta 0:00:21\n",
            "     ----- ---------------------------------- 0.2/1.6 MB 65.9 kB/s eta 0:00:21\n",
            "     ----- ---------------------------------- 0.2/1.6 MB 69.9 kB/s eta 0:00:20\n",
            "     ----- ---------------------------------- 0.2/1.6 MB 69.9 kB/s eta 0:00:20\n",
            "     ----- ---------------------------------- 0.2/1.6 MB 69.9 kB/s eta 0:00:20\n",
            "     ----- ---------------------------------- 0.2/1.6 MB 69.9 kB/s eta 0:00:20\n",
            "     ----- ---------------------------------- 0.2/1.6 MB 69.9 kB/s eta 0:00:20\n",
            "     ----- ---------------------------------- 0.2/1.6 MB 69.9 kB/s eta 0:00:20\n",
            "     ------ --------------------------------- 0.3/1.6 MB 74.5 kB/s eta 0:00:18\n",
            "     ------ --------------------------------- 0.3/1.6 MB 74.5 kB/s eta 0:00:18\n",
            "     ------ --------------------------------- 0.3/1.6 MB 74.5 kB/s eta 0:00:18\n",
            "     ------ --------------------------------- 0.3/1.6 MB 74.5 kB/s eta 0:00:18\n",
            "     ------ --------------------------------- 0.3/1.6 MB 74.5 kB/s eta 0:00:18\n",
            "     ------- -------------------------------- 0.3/1.6 MB 79.0 kB/s eta 0:00:17\n",
            "     ------- -------------------------------- 0.3/1.6 MB 81.6 kB/s eta 0:00:16\n",
            "     ------- -------------------------------- 0.3/1.6 MB 81.6 kB/s eta 0:00:16\n",
            "     ------- -------------------------------- 0.3/1.6 MB 81.6 kB/s eta 0:00:16\n",
            "     ------- -------------------------------- 0.3/1.6 MB 81.6 kB/s eta 0:00:16\n",
            "     ------- -------------------------------- 0.3/1.6 MB 81.6 kB/s eta 0:00:16\n",
            "     ------- -------------------------------- 0.3/1.6 MB 81.6 kB/s eta 0:00:16\n",
            "     -------- ------------------------------- 0.3/1.6 MB 85.0 kB/s eta 0:00:15\n",
            "     -------- ------------------------------- 0.3/1.6 MB 85.0 kB/s eta 0:00:15\n",
            "     -------- ------------------------------- 0.3/1.6 MB 85.0 kB/s eta 0:00:15\n",
            "     -------- ------------------------------- 0.3/1.6 MB 85.0 kB/s eta 0:00:15\n",
            "     --------- ------------------------------ 0.4/1.6 MB 89.5 kB/s eta 0:00:14\n",
            "     --------- ------------------------------ 0.4/1.6 MB 89.5 kB/s eta 0:00:14\n",
            "     --------- ------------------------------ 0.4/1.6 MB 89.5 kB/s eta 0:00:14\n",
            "     --------- ------------------------------ 0.4/1.6 MB 89.5 kB/s eta 0:00:14\n",
            "     --------- ------------------------------ 0.4/1.6 MB 91.5 kB/s eta 0:00:13\n",
            "     ---------- ----------------------------- 0.4/1.6 MB 95.0 kB/s eta 0:00:13\n",
            "     ---------- ----------------------------- 0.4/1.6 MB 97.5 kB/s eta 0:00:12\n",
            "     ---------- ----------------------------- 0.4/1.6 MB 97.5 kB/s eta 0:00:12\n",
            "     ---------- ----------------------------- 0.4/1.6 MB 97.5 kB/s eta 0:00:12\n",
            "     ----------- ---------------------------- 0.4/1.6 MB 98.8 kB/s eta 0:00:12\n",
            "     ----------- ---------------------------- 0.5/1.6 MB 102.1 kB/s eta 0:00:11\n",
            "     ------------ --------------------------- 0.5/1.6 MB 106.5 kB/s eta 0:00:11\n",
            "     ------------ --------------------------- 0.5/1.6 MB 106.5 kB/s eta 0:00:11\n",
            "     ------------ --------------------------- 0.5/1.6 MB 107.3 kB/s eta 0:00:11\n",
            "     ------------ --------------------------- 0.5/1.6 MB 107.3 kB/s eta 0:00:11\n",
            "     ------------ --------------------------- 0.5/1.6 MB 107.3 kB/s eta 0:00:11\n",
            "     ------------ --------------------------- 0.5/1.6 MB 107.3 kB/s eta 0:00:11\n",
            "     ------------- -------------------------- 0.5/1.6 MB 114.5 kB/s eta 0:00:09\n",
            "     ------------- -------------------------- 0.5/1.6 MB 114.5 kB/s eta 0:00:09\n",
            "     -------------- ------------------------- 0.6/1.6 MB 117.3 kB/s eta 0:00:09\n",
            "     -------------- ------------------------- 0.6/1.6 MB 117.3 kB/s eta 0:00:09\n",
            "     -------------- ------------------------- 0.6/1.6 MB 117.3 kB/s eta 0:00:09\n",
            "     --------------- ------------------------ 0.6/1.6 MB 124.2 kB/s eta 0:00:08\n",
            "     --------------- ------------------------ 0.6/1.6 MB 124.2 kB/s eta 0:00:08\n",
            "     ---------------- ----------------------- 0.6/1.6 MB 126.8 kB/s eta 0:00:08\n",
            "     ---------------- ----------------------- 0.6/1.6 MB 126.8 kB/s eta 0:00:08\n",
            "     ---------------- ----------------------- 0.6/1.6 MB 128.6 kB/s eta 0:00:08\n",
            "     ---------------- ----------------------- 0.6/1.6 MB 128.6 kB/s eta 0:00:08\n",
            "     ----------------- ---------------------- 0.7/1.6 MB 137.2 kB/s eta 0:00:07\n",
            "     ----------------- ---------------------- 0.7/1.6 MB 137.2 kB/s eta 0:00:07\n",
            "     ------------------ --------------------- 0.7/1.6 MB 137.1 kB/s eta 0:00:07\n",
            "     ------------------ --------------------- 0.7/1.6 MB 137.1 kB/s eta 0:00:07\n",
            "     ------------------ --------------------- 0.7/1.6 MB 139.0 kB/s eta 0:00:06\n",
            "     ------------------ --------------------- 0.7/1.6 MB 139.0 kB/s eta 0:00:06\n",
            "     -------------------- ------------------- 0.8/1.6 MB 147.2 kB/s eta 0:00:06\n",
            "     -------------------- ------------------- 0.8/1.6 MB 149.8 kB/s eta 0:00:06\n",
            "     --------------------- ------------------ 0.8/1.6 MB 152.3 kB/s eta 0:00:05\n",
            "     --------------------- ------------------ 0.8/1.6 MB 152.3 kB/s eta 0:00:05\n",
            "     --------------------- ------------------ 0.8/1.6 MB 152.0 kB/s eta 0:00:05\n",
            "     --------------------- ------------------ 0.8/1.6 MB 154.4 kB/s eta 0:00:05\n",
            "     ----------------------- ---------------- 0.9/1.6 MB 162.4 kB/s eta 0:00:05\n",
            "     ----------------------- ---------------- 0.9/1.6 MB 162.4 kB/s eta 0:00:05\n",
            "     ----------------------- ---------------- 0.9/1.6 MB 164.8 kB/s eta 0:00:04\n",
            "     ----------------------- ---------------- 0.9/1.6 MB 164.8 kB/s eta 0:00:04\n",
            "     ----------------------- ---------------- 0.9/1.6 MB 164.3 kB/s eta 0:00:04\n",
            "     ------------------------- -------------- 1.0/1.6 MB 169.7 kB/s eta 0:00:04\n",
            "     ------------------------- -------------- 1.0/1.6 MB 174.7 kB/s eta 0:00:04\n",
            "     ------------------------- -------------- 1.0/1.6 MB 174.7 kB/s eta 0:00:04\n",
            "     -------------------------- ------------- 1.0/1.6 MB 179.4 kB/s eta 0:00:03\n",
            "     -------------------------- ------------- 1.0/1.6 MB 179.4 kB/s eta 0:00:03\n",
            "     --------------------------- ------------ 1.1/1.6 MB 178.7 kB/s eta 0:00:03\n",
            "     --------------------------- ------------ 1.1/1.6 MB 178.7 kB/s eta 0:00:03\n",
            "     ----------------------------- ---------- 1.1/1.6 MB 192.5 kB/s eta 0:00:03\n",
            "     ----------------------------- ---------- 1.1/1.6 MB 192.5 kB/s eta 0:00:03\n",
            "     ------------------------------ --------- 1.2/1.6 MB 195.1 kB/s eta 0:00:02\n",
            "     ------------------------------ --------- 1.2/1.6 MB 195.1 kB/s eta 0:00:02\n",
            "     ------------------------------ --------- 1.2/1.6 MB 195.9 kB/s eta 0:00:02\n",
            "     ------------------------------ --------- 1.2/1.6 MB 195.9 kB/s eta 0:00:02\n",
            "     -------------------------------- ------- 1.3/1.6 MB 206.8 kB/s eta 0:00:02\n",
            "     --------------------------------- ------ 1.3/1.6 MB 209.0 kB/s eta 0:00:02\n",
            "     ---------------------------------- ----- 1.3/1.6 MB 212.4 kB/s eta 0:00:02\n",
            "     ---------------------------------- ----- 1.3/1.6 MB 212.4 kB/s eta 0:00:02\n",
            "     ---------------------------------- ----- 1.3/1.6 MB 211.4 kB/s eta 0:00:02\n",
            "     ---------------------------------- ----- 1.4/1.6 MB 213.0 kB/s eta 0:00:01\n",
            "     ----------------------------------- ---- 1.4/1.6 MB 215.8 kB/s eta 0:00:01\n",
            "     ------------------------------------- -- 1.5/1.6 MB 226.5 kB/s eta 0:00:01\n",
            "     ------------------------------------- -- 1.5/1.6 MB 226.5 kB/s eta 0:00:01\n",
            "     -------------------------------------- - 1.5/1.6 MB 230.1 kB/s eta 0:00:01\n",
            "     -------------------------------------- - 1.5/1.6 MB 230.1 kB/s eta 0:00:01\n",
            "     ---------------------------------------  1.5/1.6 MB 232.1 kB/s eta 0:00:01\n",
            "     ---------------------------------------  1.5/1.6 MB 233.5 kB/s eta 0:00:01\n",
            "     ---------------------------------------- 1.6/1.6 MB 234.5 kB/s eta 0:00:00\n",
            "Collecting torchaudio\n",
            "  Downloading https://download.pytorch.org/whl/cpu/torchaudio-2.5.1%2Bcpu-cp312-cp312-win_amd64.whl (2.4 MB)\n",
            "     ---------------------------------------- 0.0/2.4 MB ? eta -:--:--\n",
            "      --------------------------------------- 0.0/2.4 MB ? eta -:--:--\n",
            "      --------------------------------------- 0.0/2.4 MB ? eta -:--:--\n",
            "      --------------------------------------- 0.0/2.4 MB ? eta -:--:--\n",
            "      --------------------------------------- 0.0/2.4 MB ? eta -:--:--\n",
            "      --------------------------------------- 0.0/2.4 MB ? eta -:--:--\n",
            "     - -------------------------------------- 0.1/2.4 MB 353.1 kB/s eta 0:00:07\n",
            "     -- ------------------------------------- 0.2/2.4 MB 508.4 kB/s eta 0:00:05\n",
            "     -- ------------------------------------- 0.2/2.4 MB 508.4 kB/s eta 0:00:05\n",
            "     -- ------------------------------------- 0.2/2.4 MB 508.4 kB/s eta 0:00:05\n",
            "     -- ------------------------------------- 0.2/2.4 MB 508.4 kB/s eta 0:00:05\n",
            "     --- ------------------------------------ 0.2/2.4 MB 553.5 kB/s eta 0:00:04\n",
            "     --- ------------------------------------ 0.2/2.4 MB 553.5 kB/s eta 0:00:04\n",
            "     --- ------------------------------------ 0.2/2.4 MB 553.5 kB/s eta 0:00:04\n",
            "     --- ------------------------------------ 0.2/2.4 MB 553.5 kB/s eta 0:00:04\n",
            "     --- ------------------------------------ 0.2/2.4 MB 553.5 kB/s eta 0:00:04\n",
            "     --- ------------------------------------ 0.2/2.4 MB 553.5 kB/s eta 0:00:04\n",
            "     --- ------------------------------------ 0.2/2.4 MB 553.5 kB/s eta 0:00:04\n",
            "     ---- ----------------------------------- 0.3/2.4 MB 378.7 kB/s eta 0:00:06\n",
            "     ---- ----------------------------------- 0.3/2.4 MB 378.7 kB/s eta 0:00:06\n",
            "     ----- ---------------------------------- 0.3/2.4 MB 377.9 kB/s eta 0:00:06\n",
            "     ----- ---------------------------------- 0.4/2.4 MB 404.8 kB/s eta 0:00:06\n",
            "     ------ --------------------------------- 0.4/2.4 MB 429.0 kB/s eta 0:00:05\n",
            "     ------ --------------------------------- 0.4/2.4 MB 444.3 kB/s eta 0:00:05\n",
            "     ------- -------------------------------- 0.5/2.4 MB 454.4 kB/s eta 0:00:05\n",
            "     ------- -------------------------------- 0.5/2.4 MB 471.0 kB/s eta 0:00:05\n",
            "     -------- ------------------------------- 0.5/2.4 MB 489.0 kB/s eta 0:00:04\n",
            "     --------- ------------------------------ 0.6/2.4 MB 505.4 kB/s eta 0:00:04\n",
            "     ---------- ----------------------------- 0.6/2.4 MB 529.5 kB/s eta 0:00:04\n",
            "     ----------- ---------------------------- 0.7/2.4 MB 551.6 kB/s eta 0:00:04\n",
            "     ------------ --------------------------- 0.7/2.4 MB 580.4 kB/s eta 0:00:03\n",
            "     ------------- -------------------------- 0.8/2.4 MB 615.0 kB/s eta 0:00:03\n",
            "     -------------- ------------------------- 0.9/2.4 MB 662.9 kB/s eta 0:00:03\n",
            "     --------------- ------------------------ 0.9/2.4 MB 685.2 kB/s eta 0:00:03\n",
            "     ----------------- ---------------------- 1.0/2.4 MB 743.5 kB/s eta 0:00:02\n",
            "     ------------------ --------------------- 1.1/2.4 MB 783.3 kB/s eta 0:00:02\n",
            "     -------------------- ------------------- 1.2/2.4 MB 827.5 kB/s eta 0:00:02\n",
            "     ---------------------- ----------------- 1.4/2.4 MB 884.9 kB/s eta 0:00:02\n",
            "     ------------------------ --------------- 1.5/2.4 MB 939.9 kB/s eta 0:00:02\n",
            "     --------------------------- ------------ 1.6/2.4 MB 1.0 MB/s eta 0:00:01\n",
            "     ------------------------------ --------- 1.8/2.4 MB 1.1 MB/s eta 0:00:01\n",
            "     -------------------------------- ------- 2.0/2.4 MB 1.2 MB/s eta 0:00:01\n",
            "     ----------------------------------- ---- 2.2/2.4 MB 1.3 MB/s eta 0:00:01\n",
            "     ---------------------------------------  2.4/2.4 MB 1.4 MB/s eta 0:00:01\n",
            "     ---------------------------------------- 2.4/2.4 MB 1.4 MB/s eta 0:00:00\n",
            "Requirement already satisfied: filelock in c:\\users\\administrator\\appdata\\local\\programs\\python\\python312\\lib\\site-packages (from torch) (3.16.1)\n",
            "Requirement already satisfied: typing-extensions>=4.8.0 in c:\\users\\administrator\\appdata\\local\\programs\\python\\python312\\lib\\site-packages (from torch) (4.12.2)\n",
            "Requirement already satisfied: networkx in c:\\users\\administrator\\appdata\\local\\programs\\python\\python312\\lib\\site-packages (from torch) (3.3)\n",
            "Requirement already satisfied: jinja2 in c:\\users\\administrator\\appdata\\local\\programs\\python\\python312\\lib\\site-packages (from torch) (3.1.3)\n",
            "Requirement already satisfied: fsspec in c:\\users\\administrator\\appdata\\local\\programs\\python\\python312\\lib\\site-packages (from torch) (2024.10.0)\n",
            "Requirement already satisfied: setuptools in c:\\users\\administrator\\appdata\\local\\programs\\python\\python312\\lib\\site-packages (from torch) (70.0.0)\n",
            "Requirement already satisfied: sympy==1.13.1 in c:\\users\\administrator\\appdata\\local\\programs\\python\\python312\\lib\\site-packages (from torch) (1.13.1)\n",
            "Requirement already satisfied: mpmath<1.4,>=1.1.0 in c:\\users\\administrator\\appdata\\local\\programs\\python\\python312\\lib\\site-packages (from sympy==1.13.1->torch) (1.3.0)\n",
            "Requirement already satisfied: numpy in c:\\users\\administrator\\appdata\\local\\programs\\python\\python312\\lib\\site-packages (from torchvision) (1.26.4)\n",
            "Requirement already satisfied: pillow!=8.3.*,>=5.3.0 in c:\\users\\administrator\\appdata\\local\\programs\\python\\python312\\lib\\site-packages (from torchvision) (10.3.0)\n",
            "Requirement already satisfied: MarkupSafe>=2.0 in c:\\users\\administrator\\appdata\\local\\programs\\python\\python312\\lib\\site-packages (from jinja2->torch) (2.1.5)\n",
            "Installing collected packages: torchvision, torchaudio\n",
            "Successfully installed torchaudio-2.5.1+cpu torchvision-0.20.1+cpu\n",
            "Note: you may need to restart the kernel to use updated packages.\n"
          ]
        },
        {
          "name": "stderr",
          "output_type": "stream",
          "text": [
            "\n",
            "[notice] A new release of pip is available: 24.0 -> 24.3.1\n",
            "[notice] To update, run: python.exe -m pip install --upgrade pip\n"
          ]
        }
      ],
      "source": [
        "pip install torch torchvision torchaudio --index-url https://download.pytorch.org/whl/cpu\n"
      ]
    },
    {
      "cell_type": "code",
      "execution_count": 53,
      "metadata": {},
      "outputs": [
        {
          "name": "stdout",
          "output_type": "stream",
          "text": [
            "Requirement already satisfied: transformers in c:\\users\\administrator\\appdata\\local\\programs\\python\\python312\\lib\\site-packages (4.47.0)\n",
            "Requirement already satisfied: filelock in c:\\users\\administrator\\appdata\\local\\programs\\python\\python312\\lib\\site-packages (from transformers) (3.16.1)\n",
            "Requirement already satisfied: huggingface-hub<1.0,>=0.24.0 in c:\\users\\administrator\\appdata\\local\\programs\\python\\python312\\lib\\site-packages (from transformers) (0.26.5)\n",
            "Requirement already satisfied: numpy>=1.17 in c:\\users\\administrator\\appdata\\local\\programs\\python\\python312\\lib\\site-packages (from transformers) (1.26.4)\n",
            "Requirement already satisfied: packaging>=20.0 in c:\\users\\administrator\\appdata\\roaming\\python\\python312\\site-packages (from transformers) (24.0)\n",
            "Requirement already satisfied: pyyaml>=5.1 in c:\\users\\administrator\\appdata\\local\\programs\\python\\python312\\lib\\site-packages (from transformers) (6.0.1)\n",
            "Requirement already satisfied: regex!=2019.12.17 in c:\\users\\administrator\\appdata\\local\\programs\\python\\python312\\lib\\site-packages (from transformers) (2024.9.11)\n",
            "Requirement already satisfied: requests in c:\\users\\administrator\\appdata\\local\\programs\\python\\python312\\lib\\site-packages (from transformers) (2.32.3)\n",
            "Requirement already satisfied: tokenizers<0.22,>=0.21 in c:\\users\\administrator\\appdata\\local\\programs\\python\\python312\\lib\\site-packages (from transformers) (0.21.0)\n",
            "Requirement already satisfied: safetensors>=0.4.1 in c:\\users\\administrator\\appdata\\local\\programs\\python\\python312\\lib\\site-packages (from transformers) (0.4.5)\n",
            "Requirement already satisfied: tqdm>=4.27 in c:\\users\\administrator\\appdata\\local\\programs\\python\\python312\\lib\\site-packages (from transformers) (4.66.5)\n",
            "Requirement already satisfied: fsspec>=2023.5.0 in c:\\users\\administrator\\appdata\\local\\programs\\python\\python312\\lib\\site-packages (from huggingface-hub<1.0,>=0.24.0->transformers) (2024.10.0)\n",
            "Requirement already satisfied: typing-extensions>=3.7.4.3 in c:\\users\\administrator\\appdata\\local\\programs\\python\\python312\\lib\\site-packages (from huggingface-hub<1.0,>=0.24.0->transformers) (4.12.2)\n",
            "Requirement already satisfied: colorama in c:\\users\\administrator\\appdata\\roaming\\python\\python312\\site-packages (from tqdm>=4.27->transformers) (0.4.6)\n",
            "Requirement already satisfied: charset-normalizer<4,>=2 in c:\\users\\administrator\\appdata\\local\\programs\\python\\python312\\lib\\site-packages (from requests->transformers) (3.3.2)\n",
            "Requirement already satisfied: idna<4,>=2.5 in c:\\users\\administrator\\appdata\\local\\programs\\python\\python312\\lib\\site-packages (from requests->transformers) (3.7)\n",
            "Requirement already satisfied: urllib3<3,>=1.21.1 in c:\\users\\administrator\\appdata\\local\\programs\\python\\python312\\lib\\site-packages (from requests->transformers) (2.2.1)\n",
            "Requirement already satisfied: certifi>=2017.4.17 in c:\\users\\administrator\\appdata\\local\\programs\\python\\python312\\lib\\site-packages (from requests->transformers) (2024.6.2)\n",
            "Note: you may need to restart the kernel to use updated packages.\n"
          ]
        },
        {
          "name": "stderr",
          "output_type": "stream",
          "text": [
            "\n",
            "[notice] A new release of pip is available: 24.0 -> 24.3.1\n",
            "[notice] To update, run: python.exe -m pip install --upgrade pip\n"
          ]
        }
      ],
      "source": [
        "pip install transformers\n"
      ]
    },
    {
      "cell_type": "code",
      "execution_count": 56,
      "metadata": {},
      "outputs": [
        {
          "name": "stderr",
          "output_type": "stream",
          "text": [
            "c:\\Users\\Administrator\\AppData\\Local\\Programs\\Python\\Python312\\Lib\\site-packages\\keras\\src\\layers\\core\\embedding.py:90: UserWarning: Argument `input_length` is deprecated. Just remove it.\n",
            "  warnings.warn(\n"
          ]
        },
        {
          "data": {
            "text/html": [
              "<pre style=\"white-space:pre;overflow-x:auto;line-height:normal;font-family:Menlo,'DejaVu Sans Mono',consolas,'Courier New',monospace\"><span style=\"font-weight: bold\">Model: \"sequential_2\"</span>\n",
              "</pre>\n"
            ],
            "text/plain": [
              "\u001b[1mModel: \"sequential_2\"\u001b[0m\n"
            ]
          },
          "metadata": {},
          "output_type": "display_data"
        },
        {
          "data": {
            "text/html": [
              "<pre style=\"white-space:pre;overflow-x:auto;line-height:normal;font-family:Menlo,'DejaVu Sans Mono',consolas,'Courier New',monospace\">┏━━━━━━━━━━━━━━━━━━━━━━━━━━━━━━━━━┳━━━━━━━━━━━━━━━━━━━━━━━━┳━━━━━━━━━━━━━━━┓\n",
              "┃<span style=\"font-weight: bold\"> Layer (type)                    </span>┃<span style=\"font-weight: bold\"> Output Shape           </span>┃<span style=\"font-weight: bold\">       Param # </span>┃\n",
              "┡━━━━━━━━━━━━━━━━━━━━━━━━━━━━━━━━━╇━━━━━━━━━━━━━━━━━━━━━━━━╇━━━━━━━━━━━━━━━┩\n",
              "│ embedding_2 (<span style=\"color: #0087ff; text-decoration-color: #0087ff\">Embedding</span>)         │ (<span style=\"color: #00d7ff; text-decoration-color: #00d7ff\">None</span>, <span style=\"color: #00af00; text-decoration-color: #00af00\">50</span>, <span style=\"color: #00af00; text-decoration-color: #00af00\">100</span>)        │       <span style=\"color: #00af00; text-decoration-color: #00af00\">496,500</span> │\n",
              "├─────────────────────────────────┼────────────────────────┼───────────────┤\n",
              "│ bidirectional_4 (<span style=\"color: #0087ff; text-decoration-color: #0087ff\">Bidirectional</span>) │ (<span style=\"color: #00d7ff; text-decoration-color: #00d7ff\">None</span>, <span style=\"color: #00af00; text-decoration-color: #00af00\">50</span>, <span style=\"color: #00af00; text-decoration-color: #00af00\">256</span>)        │       <span style=\"color: #00af00; text-decoration-color: #00af00\">234,496</span> │\n",
              "├─────────────────────────────────┼────────────────────────┼───────────────┤\n",
              "│ batch_normalization_2           │ (<span style=\"color: #00d7ff; text-decoration-color: #00d7ff\">None</span>, <span style=\"color: #00af00; text-decoration-color: #00af00\">50</span>, <span style=\"color: #00af00; text-decoration-color: #00af00\">256</span>)        │         <span style=\"color: #00af00; text-decoration-color: #00af00\">1,024</span> │\n",
              "│ (<span style=\"color: #0087ff; text-decoration-color: #0087ff\">BatchNormalization</span>)            │                        │               │\n",
              "├─────────────────────────────────┼────────────────────────┼───────────────┤\n",
              "│ dropout_4 (<span style=\"color: #0087ff; text-decoration-color: #0087ff\">Dropout</span>)             │ (<span style=\"color: #00d7ff; text-decoration-color: #00d7ff\">None</span>, <span style=\"color: #00af00; text-decoration-color: #00af00\">50</span>, <span style=\"color: #00af00; text-decoration-color: #00af00\">256</span>)        │             <span style=\"color: #00af00; text-decoration-color: #00af00\">0</span> │\n",
              "├─────────────────────────────────┼────────────────────────┼───────────────┤\n",
              "│ bidirectional_5 (<span style=\"color: #0087ff; text-decoration-color: #0087ff\">Bidirectional</span>) │ (<span style=\"color: #00d7ff; text-decoration-color: #00d7ff\">None</span>, <span style=\"color: #00af00; text-decoration-color: #00af00\">128</span>)            │       <span style=\"color: #00af00; text-decoration-color: #00af00\">164,352</span> │\n",
              "├─────────────────────────────────┼────────────────────────┼───────────────┤\n",
              "│ batch_normalization_3           │ (<span style=\"color: #00d7ff; text-decoration-color: #00d7ff\">None</span>, <span style=\"color: #00af00; text-decoration-color: #00af00\">128</span>)            │           <span style=\"color: #00af00; text-decoration-color: #00af00\">512</span> │\n",
              "│ (<span style=\"color: #0087ff; text-decoration-color: #0087ff\">BatchNormalization</span>)            │                        │               │\n",
              "├─────────────────────────────────┼────────────────────────┼───────────────┤\n",
              "│ dropout_5 (<span style=\"color: #0087ff; text-decoration-color: #0087ff\">Dropout</span>)             │ (<span style=\"color: #00d7ff; text-decoration-color: #00d7ff\">None</span>, <span style=\"color: #00af00; text-decoration-color: #00af00\">128</span>)            │             <span style=\"color: #00af00; text-decoration-color: #00af00\">0</span> │\n",
              "├─────────────────────────────────┼────────────────────────┼───────────────┤\n",
              "│ dense_4 (<span style=\"color: #0087ff; text-decoration-color: #0087ff\">Dense</span>)                 │ (<span style=\"color: #00d7ff; text-decoration-color: #00d7ff\">None</span>, <span style=\"color: #00af00; text-decoration-color: #00af00\">256</span>)            │        <span style=\"color: #00af00; text-decoration-color: #00af00\">33,024</span> │\n",
              "├─────────────────────────────────┼────────────────────────┼───────────────┤\n",
              "│ dropout_6 (<span style=\"color: #0087ff; text-decoration-color: #0087ff\">Dropout</span>)             │ (<span style=\"color: #00d7ff; text-decoration-color: #00d7ff\">None</span>, <span style=\"color: #00af00; text-decoration-color: #00af00\">256</span>)            │             <span style=\"color: #00af00; text-decoration-color: #00af00\">0</span> │\n",
              "├─────────────────────────────────┼────────────────────────┼───────────────┤\n",
              "│ dense_5 (<span style=\"color: #0087ff; text-decoration-color: #0087ff\">Dense</span>)                 │ (<span style=\"color: #00d7ff; text-decoration-color: #00d7ff\">None</span>, <span style=\"color: #00af00; text-decoration-color: #00af00\">7</span>)              │         <span style=\"color: #00af00; text-decoration-color: #00af00\">1,799</span> │\n",
              "└─────────────────────────────────┴────────────────────────┴───────────────┘\n",
              "</pre>\n"
            ],
            "text/plain": [
              "┏━━━━━━━━━━━━━━━━━━━━━━━━━━━━━━━━━┳━━━━━━━━━━━━━━━━━━━━━━━━┳━━━━━━━━━━━━━━━┓\n",
              "┃\u001b[1m \u001b[0m\u001b[1mLayer (type)                   \u001b[0m\u001b[1m \u001b[0m┃\u001b[1m \u001b[0m\u001b[1mOutput Shape          \u001b[0m\u001b[1m \u001b[0m┃\u001b[1m \u001b[0m\u001b[1m      Param #\u001b[0m\u001b[1m \u001b[0m┃\n",
              "┡━━━━━━━━━━━━━━━━━━━━━━━━━━━━━━━━━╇━━━━━━━━━━━━━━━━━━━━━━━━╇━━━━━━━━━━━━━━━┩\n",
              "│ embedding_2 (\u001b[38;5;33mEmbedding\u001b[0m)         │ (\u001b[38;5;45mNone\u001b[0m, \u001b[38;5;34m50\u001b[0m, \u001b[38;5;34m100\u001b[0m)        │       \u001b[38;5;34m496,500\u001b[0m │\n",
              "├─────────────────────────────────┼────────────────────────┼───────────────┤\n",
              "│ bidirectional_4 (\u001b[38;5;33mBidirectional\u001b[0m) │ (\u001b[38;5;45mNone\u001b[0m, \u001b[38;5;34m50\u001b[0m, \u001b[38;5;34m256\u001b[0m)        │       \u001b[38;5;34m234,496\u001b[0m │\n",
              "├─────────────────────────────────┼────────────────────────┼───────────────┤\n",
              "│ batch_normalization_2           │ (\u001b[38;5;45mNone\u001b[0m, \u001b[38;5;34m50\u001b[0m, \u001b[38;5;34m256\u001b[0m)        │         \u001b[38;5;34m1,024\u001b[0m │\n",
              "│ (\u001b[38;5;33mBatchNormalization\u001b[0m)            │                        │               │\n",
              "├─────────────────────────────────┼────────────────────────┼───────────────┤\n",
              "│ dropout_4 (\u001b[38;5;33mDropout\u001b[0m)             │ (\u001b[38;5;45mNone\u001b[0m, \u001b[38;5;34m50\u001b[0m, \u001b[38;5;34m256\u001b[0m)        │             \u001b[38;5;34m0\u001b[0m │\n",
              "├─────────────────────────────────┼────────────────────────┼───────────────┤\n",
              "│ bidirectional_5 (\u001b[38;5;33mBidirectional\u001b[0m) │ (\u001b[38;5;45mNone\u001b[0m, \u001b[38;5;34m128\u001b[0m)            │       \u001b[38;5;34m164,352\u001b[0m │\n",
              "├─────────────────────────────────┼────────────────────────┼───────────────┤\n",
              "│ batch_normalization_3           │ (\u001b[38;5;45mNone\u001b[0m, \u001b[38;5;34m128\u001b[0m)            │           \u001b[38;5;34m512\u001b[0m │\n",
              "│ (\u001b[38;5;33mBatchNormalization\u001b[0m)            │                        │               │\n",
              "├─────────────────────────────────┼────────────────────────┼───────────────┤\n",
              "│ dropout_5 (\u001b[38;5;33mDropout\u001b[0m)             │ (\u001b[38;5;45mNone\u001b[0m, \u001b[38;5;34m128\u001b[0m)            │             \u001b[38;5;34m0\u001b[0m │\n",
              "├─────────────────────────────────┼────────────────────────┼───────────────┤\n",
              "│ dense_4 (\u001b[38;5;33mDense\u001b[0m)                 │ (\u001b[38;5;45mNone\u001b[0m, \u001b[38;5;34m256\u001b[0m)            │        \u001b[38;5;34m33,024\u001b[0m │\n",
              "├─────────────────────────────────┼────────────────────────┼───────────────┤\n",
              "│ dropout_6 (\u001b[38;5;33mDropout\u001b[0m)             │ (\u001b[38;5;45mNone\u001b[0m, \u001b[38;5;34m256\u001b[0m)            │             \u001b[38;5;34m0\u001b[0m │\n",
              "├─────────────────────────────────┼────────────────────────┼───────────────┤\n",
              "│ dense_5 (\u001b[38;5;33mDense\u001b[0m)                 │ (\u001b[38;5;45mNone\u001b[0m, \u001b[38;5;34m7\u001b[0m)              │         \u001b[38;5;34m1,799\u001b[0m │\n",
              "└─────────────────────────────────┴────────────────────────┴───────────────┘\n"
            ]
          },
          "metadata": {},
          "output_type": "display_data"
        },
        {
          "data": {
            "text/html": [
              "<pre style=\"white-space:pre;overflow-x:auto;line-height:normal;font-family:Menlo,'DejaVu Sans Mono',consolas,'Courier New',monospace\"><span style=\"font-weight: bold\"> Total params: </span><span style=\"color: #00af00; text-decoration-color: #00af00\">931,707</span> (3.55 MB)\n",
              "</pre>\n"
            ],
            "text/plain": [
              "\u001b[1m Total params: \u001b[0m\u001b[38;5;34m931,707\u001b[0m (3.55 MB)\n"
            ]
          },
          "metadata": {},
          "output_type": "display_data"
        },
        {
          "data": {
            "text/html": [
              "<pre style=\"white-space:pre;overflow-x:auto;line-height:normal;font-family:Menlo,'DejaVu Sans Mono',consolas,'Courier New',monospace\"><span style=\"font-weight: bold\"> Trainable params: </span><span style=\"color: #00af00; text-decoration-color: #00af00\">434,439</span> (1.66 MB)\n",
              "</pre>\n"
            ],
            "text/plain": [
              "\u001b[1m Trainable params: \u001b[0m\u001b[38;5;34m434,439\u001b[0m (1.66 MB)\n"
            ]
          },
          "metadata": {},
          "output_type": "display_data"
        },
        {
          "data": {
            "text/html": [
              "<pre style=\"white-space:pre;overflow-x:auto;line-height:normal;font-family:Menlo,'DejaVu Sans Mono',consolas,'Courier New',monospace\"><span style=\"font-weight: bold\"> Non-trainable params: </span><span style=\"color: #00af00; text-decoration-color: #00af00\">497,268</span> (1.90 MB)\n",
              "</pre>\n"
            ],
            "text/plain": [
              "\u001b[1m Non-trainable params: \u001b[0m\u001b[38;5;34m497,268\u001b[0m (1.90 MB)\n"
            ]
          },
          "metadata": {},
          "output_type": "display_data"
        },
        {
          "name": "stdout",
          "output_type": "stream",
          "text": [
            "Epoch 1/10\n",
            "\u001b[1m177/177\u001b[0m \u001b[32m━━━━━━━━━━━━━━━━━━━━\u001b[0m\u001b[37m\u001b[0m \u001b[1m10s\u001b[0m 33ms/step - accuracy: 0.2771 - loss: 1.9183 - val_accuracy: 0.4425 - val_loss: 1.6090\n",
            "Epoch 2/10\n",
            "\u001b[1m177/177\u001b[0m \u001b[32m━━━━━━━━━━━━━━━━━━━━\u001b[0m\u001b[37m\u001b[0m \u001b[1m6s\u001b[0m 31ms/step - accuracy: 0.4429 - loss: 1.5338 - val_accuracy: 0.4428 - val_loss: 1.5019\n",
            "Epoch 3/10\n",
            "\u001b[1m177/177\u001b[0m \u001b[32m━━━━━━━━━━━━━━━━━━━━\u001b[0m\u001b[37m\u001b[0m \u001b[1m6s\u001b[0m 32ms/step - accuracy: 0.5009 - loss: 1.3697 - val_accuracy: 0.4965 - val_loss: 1.3311\n",
            "Epoch 4/10\n",
            "\u001b[1m177/177\u001b[0m \u001b[32m━━━━━━━━━━━━━━━━━━━━\u001b[0m\u001b[37m\u001b[0m \u001b[1m7s\u001b[0m 38ms/step - accuracy: 0.5595 - loss: 1.2177 - val_accuracy: 0.5377 - val_loss: 1.2397\n",
            "Epoch 5/10\n",
            "\u001b[1m177/177\u001b[0m \u001b[32m━━━━━━━━━━━━━━━━━━━━\u001b[0m\u001b[37m\u001b[0m \u001b[1m6s\u001b[0m 32ms/step - accuracy: 0.6044 - loss: 1.1052 - val_accuracy: 0.5453 - val_loss: 1.2178\n",
            "Epoch 6/10\n",
            "\u001b[1m177/177\u001b[0m \u001b[32m━━━━━━━━━━━━━━━━━━━━\u001b[0m\u001b[37m\u001b[0m \u001b[1m5s\u001b[0m 30ms/step - accuracy: 0.6488 - loss: 0.9639 - val_accuracy: 0.6116 - val_loss: 1.0888\n",
            "Epoch 7/10\n",
            "\u001b[1m177/177\u001b[0m \u001b[32m━━━━━━━━━━━━━━━━━━━━\u001b[0m\u001b[37m\u001b[0m \u001b[1m6s\u001b[0m 31ms/step - accuracy: 0.6759 - loss: 0.9077 - val_accuracy: 0.5938 - val_loss: 1.1577\n",
            "Epoch 8/10\n",
            "\u001b[1m177/177\u001b[0m \u001b[32m━━━━━━━━━━━━━━━━━━━━\u001b[0m\u001b[37m\u001b[0m \u001b[1m5s\u001b[0m 30ms/step - accuracy: 0.7089 - loss: 0.8063 - val_accuracy: 0.6304 - val_loss: 1.0678\n",
            "Epoch 9/10\n",
            "\u001b[1m177/177\u001b[0m \u001b[32m━━━━━━━━━━━━━━━━━━━━\u001b[0m\u001b[37m\u001b[0m \u001b[1m5s\u001b[0m 31ms/step - accuracy: 0.7217 - loss: 0.7610 - val_accuracy: 0.6224 - val_loss: 1.1149\n",
            "Epoch 10/10\n",
            "\u001b[1m177/177\u001b[0m \u001b[32m━━━━━━━━━━━━━━━━━━━━\u001b[0m\u001b[37m\u001b[0m \u001b[1m5s\u001b[0m 30ms/step - accuracy: 0.7452 - loss: 0.6955 - val_accuracy: 0.6440 - val_loss: 1.0325\n",
            "\u001b[1m90/90\u001b[0m \u001b[32m━━━━━━━━━━━━━━━━━━━━\u001b[0m\u001b[37m\u001b[0m \u001b[1m1s\u001b[0m 9ms/step - accuracy: 0.5614 - loss: 1.3481\n",
            "Test Accuracy: 0.6440\n",
            "\u001b[1m90/90\u001b[0m \u001b[32m━━━━━━━━━━━━━━━━━━━━\u001b[0m\u001b[37m\u001b[0m \u001b[1m1s\u001b[0m 12ms/step\n"
          ]
        },
        {
          "name": "stderr",
          "output_type": "stream",
          "text": [
            "WARNING:absl:You are saving your model as an HDF5 file via `model.save()` or `keras.saving.save_model(model)`. This file format is considered legacy. We recommend using instead the native Keras format, e.g. `model.save('my_model.keras')` or `keras.saving.save_model(model, 'my_model.keras')`. \n"
          ]
        },
        {
          "name": "stdout",
          "output_type": "stream",
          "text": [
            "Classification Report:\n",
            "              precision    recall  f1-score   support\n",
            "\n",
            "    Surprise       0.36      0.73      0.48       104\n",
            "     Sadness       0.75      0.62      0.68       462\n",
            "     Disgust       0.64      0.55      0.59       521\n",
            "        Fear       0.74      0.85      0.79       177\n",
            "       Other       0.49      0.51      0.50       511\n",
            "   Enjoyment       0.73      0.70      0.72       906\n",
            "       Anger       0.67      0.81      0.73       187\n",
            "\n",
            "    accuracy                           0.64      2868\n",
            "   macro avg       0.63      0.68      0.64      2868\n",
            "weighted avg       0.66      0.64      0.65      2868\n",
            "\n"
          ]
        }
      ],
      "source": [
        "import numpy as np\n",
        "import pandas as pd\n",
        "import gensim\n",
        "import tensorflow as tf\n",
        "from tensorflow.keras.models import Sequential\n",
        "from tensorflow.keras.layers import LSTM, Dense, Dropout, Embedding, Bidirectional, Input, BatchNormalization\n",
        "from tensorflow.keras.utils import to_categorical\n",
        "from sklearn.metrics import classification_report\n",
        "\n",
        "# 1. Chuẩn bị dữ liệu\n",
        "\n",
        "# Tạo danh sách các câu từ tập huấn luyện\n",
        "training_sentences = train_df['Text'].tolist()\n",
        "\n",
        "# Tạo mô hình Word2Vec từ gensim\n",
        "word2vec_model = gensim.models.Word2Vec(training_sentences, vector_size=100, window=5, min_count=1, workers=4, epochs=100)\n",
        "\n",
        "# Tạo ma trận embedding\n",
        "vocab_size = len(word2vec_model.wv.index_to_key) + 1  # Thêm 1 cho padding token\n",
        "embedding_dimension = word2vec_model.vector_size  # Kích thước vector embedding\n",
        "embedding_matrix = np.zeros((vocab_size, embedding_dimension))\n",
        "\n",
        "word_index_mapping = {word: index for index, word in enumerate(word2vec_model.wv.index_to_key, start=1)}\n",
        "for word, index in word_index_mapping.items():\n",
        "    embedding_matrix[index] = word2vec_model.wv[word]\n",
        "\n",
        "# Hàm chuyển đổi câu thành danh sách số (dựa vào index trong Word2Vec)\n",
        "def convert_sentence_to_sequence(sentence, word_index_mapping, max_length):\n",
        "    sequence = [word_index_mapping.get(word, 0) for word in sentence]  # 0 nếu từ không có trong Word2Vec\n",
        "    return sequence[:max_length] + [0] * max(0, max_length - len(sequence))  # Padding\n",
        "\n",
        "# Định nghĩa độ dài tối đa của câu\n",
        "max_length = 50  # Có thể thay đổi tùy thuộc vào dữ liệu\n",
        "\n",
        "# Chuyển đổi tập huấn luyện và kiểm tra thành các sequence\n",
        "X_train_sequences = np.array([convert_sentence_to_sequence(sentence, word_index_mapping, max_length) for sentence in train_df['Text']])\n",
        "X_test_sequences = np.array([convert_sentence_to_sequence(sentence, word_index_mapping, max_length) for sentence in test_df['Text']])\n",
        "\n",
        "# Chuẩn bị nhãn\n",
        "y_train_labels = to_categorical(train_df['Emotion'].values, num_classes=len(emotion_to_num))\n",
        "y_test_labels = to_categorical(test_df['Emotion'].values, num_classes=len(emotion_to_num))\n",
        "\n",
        "# 2. Xây dựng mô hình LSTM\n",
        "lstm_model = Sequential([\n",
        "    Input(shape=(max_length,)),\n",
        "    Embedding(input_dim=vocab_size, output_dim=embedding_dimension, weights=[embedding_matrix], input_length=max_length, trainable=False),\n",
        "    Bidirectional(LSTM(128, return_sequences=True)),\n",
        "    BatchNormalization(),\n",
        "    Dropout(0.3),\n",
        "    Bidirectional(LSTM(64)),\n",
        "    BatchNormalization(),\n",
        "    Dropout(0.3),\n",
        "    Dense(256, activation='relu'),\n",
        "    Dropout(0.3),\n",
        "    Dense(len(emotion_to_num), activation='softmax')\n",
        "])\n",
        "\n",
        "lstm_model.compile(optimizer='adam', loss='categorical_crossentropy', metrics=['accuracy'])\n",
        "lstm_model.summary()\n",
        "\n",
        "# 3. Huấn luyện mô hình\n",
        "batch_size_value = 34\n",
        "epochs_value = 10\n",
        "\n",
        "training_history = lstm_model.fit(\n",
        "    X_train_sequences, y_train_labels,\n",
        "    validation_data=(X_test_sequences, y_test_labels),\n",
        "    batch_size=batch_size_value,\n",
        "    epochs=epochs_value,\n",
        "    verbose=1\n",
        ")\n",
        "\n",
        "loss_value, accuracy_value = lstm_model.evaluate(X_test_sequences, y_test_labels)\n",
        "print(f\"Test Accuracy: {accuracy_value:.4f}\")\n",
        "\n",
        "predicted_labels = lstm_model.predict(X_test_sequences)\n",
        "predicted_class_labels = np.argmax(predicted_labels, axis=1)\n",
        "true_class_labels = np.argmax(y_test_labels, axis=1)\n",
        "\n",
        "# Đảm bảo rằng num_to_emotion chứa các giá trị là chuỗi\n",
        "target_names = [str(num_to_emotion[key]) for key in sorted(num_to_emotion.keys())]\n",
        "\n",
        "print(\"Classification Report:\")\n",
        "print(classification_report(true_class_labels, predicted_class_labels, target_names=target_names))\n",
        "\n",
        "# 5. Lưu mô hình\n",
        "lstm_model.save(folder + '/lstm_e_model.h5')"
      ]
    },
    {
      "cell_type": "code",
      "execution_count": 140,
      "metadata": {},
      "outputs": [
        {
          "data": {
            "text/html": [
              "<pre style=\"white-space:pre;overflow-x:auto;line-height:normal;font-family:Menlo,'DejaVu Sans Mono',consolas,'Courier New',monospace\"><span style=\"font-weight: bold\">Model: \"sequential_4\"</span>\n",
              "</pre>\n"
            ],
            "text/plain": [
              "\u001b[1mModel: \"sequential_4\"\u001b[0m\n"
            ]
          },
          "metadata": {},
          "output_type": "display_data"
        },
        {
          "data": {
            "text/html": [
              "<pre style=\"white-space:pre;overflow-x:auto;line-height:normal;font-family:Menlo,'DejaVu Sans Mono',consolas,'Courier New',monospace\">┏━━━━━━━━━━━━━━━━━━━━━━━━━━━━━━━━━┳━━━━━━━━━━━━━━━━━━━━━━━━┳━━━━━━━━━━━━━━━┓\n",
              "┃<span style=\"font-weight: bold\"> Layer (type)                    </span>┃<span style=\"font-weight: bold\"> Output Shape           </span>┃<span style=\"font-weight: bold\">       Param # </span>┃\n",
              "┡━━━━━━━━━━━━━━━━━━━━━━━━━━━━━━━━━╇━━━━━━━━━━━━━━━━━━━━━━━━╇━━━━━━━━━━━━━━━┩\n",
              "│ dense_9 (<span style=\"color: #0087ff; text-decoration-color: #0087ff\">Dense</span>)                 │ (<span style=\"color: #00d7ff; text-decoration-color: #00d7ff\">None</span>, <span style=\"color: #00af00; text-decoration-color: #00af00\">128</span>)            │       <span style=\"color: #00af00; text-decoration-color: #00af00\">625,408</span> │\n",
              "├─────────────────────────────────┼────────────────────────┼───────────────┤\n",
              "│ dropout_9 (<span style=\"color: #0087ff; text-decoration-color: #0087ff\">Dropout</span>)             │ (<span style=\"color: #00d7ff; text-decoration-color: #00d7ff\">None</span>, <span style=\"color: #00af00; text-decoration-color: #00af00\">128</span>)            │             <span style=\"color: #00af00; text-decoration-color: #00af00\">0</span> │\n",
              "├─────────────────────────────────┼────────────────────────┼───────────────┤\n",
              "│ dense_10 (<span style=\"color: #0087ff; text-decoration-color: #0087ff\">Dense</span>)                │ (<span style=\"color: #00d7ff; text-decoration-color: #00d7ff\">None</span>, <span style=\"color: #00af00; text-decoration-color: #00af00\">64</span>)             │         <span style=\"color: #00af00; text-decoration-color: #00af00\">8,256</span> │\n",
              "├─────────────────────────────────┼────────────────────────┼───────────────┤\n",
              "│ dropout_10 (<span style=\"color: #0087ff; text-decoration-color: #0087ff\">Dropout</span>)            │ (<span style=\"color: #00d7ff; text-decoration-color: #00d7ff\">None</span>, <span style=\"color: #00af00; text-decoration-color: #00af00\">64</span>)             │             <span style=\"color: #00af00; text-decoration-color: #00af00\">0</span> │\n",
              "├─────────────────────────────────┼────────────────────────┼───────────────┤\n",
              "│ dense_11 (<span style=\"color: #0087ff; text-decoration-color: #0087ff\">Dense</span>)                │ (<span style=\"color: #00d7ff; text-decoration-color: #00d7ff\">None</span>, <span style=\"color: #00af00; text-decoration-color: #00af00\">7</span>)              │           <span style=\"color: #00af00; text-decoration-color: #00af00\">455</span> │\n",
              "└─────────────────────────────────┴────────────────────────┴───────────────┘\n",
              "</pre>\n"
            ],
            "text/plain": [
              "┏━━━━━━━━━━━━━━━━━━━━━━━━━━━━━━━━━┳━━━━━━━━━━━━━━━━━━━━━━━━┳━━━━━━━━━━━━━━━┓\n",
              "┃\u001b[1m \u001b[0m\u001b[1mLayer (type)                   \u001b[0m\u001b[1m \u001b[0m┃\u001b[1m \u001b[0m\u001b[1mOutput Shape          \u001b[0m\u001b[1m \u001b[0m┃\u001b[1m \u001b[0m\u001b[1m      Param #\u001b[0m\u001b[1m \u001b[0m┃\n",
              "┡━━━━━━━━━━━━━━━━━━━━━━━━━━━━━━━━━╇━━━━━━━━━━━━━━━━━━━━━━━━╇━━━━━━━━━━━━━━━┩\n",
              "│ dense_9 (\u001b[38;5;33mDense\u001b[0m)                 │ (\u001b[38;5;45mNone\u001b[0m, \u001b[38;5;34m128\u001b[0m)            │       \u001b[38;5;34m625,408\u001b[0m │\n",
              "├─────────────────────────────────┼────────────────────────┼───────────────┤\n",
              "│ dropout_9 (\u001b[38;5;33mDropout\u001b[0m)             │ (\u001b[38;5;45mNone\u001b[0m, \u001b[38;5;34m128\u001b[0m)            │             \u001b[38;5;34m0\u001b[0m │\n",
              "├─────────────────────────────────┼────────────────────────┼───────────────┤\n",
              "│ dense_10 (\u001b[38;5;33mDense\u001b[0m)                │ (\u001b[38;5;45mNone\u001b[0m, \u001b[38;5;34m64\u001b[0m)             │         \u001b[38;5;34m8,256\u001b[0m │\n",
              "├─────────────────────────────────┼────────────────────────┼───────────────┤\n",
              "│ dropout_10 (\u001b[38;5;33mDropout\u001b[0m)            │ (\u001b[38;5;45mNone\u001b[0m, \u001b[38;5;34m64\u001b[0m)             │             \u001b[38;5;34m0\u001b[0m │\n",
              "├─────────────────────────────────┼────────────────────────┼───────────────┤\n",
              "│ dense_11 (\u001b[38;5;33mDense\u001b[0m)                │ (\u001b[38;5;45mNone\u001b[0m, \u001b[38;5;34m7\u001b[0m)              │           \u001b[38;5;34m455\u001b[0m │\n",
              "└─────────────────────────────────┴────────────────────────┴───────────────┘\n"
            ]
          },
          "metadata": {},
          "output_type": "display_data"
        },
        {
          "data": {
            "text/html": [
              "<pre style=\"white-space:pre;overflow-x:auto;line-height:normal;font-family:Menlo,'DejaVu Sans Mono',consolas,'Courier New',monospace\"><span style=\"font-weight: bold\"> Total params: </span><span style=\"color: #00af00; text-decoration-color: #00af00\">634,119</span> (2.42 MB)\n",
              "</pre>\n"
            ],
            "text/plain": [
              "\u001b[1m Total params: \u001b[0m\u001b[38;5;34m634,119\u001b[0m (2.42 MB)\n"
            ]
          },
          "metadata": {},
          "output_type": "display_data"
        },
        {
          "data": {
            "text/html": [
              "<pre style=\"white-space:pre;overflow-x:auto;line-height:normal;font-family:Menlo,'DejaVu Sans Mono',consolas,'Courier New',monospace\"><span style=\"font-weight: bold\"> Trainable params: </span><span style=\"color: #00af00; text-decoration-color: #00af00\">634,119</span> (2.42 MB)\n",
              "</pre>\n"
            ],
            "text/plain": [
              "\u001b[1m Trainable params: \u001b[0m\u001b[38;5;34m634,119\u001b[0m (2.42 MB)\n"
            ]
          },
          "metadata": {},
          "output_type": "display_data"
        },
        {
          "data": {
            "text/html": [
              "<pre style=\"white-space:pre;overflow-x:auto;line-height:normal;font-family:Menlo,'DejaVu Sans Mono',consolas,'Courier New',monospace\"><span style=\"font-weight: bold\"> Non-trainable params: </span><span style=\"color: #00af00; text-decoration-color: #00af00\">0</span> (0.00 B)\n",
              "</pre>\n"
            ],
            "text/plain": [
              "\u001b[1m Non-trainable params: \u001b[0m\u001b[38;5;34m0\u001b[0m (0.00 B)\n"
            ]
          },
          "metadata": {},
          "output_type": "display_data"
        },
        {
          "name": "stdout",
          "output_type": "stream",
          "text": [
            "Epoch 1/10\n",
            "\u001b[1m177/177\u001b[0m \u001b[32m━━━━━━━━━━━━━━━━━━━━\u001b[0m\u001b[37m\u001b[0m \u001b[1m1s\u001b[0m 5ms/step - accuracy: 0.2444 - loss: 1.8881 - val_accuracy: 0.4637 - val_loss: 1.4927\n",
            "Epoch 2/10\n",
            "\u001b[1m177/177\u001b[0m \u001b[32m━━━━━━━━━━━━━━━━━━━━\u001b[0m\u001b[37m\u001b[0m \u001b[1m1s\u001b[0m 4ms/step - accuracy: 0.6211 - loss: 1.1614 - val_accuracy: 0.6799 - val_loss: 0.9963\n",
            "Epoch 3/10\n",
            "\u001b[1m177/177\u001b[0m \u001b[32m━━━━━━━━━━━━━━━━━━━━\u001b[0m\u001b[37m\u001b[0m \u001b[1m1s\u001b[0m 4ms/step - accuracy: 0.8338 - loss: 0.6194 - val_accuracy: 0.7106 - val_loss: 0.8463\n",
            "Epoch 4/10\n",
            "\u001b[1m177/177\u001b[0m \u001b[32m━━━━━━━━━━━━━━━━━━━━\u001b[0m\u001b[37m\u001b[0m \u001b[1m1s\u001b[0m 4ms/step - accuracy: 0.8922 - loss: 0.3875 - val_accuracy: 0.7538 - val_loss: 0.7667\n",
            "Epoch 5/10\n",
            "\u001b[1m177/177\u001b[0m \u001b[32m━━━━━━━━━━━━━━━━━━━━\u001b[0m\u001b[37m\u001b[0m \u001b[1m1s\u001b[0m 4ms/step - accuracy: 0.9331 - loss: 0.2583 - val_accuracy: 0.7528 - val_loss: 0.7988\n",
            "Epoch 6/10\n",
            "\u001b[1m177/177\u001b[0m \u001b[32m━━━━━━━━━━━━━━━━━━━━\u001b[0m\u001b[37m\u001b[0m \u001b[1m1s\u001b[0m 3ms/step - accuracy: 0.9456 - loss: 0.2113 - val_accuracy: 0.7580 - val_loss: 0.8216\n",
            "Epoch 7/10\n",
            "\u001b[1m177/177\u001b[0m \u001b[32m━━━━━━━━━━━━━━━━━━━━\u001b[0m\u001b[37m\u001b[0m \u001b[1m1s\u001b[0m 3ms/step - accuracy: 0.9572 - loss: 0.1636 - val_accuracy: 0.7605 - val_loss: 0.8634\n",
            "Epoch 8/10\n",
            "\u001b[1m177/177\u001b[0m \u001b[32m━━━━━━━━━━━━━━━━━━━━\u001b[0m\u001b[37m\u001b[0m \u001b[1m1s\u001b[0m 3ms/step - accuracy: 0.9620 - loss: 0.1310 - val_accuracy: 0.7580 - val_loss: 0.9166\n",
            "Epoch 9/10\n",
            "\u001b[1m177/177\u001b[0m \u001b[32m━━━━━━━━━━━━━━━━━━━━\u001b[0m\u001b[37m\u001b[0m \u001b[1m1s\u001b[0m 3ms/step - accuracy: 0.9661 - loss: 0.1160 - val_accuracy: 0.7629 - val_loss: 0.9685\n",
            "Epoch 10/10\n",
            "\u001b[1m177/177\u001b[0m \u001b[32m━━━━━━━━━━━━━━━━━━━━\u001b[0m\u001b[37m\u001b[0m \u001b[1m1s\u001b[0m 3ms/step - accuracy: 0.9686 - loss: 0.1061 - val_accuracy: 0.7643 - val_loss: 0.9857\n",
            "\u001b[1m90/90\u001b[0m \u001b[32m━━━━━━━━━━━━━━━━━━━━\u001b[0m\u001b[37m\u001b[0m \u001b[1m0s\u001b[0m 1ms/step - accuracy: 0.6138 - loss: 1.6443\n",
            "Test Accuracy: 0.7643\n",
            "\u001b[1m90/90\u001b[0m \u001b[32m━━━━━━━━━━━━━━━━━━━━\u001b[0m\u001b[37m\u001b[0m \u001b[1m0s\u001b[0m 1ms/step\n",
            "Classification Report:\n"
          ]
        },
        {
          "name": "stderr",
          "output_type": "stream",
          "text": [
            "WARNING:absl:You are saving your model as an HDF5 file via `model.save()` or `keras.saving.save_model(model)`. This file format is considered legacy. We recommend using instead the native Keras format, e.g. `model.save('my_model.keras')` or `keras.saving.save_model(model, 'my_model.keras')`. \n"
          ]
        },
        {
          "name": "stdout",
          "output_type": "stream",
          "text": [
            "              precision    recall  f1-score   support\n",
            "\n",
            "    Surprise       0.46      0.78      0.58       104\n",
            "     Sadness       0.78      0.78      0.78       462\n",
            "     Disgust       0.80      0.69      0.74       521\n",
            "        Fear       0.77      0.90      0.83       177\n",
            "       Other       0.69      0.66      0.68       511\n",
            "   Enjoyment       0.88      0.81      0.84       906\n",
            "       Anger       0.65      0.85      0.74       187\n",
            "\n",
            "    accuracy                           0.76      2868\n",
            "   macro avg       0.72      0.78      0.74      2868\n",
            "weighted avg       0.78      0.76      0.77      2868\n",
            "\n"
          ]
        }
      ],
      "source": [
        "import numpy as np\n",
        "import pandas as pd\n",
        "from sklearn.feature_extraction.text import TfidfVectorizer\n",
        "from tensorflow.keras.models import Sequential\n",
        "from tensorflow.keras.layers import Dense, Dropout, Input\n",
        "from tensorflow.keras.utils import to_categorical\n",
        "from sklearn.metrics import classification_report\n",
        "\n",
        "# 1. Chuẩn bị dữ liệu\n",
        "# Ensure that 'Text' columns contain strings and convert them to a list of strings\n",
        "training_sentences = train_df['Text'].astype(str).tolist()\n",
        "test_sentences = test_df['Text'].astype(str).tolist()\n",
        "\n",
        "# Tạo ma trận TF-IDF\n",
        "# tfidf_vectorizer = TfidfVectorizer(max_features=5000)  # Chọn số lượng đặc trưng tối đa\n",
        "tfidf_vectorizer = TfidfVectorizer() \n",
        "X_train_tfidf = tfidf_vectorizer.fit_transform(training_sentences).toarray()\n",
        "X_test_tfidf = tfidf_vectorizer.transform(test_sentences).toarray()\n",
        "\n",
        "# Chuẩn bị nhãn\n",
        "y_train_labels = to_categorical(train_df['Emotion'].values, num_classes=len(emotion_to_num))\n",
        "y_test_labels = to_categorical(test_df['Emotion'].values, num_classes=len(emotion_to_num))\n",
        "\n",
        "# 2. Xây dựng mô hình LSTM\n",
        "lstm_model = Sequential([\n",
        "    Input(shape=(X_train_tfidf.shape[1],)),  # Độ dài của đặc trưng TF-IDF\n",
        "    Dense(128, activation='relu'),  # Thay vì Embedding, dùng Dense layer\n",
        "    Dropout(0.3),\n",
        "    Dense(64, activation='relu'),\n",
        "    Dropout(0.3),\n",
        "    Dense(len(emotion_to_num), activation='softmax')\n",
        "])\n",
        "\n",
        "lstm_model.compile(optimizer='adam', loss='categorical_crossentropy', metrics=['accuracy'])\n",
        "lstm_model.summary()\n",
        "\n",
        "# 3. Huấn luyện mô hình\n",
        "batch_size_value = 34\n",
        "epochs_value = 10\n",
        "\n",
        "training_history = lstm_model.fit(\n",
        "    X_train_tfidf, y_train_labels,\n",
        "    validation_data=(X_test_tfidf, y_test_labels),\n",
        "    batch_size=batch_size_value,\n",
        "    epochs=epochs_value,\n",
        "    verbose=1\n",
        ")\n",
        "\n",
        "loss_value, accuracy_value = lstm_model.evaluate(X_test_tfidf, y_test_labels)\n",
        "print(f\"Test Accuracy: {accuracy_value:.4f}\")\n",
        "\n",
        "predicted_labels = lstm_model.predict(X_test_tfidf)\n",
        "predicted_class_labels = np.argmax(predicted_labels, axis=1)\n",
        "true_class_labels = np.argmax(y_test_labels, axis=1)\n",
        "\n",
        "# Đảm bảo rằng num_to_emotion chứa các giá trị là chuỗi\n",
        "target_names = [str(num_to_emotion[key]) for key in sorted(num_to_emotion.keys())]\n",
        "\n",
        "print(\"Classification Report:\")\n",
        "print(classification_report(true_class_labels, predicted_class_labels, target_names=target_names))\n",
        "\n",
        "# 5. Lưu mô hình\n",
        "lstm_model.save(folder + '/lstm_tfidf_model.h5')"
      ]
    },
    {
      "cell_type": "markdown",
      "metadata": {},
      "source": [
        "Test - W2V"
      ]
    },
    {
      "cell_type": "code",
      "execution_count": 143,
      "metadata": {},
      "outputs": [
        {
          "name": "stderr",
          "output_type": "stream",
          "text": [
            "WARNING:absl:Compiled the loaded model, but the compiled metrics have yet to be built. `model.compile_metrics` will be empty until you train or evaluate the model.\n"
          ]
        },
        {
          "name": "stdout",
          "output_type": "stream",
          "text": [
            "\u001b[1m1/1\u001b[0m \u001b[32m━━━━━━━━━━━━━━━━━━━━\u001b[0m\u001b[37m\u001b[0m \u001b[1m0s\u001b[0m 316ms/step\n",
            "Kết quả dự đoán cho câu 'Nay ra đường khoác áo MU như mặc long bào' là: Suprise\n",
            "Các xác suất cảm xúc: [[8.3742372e-04 3.0886725e-01 1.5970694e-01 4.4206776e-05 3.2757962e-01\n",
            "  2.0276776e-01 1.9673341e-04]]\n"
          ]
        }
      ],
      "source": [
        "from keras.models import load_model\n",
        "from keras.preprocessing.sequence import pad_sequences\n",
        "# Bước 1: Định nghĩa câu cần kiểm tra\n",
        "input_sentence = \"Nay ra đường khoác áo MU như mặc long bào\"  # Thay đổi câu theo ý bạn\n",
        "\n",
        "# Bước 2: Tiền xử lý câu\n",
        "tokenized_sentence = tokenize(input_sentence)\n",
        "tokenized_sentence = remove_stopwords(tokenized_sentence)\n",
        "\n",
        "# Bước 3: Chuyển đổi thành sequence\n",
        "sequence = convert_sentence_to_sequence(tokenized_sentence, word_index_mapping, max_length)\n",
        "\n",
        "# Bước 4: Chuyển đổi thành ma trận 2D cho mô hình\n",
        "padded_sequence = pad_sequences([sequence], maxlen=max_length)\n",
        "\n",
        "# Bước 5: Tải mô hình\n",
        "model = load_model(folder + '/lstm_e_model.h5')  # Thay thế bằng đường dẫn thực tế\n",
        "\n",
        "# Bước 6: Dự đoán\n",
        "prediction = model.predict(padded_sequence)\n",
        "predicted_class = np.argmax(prediction)\n",
        "\n",
        "# Bước 7: Hiển thị kết quả\n",
        "emotion_labels = [\"Disgust\", \"Sadness\", \"Anger\", \"Fear\",\"Suprise\",\"Enjoyment\", \"Other\"]  # Thay đổi theo nhãn của bạn\n",
        "print(f\"Kết quả dự đoán cho câu '{input_sentence}' là: {emotion_labels[predicted_class]}\")\n",
        "print(f\"Các xác suất cảm xúc: {prediction}\")"
      ]
    },
    {
      "cell_type": "markdown",
      "metadata": {},
      "source": [
        "Test TF-IDF"
      ]
    },
    {
      "cell_type": "code",
      "execution_count": 144,
      "metadata": {},
      "outputs": [
        {
          "name": "stderr",
          "output_type": "stream",
          "text": [
            "WARNING:absl:Compiled the loaded model, but the compiled metrics have yet to be built. `model.compile_metrics` will be empty until you train or evaluate the model.\n"
          ]
        },
        {
          "name": "stdout",
          "output_type": "stream",
          "text": [
            "\u001b[1m1/1\u001b[0m \u001b[32m━━━━━━━━━━━━━━━━━━━━\u001b[0m\u001b[37m\u001b[0m \u001b[1m0s\u001b[0m 36ms/step\n",
            "Kết quả dự đoán cho câu 'Nay ra đường khoác áo MU như mặc long bào' là: Enjoyment\n",
            "Các xác suất cảm xúc: [[6.8363912e-02 2.2485485e-02 5.6895792e-02 2.2323897e-04 4.7562782e-02\n",
            "  8.0247259e-01 1.9961153e-03]]\n"
          ]
        }
      ],
      "source": [
        "from sklearn.feature_extraction.text import TfidfVectorizer\n",
        "import numpy as np\n",
        "\n",
        "# Bước 1: Định nghĩa câu cần kiểm tra\n",
        "input_sentence = \"Nay ra đường khoác áo MU như mặc long bào\"\n",
        "# Bước 2: Tiền xử lý câu\n",
        "# Giả sử bạn có các hàm preprocess như tokenize và remove_stopwords\n",
        "tokenized_sentence = tokenize(input_sentence)  # Tokenize câu\n",
        "tokenized_sentence = remove_stopwords(tokenized_sentence)  # Loại bỏ stopwords\n",
        "\n",
        "# Bước 3: Chuyển đổi danh sách từ thành chuỗi\n",
        "preprocessed_sentence = ' '.join(tokenized_sentence)\n",
        "\n",
        "# Bước 4: Tải mô hình TF-IDF\n",
        "tfidf_vectorizer = TfidfVectorizer(max_features=5000)  # Sử dụng cùng số lượng đặc trưng như trước\n",
        "tfidf_vectorizer.fit(train_df['Text'].astype(str).tolist())  # Huấn luyện TF-IDF trên tập huấn luyện\n",
        "\n",
        "# Chuyển đổi câu đã tiền xử lý thành vector TF-IDF\n",
        "input_tfidf = tfidf_vectorizer.transform([preprocessed_sentence]).toarray()\n",
        "\n",
        "# Bước 5: Tải mô hình\n",
        "model = load_model(folder + '/lstm_tfidf_model.h5')  # Thay thế bằng đường dẫn thực tế\n",
        "\n",
        "# Bước 6: Dự đoán\n",
        "prediction = model.predict(input_tfidf)\n",
        "predicted_class = np.argmax(prediction)\n",
        "\n",
        "# Bước 7: Hiển thị kết quả\n",
        "emotion_labels = [\"Anger\", \"Sadness\", \"Disgust\", \"Fear\", \"Suprise\", \"Enjoyment\", \"Other\"]  # Thay đổi theo nhãn của bạn\n",
        "print(f\"Kết quả dự đoán cho câu '{input_sentence}' là: {emotion_labels[predicted_class]}\")\n",
        "print(f\"Các xác suất cảm xúc: {prediction}\")"
      ]
    }
  ],
  "metadata": {
    "colab": {
      "provenance": []
    },
    "kernelspec": {
      "display_name": "Python 3",
      "name": "python3"
    },
    "language_info": {
      "codemirror_mode": {
        "name": "ipython",
        "version": 3
      },
      "file_extension": ".py",
      "mimetype": "text/x-python",
      "name": "python",
      "nbconvert_exporter": "python",
      "pygments_lexer": "ipython3",
      "version": "3.12.3"
    }
  },
  "nbformat": 4,
  "nbformat_minor": 0
}
